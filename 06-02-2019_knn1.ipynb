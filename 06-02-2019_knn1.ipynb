{
 "cells": [
  {
   "cell_type": "code",
   "execution_count": 2,
   "metadata": {},
   "outputs": [],
   "source": [
    "from sklearn.neighbors import KNeighborsClassifier"
   ]
  },
  {
   "cell_type": "code",
   "execution_count": 3,
   "metadata": {
    "collapsed": true
   },
   "outputs": [
    {
     "name": "stdout",
     "output_type": "stream",
     "text": [
      "Help on class KNeighborsClassifier in module sklearn.neighbors.classification:\n",
      "\n",
      "class KNeighborsClassifier(sklearn.neighbors.base.NeighborsBase, sklearn.neighbors.base.KNeighborsMixin, sklearn.neighbors.base.SupervisedIntegerMixin, sklearn.base.ClassifierMixin)\n",
      " |  KNeighborsClassifier(n_neighbors=5, weights='uniform', algorithm='auto', leaf_size=30, p=2, metric='minkowski', metric_params=None, n_jobs=None, **kwargs)\n",
      " |  \n",
      " |  Classifier implementing the k-nearest neighbors vote.\n",
      " |  \n",
      " |  Read more in the :ref:`User Guide <classification>`.\n",
      " |  \n",
      " |  Parameters\n",
      " |  ----------\n",
      " |  n_neighbors : int, optional (default = 5)\n",
      " |      Number of neighbors to use by default for :meth:`kneighbors` queries.\n",
      " |  \n",
      " |  weights : str or callable, optional (default = 'uniform')\n",
      " |      weight function used in prediction.  Possible values:\n",
      " |  \n",
      " |      - 'uniform' : uniform weights.  All points in each neighborhood\n",
      " |        are weighted equally.\n",
      " |      - 'distance' : weight points by the inverse of their distance.\n",
      " |        in this case, closer neighbors of a query point will have a\n",
      " |        greater influence than neighbors which are further away.\n",
      " |      - [callable] : a user-defined function which accepts an\n",
      " |        array of distances, and returns an array of the same shape\n",
      " |        containing the weights.\n",
      " |  \n",
      " |  algorithm : {'auto', 'ball_tree', 'kd_tree', 'brute'}, optional\n",
      " |      Algorithm used to compute the nearest neighbors:\n",
      " |  \n",
      " |      - 'ball_tree' will use :class:`BallTree`\n",
      " |      - 'kd_tree' will use :class:`KDTree`\n",
      " |      - 'brute' will use a brute-force search.\n",
      " |      - 'auto' will attempt to decide the most appropriate algorithm\n",
      " |        based on the values passed to :meth:`fit` method.\n",
      " |  \n",
      " |      Note: fitting on sparse input will override the setting of\n",
      " |      this parameter, using brute force.\n",
      " |  \n",
      " |  leaf_size : int, optional (default = 30)\n",
      " |      Leaf size passed to BallTree or KDTree.  This can affect the\n",
      " |      speed of the construction and query, as well as the memory\n",
      " |      required to store the tree.  The optimal value depends on the\n",
      " |      nature of the problem.\n",
      " |  \n",
      " |  p : integer, optional (default = 2)\n",
      " |      Power parameter for the Minkowski metric. When p = 1, this is\n",
      " |      equivalent to using manhattan_distance (l1), and euclidean_distance\n",
      " |      (l2) for p = 2. For arbitrary p, minkowski_distance (l_p) is used.\n",
      " |  \n",
      " |  metric : string or callable, default 'minkowski'\n",
      " |      the distance metric to use for the tree.  The default metric is\n",
      " |      minkowski, and with p=2 is equivalent to the standard Euclidean\n",
      " |      metric. See the documentation of the DistanceMetric class for a\n",
      " |      list of available metrics.\n",
      " |  \n",
      " |  metric_params : dict, optional (default = None)\n",
      " |      Additional keyword arguments for the metric function.\n",
      " |  \n",
      " |  n_jobs : int or None, optional (default=None)\n",
      " |      The number of parallel jobs to run for neighbors search.\n",
      " |      ``None`` means 1 unless in a :obj:`joblib.parallel_backend` context.\n",
      " |      ``-1`` means using all processors. See :term:`Glossary <n_jobs>`\n",
      " |      for more details.\n",
      " |      Doesn't affect :meth:`fit` method.\n",
      " |  \n",
      " |  Examples\n",
      " |  --------\n",
      " |  >>> X = [[0], [1], [2], [3]]\n",
      " |  >>> y = [0, 0, 1, 1]\n",
      " |  >>> from sklearn.neighbors import KNeighborsClassifier\n",
      " |  >>> neigh = KNeighborsClassifier(n_neighbors=3)\n",
      " |  >>> neigh.fit(X, y) # doctest: +ELLIPSIS\n",
      " |  KNeighborsClassifier(...)\n",
      " |  >>> print(neigh.predict([[1.1]]))\n",
      " |  [0]\n",
      " |  >>> print(neigh.predict_proba([[0.9]]))\n",
      " |  [[0.66666667 0.33333333]]\n",
      " |  \n",
      " |  See also\n",
      " |  --------\n",
      " |  RadiusNeighborsClassifier\n",
      " |  KNeighborsRegressor\n",
      " |  RadiusNeighborsRegressor\n",
      " |  NearestNeighbors\n",
      " |  \n",
      " |  Notes\n",
      " |  -----\n",
      " |  See :ref:`Nearest Neighbors <neighbors>` in the online documentation\n",
      " |  for a discussion of the choice of ``algorithm`` and ``leaf_size``.\n",
      " |  \n",
      " |  .. warning::\n",
      " |  \n",
      " |     Regarding the Nearest Neighbors algorithms, if it is found that two\n",
      " |     neighbors, neighbor `k+1` and `k`, have identical distances\n",
      " |     but different labels, the results will depend on the ordering of the\n",
      " |     training data.\n",
      " |  \n",
      " |  https://en.wikipedia.org/wiki/K-nearest_neighbor_algorithm\n",
      " |  \n",
      " |  Method resolution order:\n",
      " |      KNeighborsClassifier\n",
      " |      sklearn.neighbors.base.NeighborsBase\n",
      " |      sklearn.base.BaseEstimator\n",
      " |      sklearn.base.MultiOutputMixin\n",
      " |      sklearn.neighbors.base.KNeighborsMixin\n",
      " |      sklearn.neighbors.base.SupervisedIntegerMixin\n",
      " |      sklearn.base.ClassifierMixin\n",
      " |      builtins.object\n",
      " |  \n",
      " |  Methods defined here:\n",
      " |  \n",
      " |  __init__(self, n_neighbors=5, weights='uniform', algorithm='auto', leaf_size=30, p=2, metric='minkowski', metric_params=None, n_jobs=None, **kwargs)\n",
      " |      Initialize self.  See help(type(self)) for accurate signature.\n",
      " |  \n",
      " |  predict(self, X)\n",
      " |      Predict the class labels for the provided data\n",
      " |      \n",
      " |      Parameters\n",
      " |      ----------\n",
      " |      X : array-like, shape (n_query, n_features),                 or (n_query, n_indexed) if metric == 'precomputed'\n",
      " |          Test samples.\n",
      " |      \n",
      " |      Returns\n",
      " |      -------\n",
      " |      y : array of shape [n_samples] or [n_samples, n_outputs]\n",
      " |          Class labels for each data sample.\n",
      " |  \n",
      " |  predict_proba(self, X)\n",
      " |      Return probability estimates for the test data X.\n",
      " |      \n",
      " |      Parameters\n",
      " |      ----------\n",
      " |      X : array-like, shape (n_query, n_features),                 or (n_query, n_indexed) if metric == 'precomputed'\n",
      " |          Test samples.\n",
      " |      \n",
      " |      Returns\n",
      " |      -------\n",
      " |      p : array of shape = [n_samples, n_classes], or a list of n_outputs\n",
      " |          of such arrays if n_outputs > 1.\n",
      " |          The class probabilities of the input samples. Classes are ordered\n",
      " |          by lexicographic order.\n",
      " |  \n",
      " |  ----------------------------------------------------------------------\n",
      " |  Data and other attributes defined here:\n",
      " |  \n",
      " |  __abstractmethods__ = frozenset()\n",
      " |  \n",
      " |  ----------------------------------------------------------------------\n",
      " |  Methods inherited from sklearn.base.BaseEstimator:\n",
      " |  \n",
      " |  __getstate__(self)\n",
      " |  \n",
      " |  __repr__(self, N_CHAR_MAX=700)\n",
      " |      Return repr(self).\n",
      " |  \n",
      " |  __setstate__(self, state)\n",
      " |  \n",
      " |  get_params(self, deep=True)\n",
      " |      Get parameters for this estimator.\n",
      " |      \n",
      " |      Parameters\n",
      " |      ----------\n",
      " |      deep : boolean, optional\n",
      " |          If True, will return the parameters for this estimator and\n",
      " |          contained subobjects that are estimators.\n",
      " |      \n",
      " |      Returns\n",
      " |      -------\n",
      " |      params : mapping of string to any\n",
      " |          Parameter names mapped to their values.\n",
      " |  \n",
      " |  set_params(self, **params)\n",
      " |      Set the parameters of this estimator.\n",
      " |      \n",
      " |      The method works on simple estimators as well as on nested objects\n",
      " |      (such as pipelines). The latter have parameters of the form\n",
      " |      ``<component>__<parameter>`` so that it's possible to update each\n",
      " |      component of a nested object.\n",
      " |      \n",
      " |      Returns\n",
      " |      -------\n",
      " |      self\n",
      " |  \n",
      " |  ----------------------------------------------------------------------\n",
      " |  Data descriptors inherited from sklearn.base.BaseEstimator:\n",
      " |  \n",
      " |  __dict__\n",
      " |      dictionary for instance variables (if defined)\n",
      " |  \n",
      " |  __weakref__\n",
      " |      list of weak references to the object (if defined)\n",
      " |  \n",
      " |  ----------------------------------------------------------------------\n",
      " |  Methods inherited from sklearn.neighbors.base.KNeighborsMixin:\n",
      " |  \n",
      " |  kneighbors(self, X=None, n_neighbors=None, return_distance=True)\n",
      " |      Finds the K-neighbors of a point.\n",
      " |      Returns indices of and distances to the neighbors of each point.\n",
      " |      \n",
      " |      Parameters\n",
      " |      ----------\n",
      " |      X : array-like, shape (n_query, n_features),                 or (n_query, n_indexed) if metric == 'precomputed'\n",
      " |          The query point or points.\n",
      " |          If not provided, neighbors of each indexed point are returned.\n",
      " |          In this case, the query point is not considered its own neighbor.\n",
      " |      \n",
      " |      n_neighbors : int\n",
      " |          Number of neighbors to get (default is the value\n",
      " |          passed to the constructor).\n",
      " |      \n",
      " |      return_distance : boolean, optional. Defaults to True.\n",
      " |          If False, distances will not be returned\n",
      " |      \n",
      " |      Returns\n",
      " |      -------\n",
      " |      dist : array\n",
      " |          Array representing the lengths to points, only present if\n",
      " |          return_distance=True\n",
      " |      \n",
      " |      ind : array\n",
      " |          Indices of the nearest points in the population matrix.\n",
      " |      \n",
      " |      Examples\n",
      " |      --------\n",
      " |      In the following example, we construct a NeighborsClassifier\n",
      " |      class from an array representing our data set and ask who's\n",
      " |      the closest point to [1,1,1]\n",
      " |      \n",
      " |      >>> samples = [[0., 0., 0.], [0., .5, 0.], [1., 1., .5]]\n",
      " |      >>> from sklearn.neighbors import NearestNeighbors\n",
      " |      >>> neigh = NearestNeighbors(n_neighbors=1)\n",
      " |      >>> neigh.fit(samples) # doctest: +ELLIPSIS\n",
      " |      NearestNeighbors(algorithm='auto', leaf_size=30, ...)\n",
      " |      >>> print(neigh.kneighbors([[1., 1., 1.]])) # doctest: +ELLIPSIS\n",
      " |      (array([[0.5]]), array([[2]]))\n",
      " |      \n",
      " |      As you can see, it returns [[0.5]], and [[2]], which means that the\n",
      " |      element is at distance 0.5 and is the third element of samples\n",
      " |      (indexes start at 0). You can also query for multiple points:\n",
      " |      \n",
      " |      >>> X = [[0., 1., 0.], [1., 0., 1.]]\n",
      " |      >>> neigh.kneighbors(X, return_distance=False) # doctest: +ELLIPSIS\n",
      " |      array([[1],\n",
      " |             [2]]...)\n",
      " |  \n",
      " |  kneighbors_graph(self, X=None, n_neighbors=None, mode='connectivity')\n",
      " |      Computes the (weighted) graph of k-Neighbors for points in X\n",
      " |      \n",
      " |      Parameters\n",
      " |      ----------\n",
      " |      X : array-like, shape (n_query, n_features),                 or (n_query, n_indexed) if metric == 'precomputed'\n",
      " |          The query point or points.\n",
      " |          If not provided, neighbors of each indexed point are returned.\n",
      " |          In this case, the query point is not considered its own neighbor.\n",
      " |      \n",
      " |      n_neighbors : int\n",
      " |          Number of neighbors for each sample.\n",
      " |          (default is value passed to the constructor).\n",
      " |      \n",
      " |      mode : {'connectivity', 'distance'}, optional\n",
      " |          Type of returned matrix: 'connectivity' will return the\n",
      " |          connectivity matrix with ones and zeros, in 'distance' the\n",
      " |          edges are Euclidean distance between points.\n",
      " |      \n",
      " |      Returns\n",
      " |      -------\n",
      " |      A : sparse matrix in CSR format, shape = [n_samples, n_samples_fit]\n",
      " |          n_samples_fit is the number of samples in the fitted data\n",
      " |          A[i, j] is assigned the weight of edge that connects i to j.\n",
      " |      \n",
      " |      Examples\n",
      " |      --------\n",
      " |      >>> X = [[0], [3], [1]]\n",
      " |      >>> from sklearn.neighbors import NearestNeighbors\n",
      " |      >>> neigh = NearestNeighbors(n_neighbors=2)\n",
      " |      >>> neigh.fit(X) # doctest: +ELLIPSIS\n",
      " |      NearestNeighbors(algorithm='auto', leaf_size=30, ...)\n",
      " |      >>> A = neigh.kneighbors_graph(X)\n",
      " |      >>> A.toarray()\n",
      " |      array([[1., 0., 1.],\n",
      " |             [0., 1., 1.],\n",
      " |             [1., 0., 1.]])\n",
      " |      \n",
      " |      See also\n",
      " |      --------\n",
      " |      NearestNeighbors.radius_neighbors_graph\n",
      " |  \n",
      " |  ----------------------------------------------------------------------\n",
      " |  Methods inherited from sklearn.neighbors.base.SupervisedIntegerMixin:\n",
      " |  \n",
      " |  fit(self, X, y)\n",
      " |      Fit the model using X as training data and y as target values\n",
      " |      \n",
      " |      Parameters\n",
      " |      ----------\n",
      " |      X : {array-like, sparse matrix, BallTree, KDTree}\n",
      " |          Training data. If array or matrix, shape [n_samples, n_features],\n",
      " |          or [n_samples, n_samples] if metric='precomputed'.\n",
      " |      \n",
      " |      y : {array-like, sparse matrix}\n",
      " |          Target values of shape = [n_samples] or [n_samples, n_outputs]\n",
      " |  \n",
      " |  ----------------------------------------------------------------------\n",
      " |  Methods inherited from sklearn.base.ClassifierMixin:\n",
      " |  \n",
      " |  score(self, X, y, sample_weight=None)\n",
      " |      Returns the mean accuracy on the given test data and labels.\n",
      " |      \n",
      " |      In multi-label classification, this is the subset accuracy\n",
      " |      which is a harsh metric since you require for each sample that\n",
      " |      each label set be correctly predicted.\n",
      " |      \n",
      " |      Parameters\n",
      " |      ----------\n",
      " |      X : array-like, shape = (n_samples, n_features)\n",
      " |          Test samples.\n",
      " |      \n",
      " |      y : array-like, shape = (n_samples) or (n_samples, n_outputs)\n",
      " |          True labels for X.\n",
      " |      \n",
      " |      sample_weight : array-like, shape = [n_samples], optional\n",
      " |          Sample weights.\n",
      " |      \n",
      " |      Returns\n",
      " |      -------\n",
      " |      score : float\n",
      " |          Mean accuracy of self.predict(X) wrt. y.\n",
      "\n"
     ]
    }
   ],
   "source": [
    "help(KNeighborsClassifier)"
   ]
  },
  {
   "cell_type": "code",
   "execution_count": 4,
   "metadata": {},
   "outputs": [],
   "source": [
    "# Import the required packages\n",
    "import numpy as np\n",
    "import pandas as pd\n",
    "import matplotlib.pyplot as plt\n",
    "import seaborn as sns"
   ]
  },
  {
   "cell_type": "code",
   "execution_count": 5,
   "metadata": {},
   "outputs": [
    {
     "data": {
      "text/plain": [
       "'0.21.3'"
      ]
     },
     "execution_count": 5,
     "metadata": {},
     "output_type": "execute_result"
    }
   ],
   "source": [
    "# Print the scikit-learn version\n",
    "import sklearn\n",
    "sklearn.__version__"
   ]
  },
  {
   "cell_type": "markdown",
   "metadata": {},
   "source": [
    "Generating the data for KNN\n",
    "- Generate values for class 0\n",
    "    - Generate  50,x1 values within the range 0 to 50\n",
    "    - Generate 50, x2 values within range 1 to 50\n",
    "    - create a 2d array with x1 values as 0 th elemnt and \n",
    "        x2 values as 1st element, 3rd value is zero\n",
    "    - o/p -- [[2,5,0],[3,10,0],[24,12,0]]\n",
    "- Generate vlues for class 1\n",
    "    - Generate 50, x1 values within the range 50 to 100\n",
    "    - Generate 50, x2 values within range 1 to 50\n",
    "    - create a 2d array with x1 values as 0 th elemnt and \n",
    "        x2 values as 1st element,3rd elemnt is one.\n",
    "- create a 2d Array which consists both classes data\n",
    "- create a DataFrame from this data with added y column"
   ]
  },
  {
   "cell_type": "code",
   "execution_count": 10,
   "metadata": {
    "collapsed": true
   },
   "outputs": [
    {
     "data": {
      "text/plain": [
       "(array([ 9, 36, 15,  0, 49, 28, 25, 29, 48, 29, 49,  8,  9,  0, 42, 40, 36,\n",
       "        16, 36, 47, 11, 24, 43, 33,  8, 36, 14, 49, 13,  5, 13, 25, 13, 28,\n",
       "        22, 30, 30, 25, 12,  1, 31, 36, 27, 18, 29, 13, 22, 23, 30, 11]),\n",
       " array([29, 11, 25, 10, 16, 19, 17,  8, 25, 12, 18, 47,  8, 12, 29, 34, 21,\n",
       "        33, 25, 45,  6,  5,  8, 25, 25, 45, 35, 41, 16, 14, 25, 16,  7, 22,\n",
       "        43, 23, 12, 49, 13, 29, 33, 16, 45, 41, 43, 46, 44, 34, 46, 41]))"
      ]
     },
     "execution_count": 10,
     "metadata": {},
     "output_type": "execute_result"
    }
   ],
   "source": [
    "np.random.seed(10)\n",
    "x1 = np.random.randint(0,50,50)\n",
    "x2 = np.random.randint(1,50,50)\n",
    "x1,x2"
   ]
  },
  {
   "cell_type": "markdown",
   "metadata": {},
   "source": [
    "o/p - [[9,29],[36,11]........,[11,41]"
   ]
  },
  {
   "cell_type": "code",
   "execution_count": 26,
   "metadata": {},
   "outputs": [],
   "source": [
    "x1_2d = np.expand_dims(x1,1)\n",
    "x2_2d = np.expand_dims(x2,1)\n",
    "y_2d = np.expand_dims(np.zeros(50,dtype=int),1)"
   ]
  },
  {
   "cell_type": "code",
   "execution_count": 29,
   "metadata": {
    "collapsed": true
   },
   "outputs": [
    {
     "data": {
      "text/plain": [
       "array([[ 9, 29,  0],\n",
       "       [36, 11,  0],\n",
       "       [15, 25,  0],\n",
       "       [ 0, 10,  0],\n",
       "       [49, 16,  0],\n",
       "       [28, 19,  0],\n",
       "       [25, 17,  0],\n",
       "       [29,  8,  0],\n",
       "       [48, 25,  0],\n",
       "       [29, 12,  0],\n",
       "       [49, 18,  0],\n",
       "       [ 8, 47,  0],\n",
       "       [ 9,  8,  0],\n",
       "       [ 0, 12,  0],\n",
       "       [42, 29,  0],\n",
       "       [40, 34,  0],\n",
       "       [36, 21,  0],\n",
       "       [16, 33,  0],\n",
       "       [36, 25,  0],\n",
       "       [47, 45,  0],\n",
       "       [11,  6,  0],\n",
       "       [24,  5,  0],\n",
       "       [43,  8,  0],\n",
       "       [33, 25,  0],\n",
       "       [ 8, 25,  0],\n",
       "       [36, 45,  0],\n",
       "       [14, 35,  0],\n",
       "       [49, 41,  0],\n",
       "       [13, 16,  0],\n",
       "       [ 5, 14,  0],\n",
       "       [13, 25,  0],\n",
       "       [25, 16,  0],\n",
       "       [13,  7,  0],\n",
       "       [28, 22,  0],\n",
       "       [22, 43,  0],\n",
       "       [30, 23,  0],\n",
       "       [30, 12,  0],\n",
       "       [25, 49,  0],\n",
       "       [12, 13,  0],\n",
       "       [ 1, 29,  0],\n",
       "       [31, 33,  0],\n",
       "       [36, 16,  0],\n",
       "       [27, 45,  0],\n",
       "       [18, 41,  0],\n",
       "       [29, 43,  0],\n",
       "       [13, 46,  0],\n",
       "       [22, 44,  0],\n",
       "       [23, 34,  0],\n",
       "       [30, 46,  0],\n",
       "       [11, 41,  0]])"
      ]
     },
     "execution_count": 29,
     "metadata": {},
     "output_type": "execute_result"
    }
   ],
   "source": [
    "d0 = np.hstack((x1_2d,x2_2d,y_2d))\n",
    "d0"
   ]
  },
  {
   "cell_type": "code",
   "execution_count": 31,
   "metadata": {
    "collapsed": true
   },
   "outputs": [
    {
     "data": {
      "text/plain": [
       "array([[58,  3,  1],\n",
       "       [62, 43,  1],\n",
       "       [55, 33,  1],\n",
       "       [50, 38,  1],\n",
       "       [78,  8,  1],\n",
       "       [77, 25,  1],\n",
       "       [57, 38,  1],\n",
       "       [61, 46,  1],\n",
       "       [71, 20,  1],\n",
       "       [97, 49,  1],\n",
       "       [79, 41,  1],\n",
       "       [67, 30,  1],\n",
       "       [95, 13,  1],\n",
       "       [81, 25,  1],\n",
       "       [73, 47,  1],\n",
       "       [82, 13,  1],\n",
       "       [60, 34,  1],\n",
       "       [65,  3,  1],\n",
       "       [54, 25,  1],\n",
       "       [91, 45,  1],\n",
       "       [89, 43,  1],\n",
       "       [87, 18,  1],\n",
       "       [69, 24,  1],\n",
       "       [94, 30,  1],\n",
       "       [63, 35,  1],\n",
       "       [79, 24,  1],\n",
       "       [65, 19,  1],\n",
       "       [88, 27,  1],\n",
       "       [65, 27,  1],\n",
       "       [99, 17,  1],\n",
       "       [51, 14,  1],\n",
       "       [81, 27,  1],\n",
       "       [82, 33,  1],\n",
       "       [71,  7,  1],\n",
       "       [76,  5,  1],\n",
       "       [84, 29,  1],\n",
       "       [61, 21,  1],\n",
       "       [51, 36,  1],\n",
       "       [90, 40,  1],\n",
       "       [56, 29,  1],\n",
       "       [91,  6,  1],\n",
       "       [84,  1,  1],\n",
       "       [90, 10,  1],\n",
       "       [72, 49,  1],\n",
       "       [90, 21,  1],\n",
       "       [65, 47,  1],\n",
       "       [78, 39,  1],\n",
       "       [85, 36,  1],\n",
       "       [54, 15,  1],\n",
       "       [57, 19,  1]])"
      ]
     },
     "execution_count": 31,
     "metadata": {},
     "output_type": "execute_result"
    }
   ],
   "source": [
    "np.random.seed(15)\n",
    "x1 = np.random.randint(50,100,50)\n",
    "x2 = np.random.randint(1,50,50)\n",
    "x1_2d = np.expand_dims(x1,1)\n",
    "x2_2d = np.expand_dims(x2,1)\n",
    "y_2d = np.expand_dims(np.ones(50,dtype=int),1)\n",
    "d1 = np.hstack((x1_2d,x2_2d,y_2d))\n",
    "d1"
   ]
  },
  {
   "cell_type": "code",
   "execution_count": 33,
   "metadata": {
    "collapsed": true
   },
   "outputs": [
    {
     "data": {
      "text/plain": [
       "array([[ 9, 29,  0],\n",
       "       [36, 11,  0],\n",
       "       [15, 25,  0],\n",
       "       [ 0, 10,  0],\n",
       "       [49, 16,  0],\n",
       "       [28, 19,  0],\n",
       "       [25, 17,  0],\n",
       "       [29,  8,  0],\n",
       "       [48, 25,  0],\n",
       "       [29, 12,  0],\n",
       "       [49, 18,  0],\n",
       "       [ 8, 47,  0],\n",
       "       [ 9,  8,  0],\n",
       "       [ 0, 12,  0],\n",
       "       [42, 29,  0],\n",
       "       [40, 34,  0],\n",
       "       [36, 21,  0],\n",
       "       [16, 33,  0],\n",
       "       [36, 25,  0],\n",
       "       [47, 45,  0],\n",
       "       [11,  6,  0],\n",
       "       [24,  5,  0],\n",
       "       [43,  8,  0],\n",
       "       [33, 25,  0],\n",
       "       [ 8, 25,  0],\n",
       "       [36, 45,  0],\n",
       "       [14, 35,  0],\n",
       "       [49, 41,  0],\n",
       "       [13, 16,  0],\n",
       "       [ 5, 14,  0],\n",
       "       [13, 25,  0],\n",
       "       [25, 16,  0],\n",
       "       [13,  7,  0],\n",
       "       [28, 22,  0],\n",
       "       [22, 43,  0],\n",
       "       [30, 23,  0],\n",
       "       [30, 12,  0],\n",
       "       [25, 49,  0],\n",
       "       [12, 13,  0],\n",
       "       [ 1, 29,  0],\n",
       "       [31, 33,  0],\n",
       "       [36, 16,  0],\n",
       "       [27, 45,  0],\n",
       "       [18, 41,  0],\n",
       "       [29, 43,  0],\n",
       "       [13, 46,  0],\n",
       "       [22, 44,  0],\n",
       "       [23, 34,  0],\n",
       "       [30, 46,  0],\n",
       "       [11, 41,  0],\n",
       "       [58,  3,  1],\n",
       "       [62, 43,  1],\n",
       "       [55, 33,  1],\n",
       "       [50, 38,  1],\n",
       "       [78,  8,  1],\n",
       "       [77, 25,  1],\n",
       "       [57, 38,  1],\n",
       "       [61, 46,  1],\n",
       "       [71, 20,  1],\n",
       "       [97, 49,  1],\n",
       "       [79, 41,  1],\n",
       "       [67, 30,  1],\n",
       "       [95, 13,  1],\n",
       "       [81, 25,  1],\n",
       "       [73, 47,  1],\n",
       "       [82, 13,  1],\n",
       "       [60, 34,  1],\n",
       "       [65,  3,  1],\n",
       "       [54, 25,  1],\n",
       "       [91, 45,  1],\n",
       "       [89, 43,  1],\n",
       "       [87, 18,  1],\n",
       "       [69, 24,  1],\n",
       "       [94, 30,  1],\n",
       "       [63, 35,  1],\n",
       "       [79, 24,  1],\n",
       "       [65, 19,  1],\n",
       "       [88, 27,  1],\n",
       "       [65, 27,  1],\n",
       "       [99, 17,  1],\n",
       "       [51, 14,  1],\n",
       "       [81, 27,  1],\n",
       "       [82, 33,  1],\n",
       "       [71,  7,  1],\n",
       "       [76,  5,  1],\n",
       "       [84, 29,  1],\n",
       "       [61, 21,  1],\n",
       "       [51, 36,  1],\n",
       "       [90, 40,  1],\n",
       "       [56, 29,  1],\n",
       "       [91,  6,  1],\n",
       "       [84,  1,  1],\n",
       "       [90, 10,  1],\n",
       "       [72, 49,  1],\n",
       "       [90, 21,  1],\n",
       "       [65, 47,  1],\n",
       "       [78, 39,  1],\n",
       "       [85, 36,  1],\n",
       "       [54, 15,  1],\n",
       "       [57, 19,  1]])"
      ]
     },
     "execution_count": 33,
     "metadata": {},
     "output_type": "execute_result"
    }
   ],
   "source": [
    "data = np.vstack((d0,d1))\n",
    "data"
   ]
  },
  {
   "cell_type": "code",
   "execution_count": 34,
   "metadata": {
    "collapsed": true
   },
   "outputs": [
    {
     "data": {
      "text/html": [
       "<div>\n",
       "<style scoped>\n",
       "    .dataframe tbody tr th:only-of-type {\n",
       "        vertical-align: middle;\n",
       "    }\n",
       "\n",
       "    .dataframe tbody tr th {\n",
       "        vertical-align: top;\n",
       "    }\n",
       "\n",
       "    .dataframe thead th {\n",
       "        text-align: right;\n",
       "    }\n",
       "</style>\n",
       "<table border=\"1\" class=\"dataframe\">\n",
       "  <thead>\n",
       "    <tr style=\"text-align: right;\">\n",
       "      <th></th>\n",
       "      <th>x1</th>\n",
       "      <th>x2</th>\n",
       "      <th>y</th>\n",
       "    </tr>\n",
       "  </thead>\n",
       "  <tbody>\n",
       "    <tr>\n",
       "      <td>0</td>\n",
       "      <td>9</td>\n",
       "      <td>29</td>\n",
       "      <td>0</td>\n",
       "    </tr>\n",
       "    <tr>\n",
       "      <td>1</td>\n",
       "      <td>36</td>\n",
       "      <td>11</td>\n",
       "      <td>0</td>\n",
       "    </tr>\n",
       "    <tr>\n",
       "      <td>2</td>\n",
       "      <td>15</td>\n",
       "      <td>25</td>\n",
       "      <td>0</td>\n",
       "    </tr>\n",
       "    <tr>\n",
       "      <td>3</td>\n",
       "      <td>0</td>\n",
       "      <td>10</td>\n",
       "      <td>0</td>\n",
       "    </tr>\n",
       "    <tr>\n",
       "      <td>4</td>\n",
       "      <td>49</td>\n",
       "      <td>16</td>\n",
       "      <td>0</td>\n",
       "    </tr>\n",
       "  </tbody>\n",
       "</table>\n",
       "</div>"
      ],
      "text/plain": [
       "   x1  x2  y\n",
       "0   9  29  0\n",
       "1  36  11  0\n",
       "2  15  25  0\n",
       "3   0  10  0\n",
       "4  49  16  0"
      ]
     },
     "execution_count": 34,
     "metadata": {},
     "output_type": "execute_result"
    }
   ],
   "source": [
    "df=pd.DataFrame(data,columns=['x1','x2','y'])\n",
    "df.head()"
   ]
  },
  {
   "cell_type": "code",
   "execution_count": 121,
   "metadata": {},
   "outputs": [],
   "source": [
    "df.to_csv(\"data/knn.csv\")"
   ]
  },
  {
   "cell_type": "markdown",
   "metadata": {},
   "source": [
    "Scatter plot for the Randomly generated data classwise"
   ]
  },
  {
   "cell_type": "code",
   "execution_count": 41,
   "metadata": {
    "collapsed": true
   },
   "outputs": [
    {
     "data": {
      "text/plain": [
       "<matplotlib.collections.PathCollection at 0x21f10928c08>"
      ]
     },
     "execution_count": 41,
     "metadata": {},
     "output_type": "execute_result"
    },
    {
     "data": {
      "image/png": "[encoded data removed]",
      "text/plain": [
       "<Figure size 432x288 with 1 Axes>"
      ]
     },
     "metadata": {
      "needs_background": "light"
     },
     "output_type": "display_data"
    }
   ],
   "source": [
    "plt.scatter(df['x1'][:50],df['x2'][:50],color='r')\n",
    "plt.scatter(df['x1'][50:],df['x2'][50:],color='g')"
   ]
  },
  {
   "cell_type": "code",
   "execution_count": 37,
   "metadata": {
    "collapsed": true
   },
   "outputs": [
    {
     "data": {
      "text/plain": [
       "0     29\n",
       "1     11\n",
       "2     25\n",
       "3     10\n",
       "4     16\n",
       "5     19\n",
       "6     17\n",
       "7      8\n",
       "8     25\n",
       "9     12\n",
       "10    18\n",
       "11    47\n",
       "12     8\n",
       "13    12\n",
       "14    29\n",
       "15    34\n",
       "16    21\n",
       "17    33\n",
       "18    25\n",
       "19    45\n",
       "20     6\n",
       "21     5\n",
       "22     8\n",
       "23    25\n",
       "24    25\n",
       "25    45\n",
       "26    35\n",
       "27    41\n",
       "28    16\n",
       "29    14\n",
       "30    25\n",
       "31    16\n",
       "32     7\n",
       "33    22\n",
       "34    43\n",
       "35    23\n",
       "36    12\n",
       "37    49\n",
       "38    13\n",
       "39    29\n",
       "40    33\n",
       "41    16\n",
       "42    45\n",
       "43    41\n",
       "44    43\n",
       "45    46\n",
       "46    44\n",
       "47    34\n",
       "48    46\n",
       "49    41\n",
       "Name: x2, dtype: int32"
      ]
     },
     "execution_count": 37,
     "metadata": {},
     "output_type": "execute_result"
    }
   ],
   "source": [
    "df['x2'][:50]"
   ]
  },
  {
   "cell_type": "markdown",
   "metadata": {},
   "source": [
    "Separate the features and outcomes"
   ]
  },
  {
   "cell_type": "code",
   "execution_count": 42,
   "metadata": {},
   "outputs": [
    {
     "data": {
      "text/plain": [
       "(0, x1     9\n",
       " x2    29\n",
       " Name: 0, dtype: int32)"
      ]
     },
     "execution_count": 42,
     "metadata": {},
     "output_type": "execute_result"
    }
   ],
   "source": [
    "outcome = df['y']\n",
    "features = df[['x1','x2']]\n",
    "#features = df.drop('y',axis=1)\n",
    "outcome[0],features.iloc[0]"
   ]
  },
  {
   "cell_type": "code",
   "execution_count": 43,
   "metadata": {},
   "outputs": [],
   "source": [
    "import math"
   ]
  },
  {
   "cell_type": "code",
   "execution_count": 44,
   "metadata": {},
   "outputs": [],
   "source": [
    "def Eucledian_distance(p1,p2):\n",
    "    return math.sqrt((p1[0]-p2[0])**2 + (p1[1]-p2[1])**2)"
   ]
  },
  {
   "cell_type": "code",
   "execution_count": 45,
   "metadata": {},
   "outputs": [
    {
     "data": {
      "text/plain": [
       "5.0"
      ]
     },
     "execution_count": 45,
     "metadata": {},
     "output_type": "execute_result"
    }
   ],
   "source": [
    "Eucledian_distance((4,3),(0,0))"
   ]
  },
  {
   "cell_type": "code",
   "execution_count": 76,
   "metadata": {},
   "outputs": [],
   "source": [
    "def knearest_points(p,d,k):\n",
    "    '''p - new data point\n",
    "    d - all the features as numpy array\n",
    "    k - no of neighbors\n",
    "    returns the k nearest neighbors indices'''\n",
    "    # create an empty list to store distances\n",
    "    distances = []\n",
    "    for row in d:\n",
    "        distances.append(Eucledian_distance(row,p))\n",
    "    # convert the list to numpy array\n",
    "    distances = np.array(distances)\n",
    "    # sort the numpy array get the indices based on sorted\n",
    "    # values\n",
    "    # use the indices to get the k nearest neighbors\n",
    "    return distances.argsort()[:k]"
   ]
  },
  {
   "cell_type": "code",
   "execution_count": 86,
   "metadata": {
    "collapsed": true
   },
   "outputs": [
    {
     "data": {
      "text/plain": [
       "array([ 0, 39, 26, 49, 24, 17, 30, 11,  2, 45, 43, 47, 34, 28, 46, 29, 38,\n",
       "       13,  3, 42, 37, 44, 33, 40,  6, 12, 31, 35,  5, 48], dtype=int64)"
      ]
     },
     "execution_count": 86,
     "metadata": {},
     "output_type": "execute_result"
    }
   ],
   "source": [
    "knearest_points((5,34),features.values,30)"
   ]
  },
  {
   "cell_type": "code",
   "execution_count": 109,
   "metadata": {},
   "outputs": [],
   "source": [
    "ind = knearest_points((47,25),features.values,10)"
   ]
  },
  {
   "cell_type": "code",
   "execution_count": 110,
   "metadata": {
    "collapsed": true
   },
   "outputs": [
    {
     "data": {
      "text/plain": [
       "array([[48, 25],\n",
       "       [42, 29],\n",
       "       [54, 25],\n",
       "       [49, 18],\n",
       "       [49, 16],\n",
       "       [56, 29],\n",
       "       [36, 25],\n",
       "       [55, 33],\n",
       "       [40, 34],\n",
       "       [57, 19]])"
      ]
     },
     "execution_count": 110,
     "metadata": {},
     "output_type": "execute_result"
    }
   ],
   "source": [
    "features.values[ind]"
   ]
  },
  {
   "cell_type": "code",
   "execution_count": 111,
   "metadata": {
    "collapsed": true
   },
   "outputs": [
    {
     "data": {
      "text/plain": [
       "8     0\n",
       "14    0\n",
       "68    1\n",
       "10    0\n",
       "4     0\n",
       "89    1\n",
       "18    0\n",
       "52    1\n",
       "15    0\n",
       "99    1\n",
       "Name: y, dtype: int32"
      ]
     },
     "execution_count": 111,
     "metadata": {},
     "output_type": "execute_result"
    }
   ],
   "source": [
    "outcome[ind]"
   ]
  },
  {
   "cell_type": "code",
   "execution_count": 112,
   "metadata": {},
   "outputs": [
    {
     "data": {
      "text/plain": [
       "0    6\n",
       "1    4\n",
       "Name: y, dtype: int64"
      ]
     },
     "execution_count": 112,
     "metadata": {},
     "output_type": "execute_result"
    }
   ],
   "source": [
    "outcome[ind].value_counts()"
   ]
  },
  {
   "cell_type": "code",
   "execution_count": 113,
   "metadata": {},
   "outputs": [
    {
     "data": {
      "text/plain": [
       "0"
      ]
     },
     "execution_count": 113,
     "metadata": {},
     "output_type": "execute_result"
    }
   ],
   "source": [
    "outcome[ind].value_counts().index[0]"
   ]
  },
  {
   "cell_type": "code",
   "execution_count": 59,
   "metadata": {},
   "outputs": [
    {
     "data": {
      "text/plain": [
       "array([4, 0, 2, 1, 3], dtype=int64)"
      ]
     },
     "execution_count": 59,
     "metadata": {},
     "output_type": "execute_result"
    }
   ],
   "source": [
    "l = [45,67,45,78,43]\n",
    "l = np.array(l)\n",
    "l.argsort()"
   ]
  },
  {
   "cell_type": "code",
   "execution_count": 56,
   "metadata": {},
   "outputs": [
    {
     "data": {
      "text/plain": [
       "[43, 45, 45, 67, 78]"
      ]
     },
     "execution_count": 56,
     "metadata": {},
     "output_type": "execute_result"
    }
   ],
   "source": [
    "l"
   ]
  },
  {
   "cell_type": "code",
   "execution_count": 53,
   "metadata": {},
   "outputs": [
    {
     "name": "stdout",
     "output_type": "stream",
     "text": [
      "[ 9 29]\n"
     ]
    }
   ],
   "source": [
    "for row in features.values:\n",
    "    print(row)\n",
    "    break"
   ]
  },
  {
   "cell_type": "code",
   "execution_count": 71,
   "metadata": {},
   "outputs": [],
   "source": [
    "near_4 = knearest_points((5,34),features.values,4)"
   ]
  },
  {
   "cell_type": "code",
   "execution_count": 73,
   "metadata": {},
   "outputs": [
    {
     "data": {
      "text/plain": [
       "array([ 9,  1, 14, 11])"
      ]
     },
     "execution_count": 73,
     "metadata": {},
     "output_type": "execute_result"
    }
   ],
   "source": [
    "near_4[:,0]"
   ]
  },
  {
   "cell_type": "code",
   "execution_count": 75,
   "metadata": {
    "collapsed": true
   },
   "outputs": [
    {
     "data": {
      "text/plain": [
       "<matplotlib.collections.PathCollection at 0x21f10ec74c8>"
      ]
     },
     "execution_count": 75,
     "metadata": {},
     "output_type": "execute_result"
    },
    {
     "data": {
      "image/png": "[encoded data removed]",
      "text/plain": [
       "<Figure size 432x288 with 1 Axes>"
      ]
     },
     "metadata": {
      "needs_background": "light"
     },
     "output_type": "display_data"
    }
   ],
   "source": [
    "plt.scatter(df['x1'][:50],df['x2'][:50],color='r')\n",
    "plt.scatter(df['x1'][50:],df['x2'][50:],color='g')\n",
    "plt.plot(5,34,'bo')\n",
    "plt.scatter(near_4[:,0],near_4[:,1],color='y')"
   ]
  },
  {
   "cell_type": "code",
   "execution_count": 115,
   "metadata": {},
   "outputs": [
    {
     "data": {
      "text/plain": [
       "0"
      ]
     },
     "execution_count": 115,
     "metadata": {},
     "output_type": "execute_result"
    }
   ],
   "source": [
    "def output(p,k,features,outcome):\n",
    "    ind = knearest_points(p,features.values,k)\n",
    "    return outcome[ind].value_counts().index[0]\n",
    "output((34,49),10,features,outcome)"
   ]
  },
  {
   "cell_type": "code",
   "execution_count": 120,
   "metadata": {},
   "outputs": [
    {
     "name": "stdout",
     "output_type": "stream",
     "text": [
      "x1     9\n",
      "x2    29\n",
      "Name: 0, dtype: int32\n"
     ]
    }
   ],
   "source": [
    "for i,feature in features.iterrows():\n",
    "    print(feature)\n",
    "    break"
   ]
  },
  {
   "cell_type": "code",
   "execution_count": null,
   "metadata": {},
   "outputs": [],
   "source": []
  }
 ],
 "metadata": {
  "kernelspec": {
   "display_name": "Python 3",
   "language": "python",
   "name": "python3"
  },
  "language_info": {
   "codemirror_mode": {
    "name": "ipython",
    "version": 3
   },
   "file_extension": ".py",
   "mimetype": "text/x-python",
   "name": "python",
   "nbconvert_exporter": "python",
   "pygments_lexer": "ipython3",
   "version": "3.7.4"
  }
 },
 "nbformat": 4,
 "nbformat_minor": 2
}
