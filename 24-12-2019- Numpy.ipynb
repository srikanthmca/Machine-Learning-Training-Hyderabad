{
 "cells": [
  {
   "cell_type": "markdown",
   "metadata": {},
   "source": [
    "Topics Covered in the last session<br>\n",
    "- Manipulation of arrays\n",
    "    - resize\n",
    "    - reshape\n",
    "    - flatten\n",
    "    - swapaxes\n",
    "- random.seed()\n",
    "- Array slicing, indexing for multidimensional arrays\n",
    "    - slicing\n",
    "    - list of indices\n",
    "    - Boolean array as Index (Fancy Indexing)\n",
    "- Log and Exponential functions\n",
    "    - np.log\n",
    "    - np.log1p(x) ==>np.log(1+x)\n",
    "    - np.exp\n",
    "    - np.exp1m(x) ==>  np.exp(x)-1"
   ]
  },
  {
   "cell_type": "markdown",
   "metadata": {},
   "source": [
    "Today Topics<br>\n",
    "- linalg\n",
    "- vectorize\n",
    "- How to read an image as numpy array"
   ]
  },
  {
   "cell_type": "code",
   "execution_count": 2,
   "metadata": {},
   "outputs": [
    {
     "data": {
      "text/plain": [
       "['LinAlgError',\n",
       " '__builtins__',\n",
       " '__cached__',\n",
       " '__doc__',\n",
       " '__file__',\n",
       " '__loader__',\n",
       " '__name__',\n",
       " '__package__',\n",
       " '__path__',\n",
       " '__spec__',\n",
       " '_umath_linalg',\n",
       " 'absolute_import',\n",
       " 'cholesky',\n",
       " 'cond',\n",
       " 'det',\n",
       " 'division',\n",
       " 'eig',\n",
       " 'eigh',\n",
       " 'eigvals',\n",
       " 'eigvalsh',\n",
       " 'info',\n",
       " 'inv',\n",
       " 'lapack_lite',\n",
       " 'linalg',\n",
       " 'lstsq',\n",
       " 'matrix_power',\n",
       " 'matrix_rank',\n",
       " 'multi_dot',\n",
       " 'norm',\n",
       " 'pinv',\n",
       " 'print_function',\n",
       " 'qr',\n",
       " 'slogdet',\n",
       " 'solve',\n",
       " 'svd',\n",
       " 'tensorinv',\n",
       " 'tensorsolve',\n",
       " 'test']"
      ]
     },
     "execution_count": 2,
     "metadata": {},
     "output_type": "execute_result"
    }
   ],
   "source": [
    "# import the package\n",
    "import numpy as np\n",
    "dir(np.linalg)"
   ]
  },
  {
   "cell_type": "code",
   "execution_count": 3,
   "metadata": {},
   "outputs": [
    {
     "data": {
      "text/plain": [
       "['Inf',\n",
       " 'LinAlgError',\n",
       " '_A',\n",
       " '_L',\n",
       " '_N',\n",
       " '_S',\n",
       " '_V',\n",
       " '__all__',\n",
       " '__builtins__',\n",
       " '__cached__',\n",
       " '__doc__',\n",
       " '__file__',\n",
       " '__loader__',\n",
       " '__name__',\n",
       " '__package__',\n",
       " '__spec__',\n",
       " '_assertFinite',\n",
       " '_assertNdSquareness',\n",
       " '_assertNoEmpty2d',\n",
       " '_assertRank2',\n",
       " '_assertRankAtLeast2',\n",
       " '_commonType',\n",
       " '_complexType',\n",
       " '_complex_types_map',\n",
       " '_cond_dispatcher',\n",
       " '_convertarray',\n",
       " '_eigvalsh_dispatcher',\n",
       " '_fastCT',\n",
       " '_fastCopyAndTranspose',\n",
       " '_isEmpty2d',\n",
       " '_linalgRealType',\n",
       " '_linalg_error_extobj',\n",
       " '_lstsq_dispatcher',\n",
       " '_makearray',\n",
       " '_matrix_power_dispatcher',\n",
       " '_matrix_rank_dispatcher',\n",
       " '_multi_dot',\n",
       " '_multi_dot_matrix_chain_order',\n",
       " '_multi_dot_three',\n",
       " '_multi_svd_norm',\n",
       " '_multidot_dispatcher',\n",
       " '_norm_dispatcher',\n",
       " '_pinv_dispatcher',\n",
       " '_qr_dispatcher',\n",
       " '_raise_linalgerror_eigenvalues_nonconvergence',\n",
       " '_raise_linalgerror_lstsq',\n",
       " '_raise_linalgerror_nonposdef',\n",
       " '_raise_linalgerror_singular',\n",
       " '_raise_linalgerror_svd_nonconvergence',\n",
       " '_realType',\n",
       " '_real_types_map',\n",
       " '_solve_dispatcher',\n",
       " '_svd_dispatcher',\n",
       " '_tensorinv_dispatcher',\n",
       " '_tensorsolve_dispatcher',\n",
       " '_to_native_byte_order',\n",
       " '_umath_linalg',\n",
       " '_unary_dispatcher',\n",
       " 'abs',\n",
       " 'absolute_import',\n",
       " 'add',\n",
       " 'all',\n",
       " 'amax',\n",
       " 'amin',\n",
       " 'array',\n",
       " 'array_function_dispatch',\n",
       " 'asanyarray',\n",
       " 'asarray',\n",
       " 'atleast_2d',\n",
       " 'cdouble',\n",
       " 'cholesky',\n",
       " 'complexfloating',\n",
       " 'cond',\n",
       " 'count_nonzero',\n",
       " 'csingle',\n",
       " 'det',\n",
       " 'divide',\n",
       " 'division',\n",
       " 'dot',\n",
       " 'double',\n",
       " 'eig',\n",
       " 'eigh',\n",
       " 'eigvals',\n",
       " 'eigvalsh',\n",
       " 'empty',\n",
       " 'empty_like',\n",
       " 'errstate',\n",
       " 'eye',\n",
       " 'fastCopyAndTranspose',\n",
       " 'finfo',\n",
       " 'fortran_int',\n",
       " 'functools',\n",
       " 'get_linalg_error_extobj',\n",
       " 'geterrobj',\n",
       " 'inexact',\n",
       " 'intc',\n",
       " 'intp',\n",
       " 'inv',\n",
       " 'isComplexType',\n",
       " 'isfinite',\n",
       " 'isnan',\n",
       " 'lapack_lite',\n",
       " 'lstsq',\n",
       " 'matmul',\n",
       " 'matrix_power',\n",
       " 'matrix_rank',\n",
       " 'moveaxis',\n",
       " 'multi_dot',\n",
       " 'multiply',\n",
       " 'newaxis',\n",
       " 'norm',\n",
       " 'normalize_axis_index',\n",
       " 'object_',\n",
       " 'operator',\n",
       " 'overrides',\n",
       " 'pinv',\n",
       " 'print_function',\n",
       " 'product',\n",
       " 'qr',\n",
       " 'set_module',\n",
       " 'single',\n",
       " 'slogdet',\n",
       " 'solve',\n",
       " 'sqrt',\n",
       " 'sum',\n",
       " 'svd',\n",
       " 'swapaxes',\n",
       " 'tensorinv',\n",
       " 'tensorsolve',\n",
       " 'transpose',\n",
       " 'triu',\n",
       " 'warnings',\n",
       " 'zeros']"
      ]
     },
     "execution_count": 3,
     "metadata": {},
     "output_type": "execute_result"
    }
   ],
   "source": [
    "dir(np.linalg.linalg)"
   ]
  },
  {
   "cell_type": "code",
   "execution_count": 4,
   "metadata": {},
   "outputs": [
    {
     "name": "stdout",
     "output_type": "stream",
     "text": [
      "6\n",
      "2\n"
     ]
    }
   ],
   "source": [
    "print(np.dot(2,3))\n",
    "print(np.dot([1],[2]))"
   ]
  },
  {
   "cell_type": "code",
   "execution_count": 5,
   "metadata": {},
   "outputs": [
    {
     "name": "stdout",
     "output_type": "stream",
     "text": [
      "[[4 4]\n",
      " [4 4]]\n",
      "[[1. 0.]\n",
      " [0. 1.]]\n"
     ]
    }
   ],
   "source": [
    "a = np.full((2,2),4)\n",
    "b = np.eye(2)\n",
    "print(a)\n",
    "print(b)"
   ]
  },
  {
   "cell_type": "code",
   "execution_count": 6,
   "metadata": {},
   "outputs": [
    {
     "name": "stdout",
     "output_type": "stream",
     "text": [
      "[[4. 0.]\n",
      " [0. 4.]]\n",
      "[[4. 4.]\n",
      " [4. 4.]]\n"
     ]
    }
   ],
   "source": [
    "print(a*b) # element wise multiplication\n",
    "print(np.dot(a,b)) # Matrix multiplication"
   ]
  },
  {
   "cell_type": "code",
   "execution_count": 7,
   "metadata": {},
   "outputs": [
    {
     "data": {
      "text/plain": [
       "array([[4., 4.],\n",
       "       [4., 4.]])"
      ]
     },
     "execution_count": 7,
     "metadata": {},
     "output_type": "execute_result"
    }
   ],
   "source": [
    "np.matmul(a,b) # matrix multiplication"
   ]
  },
  {
   "cell_type": "code",
   "execution_count": 8,
   "metadata": {},
   "outputs": [
    {
     "data": {
      "text/plain": [
       "(array([3., 6., 9.]), array([[1., 0., 0.],\n",
       "        [0., 1., 0.],\n",
       "        [0., 0., 1.]]))"
      ]
     },
     "execution_count": 8,
     "metadata": {},
     "output_type": "execute_result"
    }
   ],
   "source": [
    "c = np.diag([3,6,9])\n",
    "np.linalg.eig(c)"
   ]
  },
  {
   "cell_type": "code",
   "execution_count": 9,
   "metadata": {},
   "outputs": [],
   "source": [
    "d = np.random.randint(100,size=(3,3))\n",
    "values,vector = np.linalg.eig(d)"
   ]
  },
  {
   "cell_type": "code",
   "execution_count": 10,
   "metadata": {},
   "outputs": [
    {
     "data": {
      "text/plain": [
       "array([169.79271842, -44.45448048,  21.66176206])"
      ]
     },
     "execution_count": 10,
     "metadata": {},
     "output_type": "execute_result"
    }
   ],
   "source": [
    "values"
   ]
  },
  {
   "cell_type": "code",
   "execution_count": 11,
   "metadata": {},
   "outputs": [
    {
     "data": {
      "text/plain": [
       "array([[ 0.37780618,  0.79629897,  0.20570045],\n",
       "       [ 0.59273181, -0.39493627, -0.90503971],\n",
       "       [ 0.71128862, -0.45818478,  0.37227738]])"
      ]
     },
     "execution_count": 11,
     "metadata": {},
     "output_type": "execute_result"
    }
   ],
   "source": [
    "vector"
   ]
  },
  {
   "cell_type": "markdown",
   "metadata": {},
   "source": [
    "Topics you should learn in maths<br>\n",
    "- Quantiles\n",
    "- Standrad deviation\n",
    "- Normal distriution\n",
    "- Matrix Multiplication\n",
    "- Determinant\n",
    "- Eigen values, Eigen vectors"
   ]
  },
  {
   "cell_type": "code",
   "execution_count": 12,
   "metadata": {},
   "outputs": [
    {
     "data": {
      "text/plain": [
       "1.0"
      ]
     },
     "execution_count": 12,
     "metadata": {},
     "output_type": "execute_result"
    }
   ],
   "source": [
    "np.linalg.det(np.eye(2))"
   ]
  },
  {
   "cell_type": "code",
   "execution_count": 13,
   "metadata": {},
   "outputs": [
    {
     "data": {
      "text/plain": [
       "1.0000000000000002"
      ]
     },
     "execution_count": 13,
     "metadata": {},
     "output_type": "execute_result"
    }
   ],
   "source": [
    "d = np.array([[3,2],[1,1]])\n",
    "np.linalg.det(d)"
   ]
  },
  {
   "cell_type": "markdown",
   "metadata": {},
   "source": [
    "math.log # Noraml log<br>\n",
    "np.log # vectorized log function"
   ]
  },
  {
   "cell_type": "code",
   "execution_count": 14,
   "metadata": {},
   "outputs": [
    {
     "name": "stdout",
     "output_type": "stream",
     "text": [
      "[31 23 48 20 49 41 23 24 45 44]\n",
      "[35 21 34 41 45 42 28 43 34 28]\n"
     ]
    }
   ],
   "source": [
    "np.random.seed(45)\n",
    "a= np.random.randint(20,50,10)\n",
    "b = np.random.randint(20,50,10)\n",
    "print(a)\n",
    "print(b)"
   ]
  },
  {
   "cell_type": "code",
   "execution_count": 15,
   "metadata": {},
   "outputs": [
    {
     "name": "stdout",
     "output_type": "stream",
     "text": [
      "[False  True  True False  True False False False  True  True]\n",
      "[ True False False  True False  True  True  True False False]\n"
     ]
    }
   ],
   "source": [
    "#Expcted output c = [35 23 48 41 49 42 28 43 45 44]\n",
    "print(a>b)\n",
    "print(b>a)"
   ]
  },
  {
   "cell_type": "code",
   "execution_count": 16,
   "metadata": {},
   "outputs": [
    {
     "data": {
      "text/plain": [
       "array([23, 48, 49, 45, 44, 35, 41, 42, 28, 43])"
      ]
     },
     "execution_count": 16,
     "metadata": {},
     "output_type": "execute_result"
    }
   ],
   "source": [
    "c= np.append(a[a>b],b[b>a])\n",
    "c"
   ]
  },
  {
   "cell_type": "code",
   "execution_count": 17,
   "metadata": {},
   "outputs": [
    {
     "data": {
      "text/plain": [
       "array([[35, 23, 48, 41, 49, 42, 28, 43, 45, 44]])"
      ]
     },
     "execution_count": 17,
     "metadata": {},
     "output_type": "execute_result"
    }
   ],
   "source": [
    "np.maximum([a],[b])"
   ]
  },
  {
   "cell_type": "code",
   "execution_count": 18,
   "metadata": {},
   "outputs": [
    {
     "name": "stdout",
     "output_type": "stream",
     "text": [
      "56\n",
      "87\n"
     ]
    }
   ],
   "source": [
    "def large(n1,n2):\n",
    "    if n1>n2:\n",
    "        return n1\n",
    "    else:\n",
    "        return n2\n",
    "print(large(56,34))\n",
    "print(large(37,87))"
   ]
  },
  {
   "cell_type": "code",
   "execution_count": 19,
   "metadata": {},
   "outputs": [
    {
     "data": {
      "text/plain": [
       "array([35, 23, 48, 41, 49, 42, 28, 43, 45, 44])"
      ]
     },
     "execution_count": 19,
     "metadata": {},
     "output_type": "execute_result"
    }
   ],
   "source": [
    "vlarge = np.vectorize(large)\n",
    "vlarge(a,b)"
   ]
  },
  {
   "cell_type": "markdown",
   "metadata": {},
   "source": [
    "To read an image as numpy array using matplotlib"
   ]
  },
  {
   "cell_type": "code",
   "execution_count": 20,
   "metadata": {},
   "outputs": [
    {
     "name": "stdout",
     "output_type": "stream",
     "text": [
      "<class 'numpy.ndarray'>\n"
     ]
    }
   ],
   "source": [
    "import matplotlib.pyplot as plt\n",
    "img = plt.imread('logo.png')\n",
    "print(type(img))"
   ]
  },
  {
   "cell_type": "code",
   "execution_count": 21,
   "metadata": {},
   "outputs": [
    {
     "data": {
      "text/plain": [
       "(1024, 1024, 4)"
      ]
     },
     "execution_count": 21,
     "metadata": {},
     "output_type": "execute_result"
    }
   ],
   "source": [
    "img.shape"
   ]
  },
  {
   "cell_type": "code",
   "execution_count": 22,
   "metadata": {},
   "outputs": [
    {
     "data": {
      "text/plain": [
       "<matplotlib.image.AxesImage at 0x13373db0888>"
      ]
     },
     "execution_count": 22,
     "metadata": {},
     "output_type": "execute_result"
    },
    {
     "data": {
      "image/png": "[encoded data removed]",
      "text/plain": [
       "<Figure size 432x288 with 1 Axes>"
      ]
     },
     "metadata": {
      "needs_background": "light"
     },
     "output_type": "display_data"
    }
   ],
   "source": [
    "%matplotlib inline\n",
    "plt.imshow(img)"
   ]
  },
  {
   "cell_type": "markdown",
   "metadata": {},
   "source": [
    "To represent an image in pixels\n",
    "- image shape is an 3d array\n",
    "    - 3rd dimenesion is 3 means, it represents RGB values \n",
    "    - 3rd dimenesion is 4 means, it represents RGBA values "
   ]
  },
  {
   "cell_type": "code",
   "execution_count": 23,
   "metadata": {},
   "outputs": [
    {
     "data": {
      "text/plain": [
       "<matplotlib.image.AxesImage at 0x13379264608>"
      ]
     },
     "execution_count": 23,
     "metadata": {},
     "output_type": "execute_result"
    },
    {
     "data": {
      "image/png": "[encoded data removed]",
      "text/plain": [
       "<Figure size 432x288 with 1 Axes>"
      ]
     },
     "metadata": {
      "needs_background": "light"
     },
     "output_type": "display_data"
    }
   ],
   "source": [
    "# To display a part of the image using numpy array slicing\n",
    "plt.imshow(img[:512,:512])"
   ]
  },
  {
   "cell_type": "code",
   "execution_count": 24,
   "metadata": {},
   "outputs": [
    {
     "data": {
      "text/plain": [
       "array([0., 0., 0., 0.], dtype=float32)"
      ]
     },
     "execution_count": 24,
     "metadata": {},
     "output_type": "execute_result"
    }
   ],
   "source": [
    "img[0,0,:]"
   ]
  },
  {
   "cell_type": "code",
   "execution_count": 25,
   "metadata": {},
   "outputs": [
    {
     "data": {
      "text/plain": [
       "array([0.21568628, 0.44313726, 0.63529414, 1.        ], dtype=float32)"
      ]
     },
     "execution_count": 25,
     "metadata": {},
     "output_type": "execute_result"
    }
   ],
   "source": [
    "img[400,400,:]"
   ]
  },
  {
   "cell_type": "code",
   "execution_count": 26,
   "metadata": {},
   "outputs": [
    {
     "data": {
      "text/plain": [
       "(1.0, 0.0)"
      ]
     },
     "execution_count": 26,
     "metadata": {},
     "output_type": "execute_result"
    }
   ],
   "source": [
    "np.max(img),np.min(img)"
   ]
  },
  {
   "cell_type": "code",
   "execution_count": 27,
   "metadata": {},
   "outputs": [
    {
     "data": {
      "text/plain": [
       "<matplotlib.image.AxesImage at 0x133796d7108>"
      ]
     },
     "execution_count": 27,
     "metadata": {},
     "output_type": "execute_result"
    },
    {
     "data": {
      "image/png": "[encoded data removed]",
      "text/plain": [
       "<Figure size 432x288 with 1 Axes>"
      ]
     },
     "metadata": {
      "needs_background": "light"
     },
     "output_type": "display_data"
    }
   ],
   "source": [
    "plt.imshow(img[255:700,255:700])"
   ]
  },
  {
   "cell_type": "code",
   "execution_count": 28,
   "metadata": {},
   "outputs": [
    {
     "data": {
      "text/plain": [
       "<matplotlib.image.AxesImage at 0x13379a5c948>"
      ]
     },
     "execution_count": 28,
     "metadata": {},
     "output_type": "execute_result"
    },
    {
     "data": {
      "image/png": "[encoded data removed]",
      "text/plain": [
       "<Figure size 432x288 with 1 Axes>"
      ]
     },
     "metadata": {
      "needs_background": "light"
     },
     "output_type": "display_data"
    }
   ],
   "source": [
    "img1 = np.resize(img,(512,512,4))\n",
    "plt.imshow(img1)"
   ]
  },
  {
   "cell_type": "code",
   "execution_count": 29,
   "metadata": {},
   "outputs": [
    {
     "data": {
      "text/plain": [
       "array([[ 0,  1,  2,  3,  4,  5,  6,  7,  8,  9],\n",
       "       [10, 11, 12, 13, 14, 15, 16, 17, 18, 19],\n",
       "       [20, 21, 22, 23, 24, 25, 26, 27, 28, 29],\n",
       "       [30, 31, 32, 33, 34, 35, 36, 37, 38, 39],\n",
       "       [40, 41, 42, 43, 44,  0,  1,  2,  3,  4]])"
      ]
     },
     "execution_count": 29,
     "metadata": {},
     "output_type": "execute_result"
    }
   ],
   "source": [
    "a = np.arange(45).reshape(5,9)\n",
    "np.resize(a,(5,10))"
   ]
  }
 ],
 "metadata": {
  "kernelspec": {
   "display_name": "Python 3",
   "language": "python",
   "name": "python3"
  },
  "language_info": {
   "codemirror_mode": {
    "name": "ipython",
    "version": 3
   },
   "file_extension": ".py",
   "mimetype": "text/x-python",
   "name": "python",
   "nbconvert_exporter": "python",
   "pygments_lexer": "ipython3",
   "version": "3.7.4"
  }
 },
 "nbformat": 4,
 "nbformat_minor": 2
}
