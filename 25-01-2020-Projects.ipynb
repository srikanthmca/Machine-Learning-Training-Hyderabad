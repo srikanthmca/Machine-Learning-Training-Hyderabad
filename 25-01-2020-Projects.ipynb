{
 "cells": [
  {
   "cell_type": "markdown",
   "metadata": {},
   "source": [
    "classification\n",
    "- Student will be placed or not \n",
    "        - Acdemics performence -> percentage\n",
    "        - Problem solving skill -> test score\n",
    "        - Communictaion --> groupdiscussion marks or category\n",
    "        - coding --> marks\n",
    "        - Work Experience/participaton in workshop/ Internship -->yes/no\n",
    "        - Achievemnets\n",
    "        - Attendance\n",
    "        - Backlogs\n",
    "        - plaed or not\n",
    "    - File Format\n",
    "        Excel data\n",
    "        JSon\n",
    "        Tsv\n",
    "        csv\n",
    "    - ML,DL\n",
    "    - Measure the output    "
   ]
  },
  {
   "cell_type": "markdown",
   "metadata": {},
   "source": [
    "- Agriculture\n",
    "- Bussiness\n",
    "- Medical\n",
    "- Adclick or Not\n",
    "- Banking\n",
    "    - Credit card fraud detection\n",
    "    - Loan predction \n",
    "     \n",
    "- Weather forecating\n",
    "- Recommendation\n",
    "    - Amazon,Netflix,youtube,Linkedin,coursera,Udcaity\n",
    "- Alerts & Notification\n",
    "- Finance\n",
    "- LIC "
   ]
  },
  {
   "cell_type": "markdown",
   "metadata": {},
   "source": [
    "- kaggle\n",
    "- data.gov\n",
    "- UCI datasets"
   ]
  },
  {
   "cell_type": "code",
   "execution_count": null,
   "metadata": {},
   "outputs": [],
   "source": []
  }
 ],
 "metadata": {
  "kernelspec": {
   "display_name": "Python 3",
   "language": "python",
   "name": "python3"
  },
  "language_info": {
   "codemirror_mode": {
    "name": "ipython",
    "version": 3
   },
   "file_extension": ".py",
   "mimetype": "text/x-python",
   "name": "python",
   "nbconvert_exporter": "python",
   "pygments_lexer": "ipython3",
   "version": "3.7.4"
  }
 },
 "nbformat": 4,
 "nbformat_minor": 2
}
