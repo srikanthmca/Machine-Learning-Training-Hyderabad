{
 "cells": [
  {
   "cell_type": "markdown",
   "metadata": {},
   "source": [
    "Classification\n",
    "- structured data\n",
    "- unstructured data\n",
    "    - text\n",
    "    - image\n",
    "    - audio"
   ]
  },
  {
   "cell_type": "markdown",
   "metadata": {},
   "source": [
    "- Predict the credit card approval\n",
    "- Predicting the bik-buyers\n",
    "- Classfication of cars\n",
    "- Evaluation of Nursery School Applications\n",
    "- Predict the critical temperature of a  super conductor\n",
    "- Predict heart disease occurance\n",
    "- Predict the  appliance energy usage usinsensor reading  and  weather data\n",
    "- Identfing wether the people is suffuring from lever disease or not (Classification)\n",
    "- to predict the mobile price based on its Quailities and features\n",
    "- Feature popularity of news article prior to its publication\n",
    "- Air Quality prediction model using machine learning  algorithm"
   ]
  },
  {
   "cell_type": "markdown",
   "metadata": {},
   "source": [
    "- https://datasetsearch.research.google.com/\n",
    "- https://www.kaggle.com/datasets\n",
    "- https://archive.ics.uci.edu/ml/datasets.php\n",
    "- https://data.gov.in/\n",
    "- https://www.data.gov/"
   ]
  },
  {
   "cell_type": "code",
   "execution_count": null,
   "metadata": {},
   "outputs": [],
   "source": []
  }
 ],
 "metadata": {
  "kernelspec": {
   "display_name": "Python 3",
   "language": "python",
   "name": "python3"
  },
  "language_info": {
   "codemirror_mode": {
    "name": "ipython",
    "version": 3
   },
   "file_extension": ".py",
   "mimetype": "text/x-python",
   "name": "python",
   "nbconvert_exporter": "python",
   "pygments_lexer": "ipython3",
   "version": "3.7.4"
  }
 },
 "nbformat": 4,
 "nbformat_minor": 2
}
