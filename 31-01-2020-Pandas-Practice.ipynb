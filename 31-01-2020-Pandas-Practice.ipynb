{
 "cells": [
  {
   "cell_type": "markdown",
   "metadata": {},
   "source": [
    "# global_sales_data"
   ]
  },
  {
   "cell_type": "markdown",
   "metadata": {},
   "source": [
    "- cust_dimen\n",
    "- market_fact\n",
    "- orders_dimen\n",
    "- prod_dimen\t\n",
    "- shipping_dimen"
   ]
  },
  {
   "cell_type": "markdown",
   "metadata": {},
   "source": [
    "- Read the Market Fact data into market_df\n",
    "- Display the top five rows\n",
    "- Display the last three rows\n",
    "- Check the total number of entries you have\n",
    "- Check the No of features\n",
    "- Print features Names(Column Names)\n",
    "- Print the row indices of the dataframe\n",
    "- Check the dtype of each and every columns\n",
    "- Description for Numerical Column min,max,count,25%,50%,75%,std\n",
    "- Description for the categorical Columns count,top,freq\n",
    "- Missing value count column wise\n",
    "- Total Missing values count in the DataFrame\n",
    "- Check the output for the info function\n",
    "- Access 3,5,7 columns using iloc,loc and without using any of them\n",
    "- How many unique products are there\n",
    "- How amny unique customers are there\n",
    "- What is the maximum sales\n"
   ]
  },
  {
   "cell_type": "code",
   "execution_count": 3,
   "metadata": {},
   "outputs": [],
   "source": [
    "import pandas as pd"
   ]
  },
  {
   "cell_type": "code",
   "execution_count": 5,
   "metadata": {
    "collapsed": true
   },
   "outputs": [
    {
     "data": {
      "text/html": [
       "<div>\n",
       "<style scoped>\n",
       "    .dataframe tbody tr th:only-of-type {\n",
       "        vertical-align: middle;\n",
       "    }\n",
       "\n",
       "    .dataframe tbody tr th {\n",
       "        vertical-align: top;\n",
       "    }\n",
       "\n",
       "    .dataframe thead th {\n",
       "        text-align: right;\n",
       "    }\n",
       "</style>\n",
       "<table border=\"1\" class=\"dataframe\">\n",
       "  <thead>\n",
       "    <tr style=\"text-align: right;\">\n",
       "      <th></th>\n",
       "      <th>Ord_id</th>\n",
       "      <th>Prod_id</th>\n",
       "      <th>Ship_id</th>\n",
       "      <th>Cust_id</th>\n",
       "      <th>Sales</th>\n",
       "      <th>Discount</th>\n",
       "      <th>Order_Quantity</th>\n",
       "      <th>Profit</th>\n",
       "      <th>Shipping_Cost</th>\n",
       "      <th>Product_Base_Margin</th>\n",
       "    </tr>\n",
       "  </thead>\n",
       "  <tbody>\n",
       "    <tr>\n",
       "      <td>0</td>\n",
       "      <td>Ord_5446</td>\n",
       "      <td>Prod_16</td>\n",
       "      <td>SHP_7609</td>\n",
       "      <td>Cust_1818</td>\n",
       "      <td>136.8100</td>\n",
       "      <td>0.01</td>\n",
       "      <td>23</td>\n",
       "      <td>-30.51</td>\n",
       "      <td>3.60</td>\n",
       "      <td>0.56</td>\n",
       "    </tr>\n",
       "    <tr>\n",
       "      <td>1</td>\n",
       "      <td>Ord_5406</td>\n",
       "      <td>Prod_13</td>\n",
       "      <td>SHP_7549</td>\n",
       "      <td>Cust_1818</td>\n",
       "      <td>42.2700</td>\n",
       "      <td>0.01</td>\n",
       "      <td>13</td>\n",
       "      <td>4.56</td>\n",
       "      <td>0.93</td>\n",
       "      <td>0.54</td>\n",
       "    </tr>\n",
       "    <tr>\n",
       "      <td>2</td>\n",
       "      <td>Ord_5446</td>\n",
       "      <td>Prod_4</td>\n",
       "      <td>SHP_7610</td>\n",
       "      <td>Cust_1818</td>\n",
       "      <td>4701.6900</td>\n",
       "      <td>0.00</td>\n",
       "      <td>26</td>\n",
       "      <td>1148.90</td>\n",
       "      <td>2.50</td>\n",
       "      <td>0.59</td>\n",
       "    </tr>\n",
       "    <tr>\n",
       "      <td>3</td>\n",
       "      <td>Ord_5456</td>\n",
       "      <td>Prod_6</td>\n",
       "      <td>SHP_7625</td>\n",
       "      <td>Cust_1818</td>\n",
       "      <td>2337.8900</td>\n",
       "      <td>0.09</td>\n",
       "      <td>43</td>\n",
       "      <td>729.34</td>\n",
       "      <td>14.30</td>\n",
       "      <td>0.37</td>\n",
       "    </tr>\n",
       "    <tr>\n",
       "      <td>4</td>\n",
       "      <td>Ord_5485</td>\n",
       "      <td>Prod_17</td>\n",
       "      <td>SHP_7664</td>\n",
       "      <td>Cust_1818</td>\n",
       "      <td>4233.1500</td>\n",
       "      <td>0.08</td>\n",
       "      <td>35</td>\n",
       "      <td>1219.87</td>\n",
       "      <td>26.30</td>\n",
       "      <td>0.38</td>\n",
       "    </tr>\n",
       "    <tr>\n",
       "      <td>...</td>\n",
       "      <td>...</td>\n",
       "      <td>...</td>\n",
       "      <td>...</td>\n",
       "      <td>...</td>\n",
       "      <td>...</td>\n",
       "      <td>...</td>\n",
       "      <td>...</td>\n",
       "      <td>...</td>\n",
       "      <td>...</td>\n",
       "      <td>...</td>\n",
       "    </tr>\n",
       "    <tr>\n",
       "      <td>8394</td>\n",
       "      <td>Ord_5353</td>\n",
       "      <td>Prod_4</td>\n",
       "      <td>SHP_7479</td>\n",
       "      <td>Cust_1798</td>\n",
       "      <td>2841.4395</td>\n",
       "      <td>0.08</td>\n",
       "      <td>28</td>\n",
       "      <td>374.63</td>\n",
       "      <td>7.69</td>\n",
       "      <td>0.59</td>\n",
       "    </tr>\n",
       "    <tr>\n",
       "      <td>8395</td>\n",
       "      <td>Ord_5411</td>\n",
       "      <td>Prod_6</td>\n",
       "      <td>SHP_7555</td>\n",
       "      <td>Cust_1798</td>\n",
       "      <td>127.1600</td>\n",
       "      <td>0.10</td>\n",
       "      <td>20</td>\n",
       "      <td>-74.03</td>\n",
       "      <td>6.92</td>\n",
       "      <td>0.37</td>\n",
       "    </tr>\n",
       "    <tr>\n",
       "      <td>8396</td>\n",
       "      <td>Ord_5388</td>\n",
       "      <td>Prod_6</td>\n",
       "      <td>SHP_7524</td>\n",
       "      <td>Cust_1798</td>\n",
       "      <td>243.0500</td>\n",
       "      <td>0.02</td>\n",
       "      <td>39</td>\n",
       "      <td>-70.85</td>\n",
       "      <td>5.35</td>\n",
       "      <td>0.40</td>\n",
       "    </tr>\n",
       "    <tr>\n",
       "      <td>8397</td>\n",
       "      <td>Ord_5348</td>\n",
       "      <td>Prod_15</td>\n",
       "      <td>SHP_7469</td>\n",
       "      <td>Cust_1798</td>\n",
       "      <td>3872.8700</td>\n",
       "      <td>0.03</td>\n",
       "      <td>23</td>\n",
       "      <td>565.34</td>\n",
       "      <td>30.00</td>\n",
       "      <td>0.62</td>\n",
       "    </tr>\n",
       "    <tr>\n",
       "      <td>8398</td>\n",
       "      <td>Ord_5459</td>\n",
       "      <td>Prod_6</td>\n",
       "      <td>SHP_7628</td>\n",
       "      <td>Cust_1798</td>\n",
       "      <td>603.6900</td>\n",
       "      <td>0.00</td>\n",
       "      <td>47</td>\n",
       "      <td>131.39</td>\n",
       "      <td>4.86</td>\n",
       "      <td>0.38</td>\n",
       "    </tr>\n",
       "  </tbody>\n",
       "</table>\n",
       "<p>8399 rows × 10 columns</p>\n",
       "</div>"
      ],
      "text/plain": [
       "        Ord_id  Prod_id   Ship_id    Cust_id      Sales  Discount  \\\n",
       "0     Ord_5446  Prod_16  SHP_7609  Cust_1818   136.8100      0.01   \n",
       "1     Ord_5406  Prod_13  SHP_7549  Cust_1818    42.2700      0.01   \n",
       "2     Ord_5446   Prod_4  SHP_7610  Cust_1818  4701.6900      0.00   \n",
       "3     Ord_5456   Prod_6  SHP_7625  Cust_1818  2337.8900      0.09   \n",
       "4     Ord_5485  Prod_17  SHP_7664  Cust_1818  4233.1500      0.08   \n",
       "...        ...      ...       ...        ...        ...       ...   \n",
       "8394  Ord_5353   Prod_4  SHP_7479  Cust_1798  2841.4395      0.08   \n",
       "8395  Ord_5411   Prod_6  SHP_7555  Cust_1798   127.1600      0.10   \n",
       "8396  Ord_5388   Prod_6  SHP_7524  Cust_1798   243.0500      0.02   \n",
       "8397  Ord_5348  Prod_15  SHP_7469  Cust_1798  3872.8700      0.03   \n",
       "8398  Ord_5459   Prod_6  SHP_7628  Cust_1798   603.6900      0.00   \n",
       "\n",
       "      Order_Quantity   Profit  Shipping_Cost  Product_Base_Margin  \n",
       "0                 23   -30.51           3.60                 0.56  \n",
       "1                 13     4.56           0.93                 0.54  \n",
       "2                 26  1148.90           2.50                 0.59  \n",
       "3                 43   729.34          14.30                 0.37  \n",
       "4                 35  1219.87          26.30                 0.38  \n",
       "...              ...      ...            ...                  ...  \n",
       "8394              28   374.63           7.69                 0.59  \n",
       "8395              20   -74.03           6.92                 0.37  \n",
       "8396              39   -70.85           5.35                 0.40  \n",
       "8397              23   565.34          30.00                 0.62  \n",
       "8398              47   131.39           4.86                 0.38  \n",
       "\n",
       "[8399 rows x 10 columns]"
      ]
     },
     "execution_count": 5,
     "metadata": {},
     "output_type": "execute_result"
    }
   ],
   "source": [
    "# Read the Market Fact data into market_df\n",
    "market_df=pd.read_csv('data\\\\global_sales_data\\\\market_fact.csv')\n",
    "market_df"
   ]
  },
  {
   "cell_type": "code",
   "execution_count": 6,
   "metadata": {},
   "outputs": [
    {
     "data": {
      "text/html": [
       "<div>\n",
       "<style scoped>\n",
       "    .dataframe tbody tr th:only-of-type {\n",
       "        vertical-align: middle;\n",
       "    }\n",
       "\n",
       "    .dataframe tbody tr th {\n",
       "        vertical-align: top;\n",
       "    }\n",
       "\n",
       "    .dataframe thead th {\n",
       "        text-align: right;\n",
       "    }\n",
       "</style>\n",
       "<table border=\"1\" class=\"dataframe\">\n",
       "  <thead>\n",
       "    <tr style=\"text-align: right;\">\n",
       "      <th></th>\n",
       "      <th>Ord_id</th>\n",
       "      <th>Prod_id</th>\n",
       "      <th>Ship_id</th>\n",
       "      <th>Cust_id</th>\n",
       "      <th>Sales</th>\n",
       "      <th>Discount</th>\n",
       "      <th>Order_Quantity</th>\n",
       "      <th>Profit</th>\n",
       "      <th>Shipping_Cost</th>\n",
       "      <th>Product_Base_Margin</th>\n",
       "    </tr>\n",
       "  </thead>\n",
       "  <tbody>\n",
       "    <tr>\n",
       "      <td>0</td>\n",
       "      <td>Ord_5446</td>\n",
       "      <td>Prod_16</td>\n",
       "      <td>SHP_7609</td>\n",
       "      <td>Cust_1818</td>\n",
       "      <td>136.81</td>\n",
       "      <td>0.01</td>\n",
       "      <td>23</td>\n",
       "      <td>-30.51</td>\n",
       "      <td>3.60</td>\n",
       "      <td>0.56</td>\n",
       "    </tr>\n",
       "    <tr>\n",
       "      <td>1</td>\n",
       "      <td>Ord_5406</td>\n",
       "      <td>Prod_13</td>\n",
       "      <td>SHP_7549</td>\n",
       "      <td>Cust_1818</td>\n",
       "      <td>42.27</td>\n",
       "      <td>0.01</td>\n",
       "      <td>13</td>\n",
       "      <td>4.56</td>\n",
       "      <td>0.93</td>\n",
       "      <td>0.54</td>\n",
       "    </tr>\n",
       "    <tr>\n",
       "      <td>2</td>\n",
       "      <td>Ord_5446</td>\n",
       "      <td>Prod_4</td>\n",
       "      <td>SHP_7610</td>\n",
       "      <td>Cust_1818</td>\n",
       "      <td>4701.69</td>\n",
       "      <td>0.00</td>\n",
       "      <td>26</td>\n",
       "      <td>1148.90</td>\n",
       "      <td>2.50</td>\n",
       "      <td>0.59</td>\n",
       "    </tr>\n",
       "    <tr>\n",
       "      <td>3</td>\n",
       "      <td>Ord_5456</td>\n",
       "      <td>Prod_6</td>\n",
       "      <td>SHP_7625</td>\n",
       "      <td>Cust_1818</td>\n",
       "      <td>2337.89</td>\n",
       "      <td>0.09</td>\n",
       "      <td>43</td>\n",
       "      <td>729.34</td>\n",
       "      <td>14.30</td>\n",
       "      <td>0.37</td>\n",
       "    </tr>\n",
       "    <tr>\n",
       "      <td>4</td>\n",
       "      <td>Ord_5485</td>\n",
       "      <td>Prod_17</td>\n",
       "      <td>SHP_7664</td>\n",
       "      <td>Cust_1818</td>\n",
       "      <td>4233.15</td>\n",
       "      <td>0.08</td>\n",
       "      <td>35</td>\n",
       "      <td>1219.87</td>\n",
       "      <td>26.30</td>\n",
       "      <td>0.38</td>\n",
       "    </tr>\n",
       "  </tbody>\n",
       "</table>\n",
       "</div>"
      ],
      "text/plain": [
       "     Ord_id  Prod_id   Ship_id    Cust_id    Sales  Discount  Order_Quantity  \\\n",
       "0  Ord_5446  Prod_16  SHP_7609  Cust_1818   136.81      0.01              23   \n",
       "1  Ord_5406  Prod_13  SHP_7549  Cust_1818    42.27      0.01              13   \n",
       "2  Ord_5446   Prod_4  SHP_7610  Cust_1818  4701.69      0.00              26   \n",
       "3  Ord_5456   Prod_6  SHP_7625  Cust_1818  2337.89      0.09              43   \n",
       "4  Ord_5485  Prod_17  SHP_7664  Cust_1818  4233.15      0.08              35   \n",
       "\n",
       "    Profit  Shipping_Cost  Product_Base_Margin  \n",
       "0   -30.51           3.60                 0.56  \n",
       "1     4.56           0.93                 0.54  \n",
       "2  1148.90           2.50                 0.59  \n",
       "3   729.34          14.30                 0.37  \n",
       "4  1219.87          26.30                 0.38  "
      ]
     },
     "execution_count": 6,
     "metadata": {},
     "output_type": "execute_result"
    }
   ],
   "source": [
    "# Display the top five rows\n",
    "market_df.head(5)"
   ]
  },
  {
   "cell_type": "code",
   "execution_count": 7,
   "metadata": {},
   "outputs": [
    {
     "data": {
      "text/html": [
       "<div>\n",
       "<style scoped>\n",
       "    .dataframe tbody tr th:only-of-type {\n",
       "        vertical-align: middle;\n",
       "    }\n",
       "\n",
       "    .dataframe tbody tr th {\n",
       "        vertical-align: top;\n",
       "    }\n",
       "\n",
       "    .dataframe thead th {\n",
       "        text-align: right;\n",
       "    }\n",
       "</style>\n",
       "<table border=\"1\" class=\"dataframe\">\n",
       "  <thead>\n",
       "    <tr style=\"text-align: right;\">\n",
       "      <th></th>\n",
       "      <th>Ord_id</th>\n",
       "      <th>Prod_id</th>\n",
       "      <th>Ship_id</th>\n",
       "      <th>Cust_id</th>\n",
       "      <th>Sales</th>\n",
       "      <th>Discount</th>\n",
       "      <th>Order_Quantity</th>\n",
       "      <th>Profit</th>\n",
       "      <th>Shipping_Cost</th>\n",
       "      <th>Product_Base_Margin</th>\n",
       "    </tr>\n",
       "  </thead>\n",
       "  <tbody>\n",
       "    <tr>\n",
       "      <td>8396</td>\n",
       "      <td>Ord_5388</td>\n",
       "      <td>Prod_6</td>\n",
       "      <td>SHP_7524</td>\n",
       "      <td>Cust_1798</td>\n",
       "      <td>243.05</td>\n",
       "      <td>0.02</td>\n",
       "      <td>39</td>\n",
       "      <td>-70.85</td>\n",
       "      <td>5.35</td>\n",
       "      <td>0.40</td>\n",
       "    </tr>\n",
       "    <tr>\n",
       "      <td>8397</td>\n",
       "      <td>Ord_5348</td>\n",
       "      <td>Prod_15</td>\n",
       "      <td>SHP_7469</td>\n",
       "      <td>Cust_1798</td>\n",
       "      <td>3872.87</td>\n",
       "      <td>0.03</td>\n",
       "      <td>23</td>\n",
       "      <td>565.34</td>\n",
       "      <td>30.00</td>\n",
       "      <td>0.62</td>\n",
       "    </tr>\n",
       "    <tr>\n",
       "      <td>8398</td>\n",
       "      <td>Ord_5459</td>\n",
       "      <td>Prod_6</td>\n",
       "      <td>SHP_7628</td>\n",
       "      <td>Cust_1798</td>\n",
       "      <td>603.69</td>\n",
       "      <td>0.00</td>\n",
       "      <td>47</td>\n",
       "      <td>131.39</td>\n",
       "      <td>4.86</td>\n",
       "      <td>0.38</td>\n",
       "    </tr>\n",
       "  </tbody>\n",
       "</table>\n",
       "</div>"
      ],
      "text/plain": [
       "        Ord_id  Prod_id   Ship_id    Cust_id    Sales  Discount  \\\n",
       "8396  Ord_5388   Prod_6  SHP_7524  Cust_1798   243.05      0.02   \n",
       "8397  Ord_5348  Prod_15  SHP_7469  Cust_1798  3872.87      0.03   \n",
       "8398  Ord_5459   Prod_6  SHP_7628  Cust_1798   603.69      0.00   \n",
       "\n",
       "      Order_Quantity  Profit  Shipping_Cost  Product_Base_Margin  \n",
       "8396              39  -70.85           5.35                 0.40  \n",
       "8397              23  565.34          30.00                 0.62  \n",
       "8398              47  131.39           4.86                 0.38  "
      ]
     },
     "execution_count": 7,
     "metadata": {},
     "output_type": "execute_result"
    }
   ],
   "source": [
    "# Display the last three rows\n",
    "market_df.tail(3)"
   ]
  },
  {
   "cell_type": "code",
   "execution_count": 8,
   "metadata": {},
   "outputs": [
    {
     "data": {
      "text/plain": [
       "8399"
      ]
     },
     "execution_count": 8,
     "metadata": {},
     "output_type": "execute_result"
    }
   ],
   "source": [
    "# Check the total number of entries you have\n",
    "market_df.shape[0]"
   ]
  },
  {
   "cell_type": "code",
   "execution_count": 9,
   "metadata": {},
   "outputs": [
    {
     "data": {
      "text/plain": [
       "10"
      ]
     },
     "execution_count": 9,
     "metadata": {},
     "output_type": "execute_result"
    }
   ],
   "source": [
    "# Check the No of features\n",
    "market_df.shape[1]"
   ]
  },
  {
   "cell_type": "code",
   "execution_count": 10,
   "metadata": {},
   "outputs": [
    {
     "data": {
      "text/plain": [
       "Index(['Ord_id', 'Prod_id', 'Ship_id', 'Cust_id', 'Sales', 'Discount',\n",
       "       'Order_Quantity', 'Profit', 'Shipping_Cost', 'Product_Base_Margin'],\n",
       "      dtype='object')"
      ]
     },
     "execution_count": 10,
     "metadata": {},
     "output_type": "execute_result"
    }
   ],
   "source": [
    "# Print features Names(Column Names)\n",
    "market_df.columns"
   ]
  },
  {
   "cell_type": "code",
   "execution_count": 11,
   "metadata": {},
   "outputs": [
    {
     "data": {
      "text/plain": [
       "RangeIndex(start=0, stop=8399, step=1)"
      ]
     },
     "execution_count": 11,
     "metadata": {},
     "output_type": "execute_result"
    }
   ],
   "source": [
    "# Print the row indices of the dataframe\n",
    "market_df.index"
   ]
  },
  {
   "cell_type": "code",
   "execution_count": 12,
   "metadata": {},
   "outputs": [
    {
     "data": {
      "text/plain": [
       "Ord_id                  object\n",
       "Prod_id                 object\n",
       "Ship_id                 object\n",
       "Cust_id                 object\n",
       "Sales                  float64\n",
       "Discount               float64\n",
       "Order_Quantity           int64\n",
       "Profit                 float64\n",
       "Shipping_Cost          float64\n",
       "Product_Base_Margin    float64\n",
       "dtype: object"
      ]
     },
     "execution_count": 12,
     "metadata": {},
     "output_type": "execute_result"
    }
   ],
   "source": [
    "# Check the dtype of each and every column\n",
    "market_df.dtypes"
   ]
  },
  {
   "cell_type": "code",
   "execution_count": 13,
   "metadata": {
    "collapsed": true
   },
   "outputs": [
    {
     "data": {
      "text/html": [
       "<div>\n",
       "<style scoped>\n",
       "    .dataframe tbody tr th:only-of-type {\n",
       "        vertical-align: middle;\n",
       "    }\n",
       "\n",
       "    .dataframe tbody tr th {\n",
       "        vertical-align: top;\n",
       "    }\n",
       "\n",
       "    .dataframe thead th {\n",
       "        text-align: right;\n",
       "    }\n",
       "</style>\n",
       "<table border=\"1\" class=\"dataframe\">\n",
       "  <thead>\n",
       "    <tr style=\"text-align: right;\">\n",
       "      <th></th>\n",
       "      <th>Sales</th>\n",
       "      <th>Discount</th>\n",
       "      <th>Order_Quantity</th>\n",
       "      <th>Profit</th>\n",
       "      <th>Shipping_Cost</th>\n",
       "      <th>Product_Base_Margin</th>\n",
       "    </tr>\n",
       "  </thead>\n",
       "  <tbody>\n",
       "    <tr>\n",
       "      <td>count</td>\n",
       "      <td>8399.000000</td>\n",
       "      <td>8399.000000</td>\n",
       "      <td>8399.000000</td>\n",
       "      <td>8399.000000</td>\n",
       "      <td>8399.000000</td>\n",
       "      <td>8336.000000</td>\n",
       "    </tr>\n",
       "    <tr>\n",
       "      <td>mean</td>\n",
       "      <td>1775.878179</td>\n",
       "      <td>0.049671</td>\n",
       "      <td>25.571735</td>\n",
       "      <td>181.184424</td>\n",
       "      <td>12.838557</td>\n",
       "      <td>0.512513</td>\n",
       "    </tr>\n",
       "    <tr>\n",
       "      <td>std</td>\n",
       "      <td>3585.050525</td>\n",
       "      <td>0.031823</td>\n",
       "      <td>14.481071</td>\n",
       "      <td>1196.653371</td>\n",
       "      <td>17.264052</td>\n",
       "      <td>0.135589</td>\n",
       "    </tr>\n",
       "    <tr>\n",
       "      <td>min</td>\n",
       "      <td>2.240000</td>\n",
       "      <td>0.000000</td>\n",
       "      <td>1.000000</td>\n",
       "      <td>-14140.700000</td>\n",
       "      <td>0.490000</td>\n",
       "      <td>0.350000</td>\n",
       "    </tr>\n",
       "    <tr>\n",
       "      <td>25%</td>\n",
       "      <td>143.195000</td>\n",
       "      <td>0.020000</td>\n",
       "      <td>13.000000</td>\n",
       "      <td>-83.315000</td>\n",
       "      <td>3.300000</td>\n",
       "      <td>0.380000</td>\n",
       "    </tr>\n",
       "    <tr>\n",
       "      <td>50%</td>\n",
       "      <td>449.420000</td>\n",
       "      <td>0.050000</td>\n",
       "      <td>26.000000</td>\n",
       "      <td>-1.500000</td>\n",
       "      <td>6.070000</td>\n",
       "      <td>0.520000</td>\n",
       "    </tr>\n",
       "    <tr>\n",
       "      <td>75%</td>\n",
       "      <td>1709.320000</td>\n",
       "      <td>0.080000</td>\n",
       "      <td>38.000000</td>\n",
       "      <td>162.750000</td>\n",
       "      <td>13.990000</td>\n",
       "      <td>0.590000</td>\n",
       "    </tr>\n",
       "    <tr>\n",
       "      <td>max</td>\n",
       "      <td>89061.050000</td>\n",
       "      <td>0.250000</td>\n",
       "      <td>50.000000</td>\n",
       "      <td>27220.690000</td>\n",
       "      <td>164.730000</td>\n",
       "      <td>0.850000</td>\n",
       "    </tr>\n",
       "  </tbody>\n",
       "</table>\n",
       "</div>"
      ],
      "text/plain": [
       "              Sales     Discount  Order_Quantity        Profit  Shipping_Cost  \\\n",
       "count   8399.000000  8399.000000     8399.000000   8399.000000    8399.000000   \n",
       "mean    1775.878179     0.049671       25.571735    181.184424      12.838557   \n",
       "std     3585.050525     0.031823       14.481071   1196.653371      17.264052   \n",
       "min        2.240000     0.000000        1.000000 -14140.700000       0.490000   \n",
       "25%      143.195000     0.020000       13.000000    -83.315000       3.300000   \n",
       "50%      449.420000     0.050000       26.000000     -1.500000       6.070000   \n",
       "75%     1709.320000     0.080000       38.000000    162.750000      13.990000   \n",
       "max    89061.050000     0.250000       50.000000  27220.690000     164.730000   \n",
       "\n",
       "       Product_Base_Margin  \n",
       "count          8336.000000  \n",
       "mean              0.512513  \n",
       "std               0.135589  \n",
       "min               0.350000  \n",
       "25%               0.380000  \n",
       "50%               0.520000  \n",
       "75%               0.590000  \n",
       "max               0.850000  "
      ]
     },
     "execution_count": 13,
     "metadata": {},
     "output_type": "execute_result"
    }
   ],
   "source": [
    "# Description for Numerical Column min,max,count,25%,50%,75%,std\n",
    "market_df.describe()"
   ]
  },
  {
   "cell_type": "code",
   "execution_count": 14,
   "metadata": {
    "collapsed": true
   },
   "outputs": [
    {
     "data": {
      "text/plain": [
       "count     8399.000000\n",
       "mean      1775.878179\n",
       "std       3585.050525\n",
       "min          2.240000\n",
       "25%        143.195000\n",
       "50%        449.420000\n",
       "75%       1709.320000\n",
       "max      89061.050000\n",
       "Name: Sales, dtype: float64"
      ]
     },
     "execution_count": 14,
     "metadata": {},
     "output_type": "execute_result"
    }
   ],
   "source": [
    "market_df.describe()['Sales']"
   ]
  },
  {
   "cell_type": "code",
   "execution_count": 15,
   "metadata": {
    "collapsed": true
   },
   "outputs": [
    {
     "data": {
      "text/plain": [
       "count     8399.000000\n",
       "mean      1775.878179\n",
       "std       3585.050525\n",
       "min          2.240000\n",
       "25%        143.195000\n",
       "50%        449.420000\n",
       "75%       1709.320000\n",
       "max      89061.050000\n",
       "Name: Sales, dtype: float64"
      ]
     },
     "execution_count": 15,
     "metadata": {},
     "output_type": "execute_result"
    }
   ],
   "source": [
    "market_df['Sales'].describe()"
   ]
  },
  {
   "cell_type": "code",
   "execution_count": 16,
   "metadata": {
    "scrolled": true
   },
   "outputs": [
    {
     "data": {
      "text/html": [
       "<div>\n",
       "<style scoped>\n",
       "    .dataframe tbody tr th:only-of-type {\n",
       "        vertical-align: middle;\n",
       "    }\n",
       "\n",
       "    .dataframe tbody tr th {\n",
       "        vertical-align: top;\n",
       "    }\n",
       "\n",
       "    .dataframe thead th {\n",
       "        text-align: right;\n",
       "    }\n",
       "</style>\n",
       "<table border=\"1\" class=\"dataframe\">\n",
       "  <thead>\n",
       "    <tr style=\"text-align: right;\">\n",
       "      <th></th>\n",
       "      <th>Ord_id</th>\n",
       "      <th>Prod_id</th>\n",
       "      <th>Ship_id</th>\n",
       "      <th>Cust_id</th>\n",
       "    </tr>\n",
       "  </thead>\n",
       "  <tbody>\n",
       "    <tr>\n",
       "      <td>count</td>\n",
       "      <td>8399</td>\n",
       "      <td>8399</td>\n",
       "      <td>8399</td>\n",
       "      <td>8399</td>\n",
       "    </tr>\n",
       "    <tr>\n",
       "      <td>unique</td>\n",
       "      <td>5506</td>\n",
       "      <td>17</td>\n",
       "      <td>7701</td>\n",
       "      <td>1832</td>\n",
       "    </tr>\n",
       "    <tr>\n",
       "      <td>top</td>\n",
       "      <td>Ord_2506</td>\n",
       "      <td>Prod_6</td>\n",
       "      <td>SHP_1378</td>\n",
       "      <td>Cust_1140</td>\n",
       "    </tr>\n",
       "    <tr>\n",
       "      <td>freq</td>\n",
       "      <td>6</td>\n",
       "      <td>1225</td>\n",
       "      <td>4</td>\n",
       "      <td>30</td>\n",
       "    </tr>\n",
       "  </tbody>\n",
       "</table>\n",
       "</div>"
      ],
      "text/plain": [
       "          Ord_id Prod_id   Ship_id    Cust_id\n",
       "count       8399    8399      8399       8399\n",
       "unique      5506      17      7701       1832\n",
       "top     Ord_2506  Prod_6  SHP_1378  Cust_1140\n",
       "freq           6    1225         4         30"
      ]
     },
     "execution_count": 16,
     "metadata": {},
     "output_type": "execute_result"
    }
   ],
   "source": [
    "# Description for the categorical Columns count,top,freq\n",
    "market_df.describe(include='object')"
   ]
  },
  {
   "cell_type": "code",
   "execution_count": 17,
   "metadata": {},
   "outputs": [
    {
     "data": {
      "text/plain": [
       "Ord_id                  0\n",
       "Prod_id                 0\n",
       "Ship_id                 0\n",
       "Cust_id                 0\n",
       "Sales                   0\n",
       "Discount                0\n",
       "Order_Quantity          0\n",
       "Profit                  0\n",
       "Shipping_Cost           0\n",
       "Product_Base_Margin    63\n",
       "dtype: int64"
      ]
     },
     "execution_count": 17,
     "metadata": {},
     "output_type": "execute_result"
    }
   ],
   "source": [
    "# Missing value count column wise\n",
    "market_df.isnull().sum()"
   ]
  },
  {
   "cell_type": "code",
   "execution_count": 18,
   "metadata": {},
   "outputs": [
    {
     "data": {
      "text/plain": [
       "63"
      ]
     },
     "execution_count": 18,
     "metadata": {},
     "output_type": "execute_result"
    }
   ],
   "source": [
    "# Total Missing values count in the DataFrame \n",
    "market_df.isnull().sum().sum()"
   ]
  },
  {
   "cell_type": "code",
   "execution_count": 19,
   "metadata": {
    "collapsed": true
   },
   "outputs": [
    {
     "name": "stdout",
     "output_type": "stream",
     "text": [
      "<class 'pandas.core.frame.DataFrame'>\n",
      "RangeIndex: 8399 entries, 0 to 8398\n",
      "Data columns (total 10 columns):\n",
      "Ord_id                 8399 non-null object\n",
      "Prod_id                8399 non-null object\n",
      "Ship_id                8399 non-null object\n",
      "Cust_id                8399 non-null object\n",
      "Sales                  8399 non-null float64\n",
      "Discount               8399 non-null float64\n",
      "Order_Quantity         8399 non-null int64\n",
      "Profit                 8399 non-null float64\n",
      "Shipping_Cost          8399 non-null float64\n",
      "Product_Base_Margin    8336 non-null float64\n",
      "dtypes: float64(5), int64(1), object(4)\n",
      "memory usage: 656.3+ KB\n"
     ]
    }
   ],
   "source": [
    "# Check the output for the info function\n",
    "market_df.info()"
   ]
  },
  {
   "cell_type": "code",
   "execution_count": 20,
   "metadata": {
    "collapsed": true
   },
   "outputs": [
    {
     "data": {
      "text/html": [
       "<div>\n",
       "<style scoped>\n",
       "    .dataframe tbody tr th:only-of-type {\n",
       "        vertical-align: middle;\n",
       "    }\n",
       "\n",
       "    .dataframe tbody tr th {\n",
       "        vertical-align: top;\n",
       "    }\n",
       "\n",
       "    .dataframe thead th {\n",
       "        text-align: right;\n",
       "    }\n",
       "</style>\n",
       "<table border=\"1\" class=\"dataframe\">\n",
       "  <thead>\n",
       "    <tr style=\"text-align: right;\">\n",
       "      <th></th>\n",
       "      <th>Ship_id</th>\n",
       "      <th>Sales</th>\n",
       "      <th>Order_Quantity</th>\n",
       "    </tr>\n",
       "  </thead>\n",
       "  <tbody>\n",
       "    <tr>\n",
       "      <td>0</td>\n",
       "      <td>SHP_7609</td>\n",
       "      <td>136.8100</td>\n",
       "      <td>23</td>\n",
       "    </tr>\n",
       "    <tr>\n",
       "      <td>1</td>\n",
       "      <td>SHP_7549</td>\n",
       "      <td>42.2700</td>\n",
       "      <td>13</td>\n",
       "    </tr>\n",
       "    <tr>\n",
       "      <td>2</td>\n",
       "      <td>SHP_7610</td>\n",
       "      <td>4701.6900</td>\n",
       "      <td>26</td>\n",
       "    </tr>\n",
       "    <tr>\n",
       "      <td>3</td>\n",
       "      <td>SHP_7625</td>\n",
       "      <td>2337.8900</td>\n",
       "      <td>43</td>\n",
       "    </tr>\n",
       "    <tr>\n",
       "      <td>4</td>\n",
       "      <td>SHP_7664</td>\n",
       "      <td>4233.1500</td>\n",
       "      <td>35</td>\n",
       "    </tr>\n",
       "    <tr>\n",
       "      <td>...</td>\n",
       "      <td>...</td>\n",
       "      <td>...</td>\n",
       "      <td>...</td>\n",
       "    </tr>\n",
       "    <tr>\n",
       "      <td>8394</td>\n",
       "      <td>SHP_7479</td>\n",
       "      <td>2841.4395</td>\n",
       "      <td>28</td>\n",
       "    </tr>\n",
       "    <tr>\n",
       "      <td>8395</td>\n",
       "      <td>SHP_7555</td>\n",
       "      <td>127.1600</td>\n",
       "      <td>20</td>\n",
       "    </tr>\n",
       "    <tr>\n",
       "      <td>8396</td>\n",
       "      <td>SHP_7524</td>\n",
       "      <td>243.0500</td>\n",
       "      <td>39</td>\n",
       "    </tr>\n",
       "    <tr>\n",
       "      <td>8397</td>\n",
       "      <td>SHP_7469</td>\n",
       "      <td>3872.8700</td>\n",
       "      <td>23</td>\n",
       "    </tr>\n",
       "    <tr>\n",
       "      <td>8398</td>\n",
       "      <td>SHP_7628</td>\n",
       "      <td>603.6900</td>\n",
       "      <td>47</td>\n",
       "    </tr>\n",
       "  </tbody>\n",
       "</table>\n",
       "<p>8399 rows × 3 columns</p>\n",
       "</div>"
      ],
      "text/plain": [
       "       Ship_id      Sales  Order_Quantity\n",
       "0     SHP_7609   136.8100              23\n",
       "1     SHP_7549    42.2700              13\n",
       "2     SHP_7610  4701.6900              26\n",
       "3     SHP_7625  2337.8900              43\n",
       "4     SHP_7664  4233.1500              35\n",
       "...        ...        ...             ...\n",
       "8394  SHP_7479  2841.4395              28\n",
       "8395  SHP_7555   127.1600              20\n",
       "8396  SHP_7524   243.0500              39\n",
       "8397  SHP_7469  3872.8700              23\n",
       "8398  SHP_7628   603.6900              47\n",
       "\n",
       "[8399 rows x 3 columns]"
      ]
     },
     "execution_count": 20,
     "metadata": {},
     "output_type": "execute_result"
    }
   ],
   "source": [
    "# Access 3,5,7 columns using iloc,loc and without using any of them\n",
    "market_df.iloc[:,2:7:2]"
   ]
  },
  {
   "cell_type": "code",
   "execution_count": 21,
   "metadata": {
    "collapsed": true
   },
   "outputs": [
    {
     "data": {
      "text/html": [
       "<div>\n",
       "<style scoped>\n",
       "    .dataframe tbody tr th:only-of-type {\n",
       "        vertical-align: middle;\n",
       "    }\n",
       "\n",
       "    .dataframe tbody tr th {\n",
       "        vertical-align: top;\n",
       "    }\n",
       "\n",
       "    .dataframe thead th {\n",
       "        text-align: right;\n",
       "    }\n",
       "</style>\n",
       "<table border=\"1\" class=\"dataframe\">\n",
       "  <thead>\n",
       "    <tr style=\"text-align: right;\">\n",
       "      <th></th>\n",
       "      <th>Ship_id</th>\n",
       "      <th>Sales</th>\n",
       "      <th>Order_Quantity</th>\n",
       "    </tr>\n",
       "  </thead>\n",
       "  <tbody>\n",
       "    <tr>\n",
       "      <td>0</td>\n",
       "      <td>SHP_7609</td>\n",
       "      <td>136.8100</td>\n",
       "      <td>23</td>\n",
       "    </tr>\n",
       "    <tr>\n",
       "      <td>1</td>\n",
       "      <td>SHP_7549</td>\n",
       "      <td>42.2700</td>\n",
       "      <td>13</td>\n",
       "    </tr>\n",
       "    <tr>\n",
       "      <td>2</td>\n",
       "      <td>SHP_7610</td>\n",
       "      <td>4701.6900</td>\n",
       "      <td>26</td>\n",
       "    </tr>\n",
       "    <tr>\n",
       "      <td>3</td>\n",
       "      <td>SHP_7625</td>\n",
       "      <td>2337.8900</td>\n",
       "      <td>43</td>\n",
       "    </tr>\n",
       "    <tr>\n",
       "      <td>4</td>\n",
       "      <td>SHP_7664</td>\n",
       "      <td>4233.1500</td>\n",
       "      <td>35</td>\n",
       "    </tr>\n",
       "    <tr>\n",
       "      <td>...</td>\n",
       "      <td>...</td>\n",
       "      <td>...</td>\n",
       "      <td>...</td>\n",
       "    </tr>\n",
       "    <tr>\n",
       "      <td>8394</td>\n",
       "      <td>SHP_7479</td>\n",
       "      <td>2841.4395</td>\n",
       "      <td>28</td>\n",
       "    </tr>\n",
       "    <tr>\n",
       "      <td>8395</td>\n",
       "      <td>SHP_7555</td>\n",
       "      <td>127.1600</td>\n",
       "      <td>20</td>\n",
       "    </tr>\n",
       "    <tr>\n",
       "      <td>8396</td>\n",
       "      <td>SHP_7524</td>\n",
       "      <td>243.0500</td>\n",
       "      <td>39</td>\n",
       "    </tr>\n",
       "    <tr>\n",
       "      <td>8397</td>\n",
       "      <td>SHP_7469</td>\n",
       "      <td>3872.8700</td>\n",
       "      <td>23</td>\n",
       "    </tr>\n",
       "    <tr>\n",
       "      <td>8398</td>\n",
       "      <td>SHP_7628</td>\n",
       "      <td>603.6900</td>\n",
       "      <td>47</td>\n",
       "    </tr>\n",
       "  </tbody>\n",
       "</table>\n",
       "<p>8399 rows × 3 columns</p>\n",
       "</div>"
      ],
      "text/plain": [
       "       Ship_id      Sales  Order_Quantity\n",
       "0     SHP_7609   136.8100              23\n",
       "1     SHP_7549    42.2700              13\n",
       "2     SHP_7610  4701.6900              26\n",
       "3     SHP_7625  2337.8900              43\n",
       "4     SHP_7664  4233.1500              35\n",
       "...        ...        ...             ...\n",
       "8394  SHP_7479  2841.4395              28\n",
       "8395  SHP_7555   127.1600              20\n",
       "8396  SHP_7524   243.0500              39\n",
       "8397  SHP_7469  3872.8700              23\n",
       "8398  SHP_7628   603.6900              47\n",
       "\n",
       "[8399 rows x 3 columns]"
      ]
     },
     "execution_count": 21,
     "metadata": {},
     "output_type": "execute_result"
    }
   ],
   "source": [
    "market_df.loc[:,[ 'Ship_id', 'Sales','Order_Quantity']]"
   ]
  },
  {
   "cell_type": "code",
   "execution_count": 22,
   "metadata": {
    "collapsed": true
   },
   "outputs": [
    {
     "data": {
      "text/html": [
       "<div>\n",
       "<style scoped>\n",
       "    .dataframe tbody tr th:only-of-type {\n",
       "        vertical-align: middle;\n",
       "    }\n",
       "\n",
       "    .dataframe tbody tr th {\n",
       "        vertical-align: top;\n",
       "    }\n",
       "\n",
       "    .dataframe thead th {\n",
       "        text-align: right;\n",
       "    }\n",
       "</style>\n",
       "<table border=\"1\" class=\"dataframe\">\n",
       "  <thead>\n",
       "    <tr style=\"text-align: right;\">\n",
       "      <th></th>\n",
       "      <th>Ship_id</th>\n",
       "      <th>Sales</th>\n",
       "      <th>Order_Quantity</th>\n",
       "    </tr>\n",
       "  </thead>\n",
       "  <tbody>\n",
       "    <tr>\n",
       "      <td>0</td>\n",
       "      <td>SHP_7609</td>\n",
       "      <td>136.8100</td>\n",
       "      <td>23</td>\n",
       "    </tr>\n",
       "    <tr>\n",
       "      <td>1</td>\n",
       "      <td>SHP_7549</td>\n",
       "      <td>42.2700</td>\n",
       "      <td>13</td>\n",
       "    </tr>\n",
       "    <tr>\n",
       "      <td>2</td>\n",
       "      <td>SHP_7610</td>\n",
       "      <td>4701.6900</td>\n",
       "      <td>26</td>\n",
       "    </tr>\n",
       "    <tr>\n",
       "      <td>3</td>\n",
       "      <td>SHP_7625</td>\n",
       "      <td>2337.8900</td>\n",
       "      <td>43</td>\n",
       "    </tr>\n",
       "    <tr>\n",
       "      <td>4</td>\n",
       "      <td>SHP_7664</td>\n",
       "      <td>4233.1500</td>\n",
       "      <td>35</td>\n",
       "    </tr>\n",
       "    <tr>\n",
       "      <td>...</td>\n",
       "      <td>...</td>\n",
       "      <td>...</td>\n",
       "      <td>...</td>\n",
       "    </tr>\n",
       "    <tr>\n",
       "      <td>8394</td>\n",
       "      <td>SHP_7479</td>\n",
       "      <td>2841.4395</td>\n",
       "      <td>28</td>\n",
       "    </tr>\n",
       "    <tr>\n",
       "      <td>8395</td>\n",
       "      <td>SHP_7555</td>\n",
       "      <td>127.1600</td>\n",
       "      <td>20</td>\n",
       "    </tr>\n",
       "    <tr>\n",
       "      <td>8396</td>\n",
       "      <td>SHP_7524</td>\n",
       "      <td>243.0500</td>\n",
       "      <td>39</td>\n",
       "    </tr>\n",
       "    <tr>\n",
       "      <td>8397</td>\n",
       "      <td>SHP_7469</td>\n",
       "      <td>3872.8700</td>\n",
       "      <td>23</td>\n",
       "    </tr>\n",
       "    <tr>\n",
       "      <td>8398</td>\n",
       "      <td>SHP_7628</td>\n",
       "      <td>603.6900</td>\n",
       "      <td>47</td>\n",
       "    </tr>\n",
       "  </tbody>\n",
       "</table>\n",
       "<p>8399 rows × 3 columns</p>\n",
       "</div>"
      ],
      "text/plain": [
       "       Ship_id      Sales  Order_Quantity\n",
       "0     SHP_7609   136.8100              23\n",
       "1     SHP_7549    42.2700              13\n",
       "2     SHP_7610  4701.6900              26\n",
       "3     SHP_7625  2337.8900              43\n",
       "4     SHP_7664  4233.1500              35\n",
       "...        ...        ...             ...\n",
       "8394  SHP_7479  2841.4395              28\n",
       "8395  SHP_7555   127.1600              20\n",
       "8396  SHP_7524   243.0500              39\n",
       "8397  SHP_7469  3872.8700              23\n",
       "8398  SHP_7628   603.6900              47\n",
       "\n",
       "[8399 rows x 3 columns]"
      ]
     },
     "execution_count": 22,
     "metadata": {},
     "output_type": "execute_result"
    }
   ],
   "source": [
    "market_df[[ 'Ship_id', 'Sales','Order_Quantity']]"
   ]
  },
  {
   "cell_type": "code",
   "execution_count": 23,
   "metadata": {},
   "outputs": [
    {
     "data": {
      "text/plain": [
       "17"
      ]
     },
     "execution_count": 23,
     "metadata": {},
     "output_type": "execute_result"
    }
   ],
   "source": [
    "# How many unique products are there\n",
    "market_df.Prod_id.nunique()"
   ]
  },
  {
   "cell_type": "code",
   "execution_count": 24,
   "metadata": {},
   "outputs": [
    {
     "data": {
      "text/plain": [
       "1832"
      ]
     },
     "execution_count": 24,
     "metadata": {},
     "output_type": "execute_result"
    }
   ],
   "source": [
    "# How amny unique customers are there\n",
    "market_df.Cust_id.nunique()"
   ]
  },
  {
   "cell_type": "code",
   "execution_count": 25,
   "metadata": {},
   "outputs": [
    {
     "data": {
      "text/plain": [
       "89061.05"
      ]
     },
     "execution_count": 25,
     "metadata": {},
     "output_type": "execute_result"
    }
   ],
   "source": [
    "# What is the maximum sales\n",
    "market_df.Sales.max()"
   ]
  },
  {
   "cell_type": "markdown",
   "metadata": {},
   "source": [
    "# Prod_dimen.csv\n",
    "- Read the Prod_diment data into prod_df\n",
    "- Display the top two rows\n",
    "- Display the last three rows\n",
    "- Select one row randomly\n",
    "- Check the total number of entries you have\n",
    "- Check the No of features\n",
    "- Print features Names(Column Names)\n",
    "- Check the dtype of each and every columns\n",
    "- Merge Market_df and Prod_pf creaate new datarame with comb_data\n",
    "- check the number of rows and columns in comb_data.\n",
    "- In the comb_data check the value counts in \"Product_Category\" and \"Product_Sub_Category\" columns"
   ]
  },
  {
   "cell_type": "code",
   "execution_count": 26,
   "metadata": {
    "collapsed": true
   },
   "outputs": [
    {
     "data": {
      "text/html": [
       "<div>\n",
       "<style scoped>\n",
       "    .dataframe tbody tr th:only-of-type {\n",
       "        vertical-align: middle;\n",
       "    }\n",
       "\n",
       "    .dataframe tbody tr th {\n",
       "        vertical-align: top;\n",
       "    }\n",
       "\n",
       "    .dataframe thead th {\n",
       "        text-align: right;\n",
       "    }\n",
       "</style>\n",
       "<table border=\"1\" class=\"dataframe\">\n",
       "  <thead>\n",
       "    <tr style=\"text-align: right;\">\n",
       "      <th></th>\n",
       "      <th>Product_Category</th>\n",
       "      <th>Product_Sub_Category</th>\n",
       "      <th>Prod_id</th>\n",
       "    </tr>\n",
       "  </thead>\n",
       "  <tbody>\n",
       "    <tr>\n",
       "      <td>0</td>\n",
       "      <td>OFFICE SUPPLIES</td>\n",
       "      <td>STORAGE &amp; ORGANIZATION</td>\n",
       "      <td>Prod_1</td>\n",
       "    </tr>\n",
       "    <tr>\n",
       "      <td>1</td>\n",
       "      <td>OFFICE SUPPLIES</td>\n",
       "      <td>APPLIANCES</td>\n",
       "      <td>Prod_2</td>\n",
       "    </tr>\n",
       "    <tr>\n",
       "      <td>2</td>\n",
       "      <td>OFFICE SUPPLIES</td>\n",
       "      <td>BINDERS AND BINDER ACCESSORIES</td>\n",
       "      <td>Prod_3</td>\n",
       "    </tr>\n",
       "    <tr>\n",
       "      <td>3</td>\n",
       "      <td>TECHNOLOGY</td>\n",
       "      <td>TELEPHONES AND COMMUNICATION</td>\n",
       "      <td>Prod_4</td>\n",
       "    </tr>\n",
       "    <tr>\n",
       "      <td>4</td>\n",
       "      <td>FURNITURE</td>\n",
       "      <td>OFFICE FURNISHINGS</td>\n",
       "      <td>Prod_5</td>\n",
       "    </tr>\n",
       "    <tr>\n",
       "      <td>5</td>\n",
       "      <td>OFFICE SUPPLIES</td>\n",
       "      <td>PAPER</td>\n",
       "      <td>Prod_6</td>\n",
       "    </tr>\n",
       "    <tr>\n",
       "      <td>6</td>\n",
       "      <td>OFFICE SUPPLIES</td>\n",
       "      <td>RUBBER BANDS</td>\n",
       "      <td>Prod_7</td>\n",
       "    </tr>\n",
       "    <tr>\n",
       "      <td>7</td>\n",
       "      <td>TECHNOLOGY</td>\n",
       "      <td>COMPUTER PERIPHERALS</td>\n",
       "      <td>Prod_8</td>\n",
       "    </tr>\n",
       "    <tr>\n",
       "      <td>8</td>\n",
       "      <td>OFFICE SUPPLIES</td>\n",
       "      <td>ENVELOPES</td>\n",
       "      <td>Prod_9</td>\n",
       "    </tr>\n",
       "    <tr>\n",
       "      <td>9</td>\n",
       "      <td>FURNITURE</td>\n",
       "      <td>BOOKCASES</td>\n",
       "      <td>Prod_10</td>\n",
       "    </tr>\n",
       "    <tr>\n",
       "      <td>10</td>\n",
       "      <td>FURNITURE</td>\n",
       "      <td>TABLES</td>\n",
       "      <td>Prod_11</td>\n",
       "    </tr>\n",
       "    <tr>\n",
       "      <td>11</td>\n",
       "      <td>OFFICE SUPPLIES</td>\n",
       "      <td>LABELS</td>\n",
       "      <td>Prod_12</td>\n",
       "    </tr>\n",
       "    <tr>\n",
       "      <td>12</td>\n",
       "      <td>OFFICE SUPPLIES</td>\n",
       "      <td>PENS &amp; ART SUPPLIES</td>\n",
       "      <td>Prod_13</td>\n",
       "    </tr>\n",
       "    <tr>\n",
       "      <td>13</td>\n",
       "      <td>TECHNOLOGY</td>\n",
       "      <td>COPIERS AND FAX</td>\n",
       "      <td>Prod_14</td>\n",
       "    </tr>\n",
       "    <tr>\n",
       "      <td>14</td>\n",
       "      <td>FURNITURE</td>\n",
       "      <td>CHAIRS &amp; CHAIRMATS</td>\n",
       "      <td>Prod_15</td>\n",
       "    </tr>\n",
       "    <tr>\n",
       "      <td>15</td>\n",
       "      <td>OFFICE SUPPLIES</td>\n",
       "      <td>SCISSORS, RULERS AND TRIMMERS</td>\n",
       "      <td>Prod_16</td>\n",
       "    </tr>\n",
       "    <tr>\n",
       "      <td>16</td>\n",
       "      <td>TECHNOLOGY</td>\n",
       "      <td>OFFICE MACHINES</td>\n",
       "      <td>Prod_17</td>\n",
       "    </tr>\n",
       "  </tbody>\n",
       "</table>\n",
       "</div>"
      ],
      "text/plain": [
       "   Product_Category            Product_Sub_Category  Prod_id\n",
       "0   OFFICE SUPPLIES          STORAGE & ORGANIZATION   Prod_1\n",
       "1   OFFICE SUPPLIES                      APPLIANCES   Prod_2\n",
       "2   OFFICE SUPPLIES  BINDERS AND BINDER ACCESSORIES   Prod_3\n",
       "3        TECHNOLOGY    TELEPHONES AND COMMUNICATION   Prod_4\n",
       "4         FURNITURE              OFFICE FURNISHINGS   Prod_5\n",
       "5   OFFICE SUPPLIES                           PAPER   Prod_6\n",
       "6   OFFICE SUPPLIES                    RUBBER BANDS   Prod_7\n",
       "7        TECHNOLOGY            COMPUTER PERIPHERALS   Prod_8\n",
       "8   OFFICE SUPPLIES                       ENVELOPES   Prod_9\n",
       "9         FURNITURE                       BOOKCASES  Prod_10\n",
       "10        FURNITURE                          TABLES  Prod_11\n",
       "11  OFFICE SUPPLIES                          LABELS  Prod_12\n",
       "12  OFFICE SUPPLIES             PENS & ART SUPPLIES  Prod_13\n",
       "13       TECHNOLOGY                 COPIERS AND FAX  Prod_14\n",
       "14        FURNITURE              CHAIRS & CHAIRMATS  Prod_15\n",
       "15  OFFICE SUPPLIES   SCISSORS, RULERS AND TRIMMERS  Prod_16\n",
       "16       TECHNOLOGY                 OFFICE MACHINES  Prod_17"
      ]
     },
     "execution_count": 26,
     "metadata": {},
     "output_type": "execute_result"
    }
   ],
   "source": [
    "# Read the Prod_diment data into prod_df\n",
    "prod_df=pd.read_csv('data\\\\global_sales_data\\\\Prod_dimen.csv')\n",
    "prod_df"
   ]
  },
  {
   "cell_type": "code",
   "execution_count": 27,
   "metadata": {},
   "outputs": [
    {
     "data": {
      "text/html": [
       "<div>\n",
       "<style scoped>\n",
       "    .dataframe tbody tr th:only-of-type {\n",
       "        vertical-align: middle;\n",
       "    }\n",
       "\n",
       "    .dataframe tbody tr th {\n",
       "        vertical-align: top;\n",
       "    }\n",
       "\n",
       "    .dataframe thead th {\n",
       "        text-align: right;\n",
       "    }\n",
       "</style>\n",
       "<table border=\"1\" class=\"dataframe\">\n",
       "  <thead>\n",
       "    <tr style=\"text-align: right;\">\n",
       "      <th></th>\n",
       "      <th>Product_Category</th>\n",
       "      <th>Product_Sub_Category</th>\n",
       "      <th>Prod_id</th>\n",
       "    </tr>\n",
       "  </thead>\n",
       "  <tbody>\n",
       "    <tr>\n",
       "      <td>0</td>\n",
       "      <td>OFFICE SUPPLIES</td>\n",
       "      <td>STORAGE &amp; ORGANIZATION</td>\n",
       "      <td>Prod_1</td>\n",
       "    </tr>\n",
       "    <tr>\n",
       "      <td>1</td>\n",
       "      <td>OFFICE SUPPLIES</td>\n",
       "      <td>APPLIANCES</td>\n",
       "      <td>Prod_2</td>\n",
       "    </tr>\n",
       "  </tbody>\n",
       "</table>\n",
       "</div>"
      ],
      "text/plain": [
       "  Product_Category    Product_Sub_Category Prod_id\n",
       "0  OFFICE SUPPLIES  STORAGE & ORGANIZATION  Prod_1\n",
       "1  OFFICE SUPPLIES              APPLIANCES  Prod_2"
      ]
     },
     "execution_count": 27,
     "metadata": {},
     "output_type": "execute_result"
    }
   ],
   "source": [
    "# Display the top two rows\n",
    "prod_df.head(2)"
   ]
  },
  {
   "cell_type": "code",
   "execution_count": 28,
   "metadata": {},
   "outputs": [
    {
     "data": {
      "text/html": [
       "<div>\n",
       "<style scoped>\n",
       "    .dataframe tbody tr th:only-of-type {\n",
       "        vertical-align: middle;\n",
       "    }\n",
       "\n",
       "    .dataframe tbody tr th {\n",
       "        vertical-align: top;\n",
       "    }\n",
       "\n",
       "    .dataframe thead th {\n",
       "        text-align: right;\n",
       "    }\n",
       "</style>\n",
       "<table border=\"1\" class=\"dataframe\">\n",
       "  <thead>\n",
       "    <tr style=\"text-align: right;\">\n",
       "      <th></th>\n",
       "      <th>Product_Category</th>\n",
       "      <th>Product_Sub_Category</th>\n",
       "      <th>Prod_id</th>\n",
       "    </tr>\n",
       "  </thead>\n",
       "  <tbody>\n",
       "    <tr>\n",
       "      <td>14</td>\n",
       "      <td>FURNITURE</td>\n",
       "      <td>CHAIRS &amp; CHAIRMATS</td>\n",
       "      <td>Prod_15</td>\n",
       "    </tr>\n",
       "    <tr>\n",
       "      <td>15</td>\n",
       "      <td>OFFICE SUPPLIES</td>\n",
       "      <td>SCISSORS, RULERS AND TRIMMERS</td>\n",
       "      <td>Prod_16</td>\n",
       "    </tr>\n",
       "    <tr>\n",
       "      <td>16</td>\n",
       "      <td>TECHNOLOGY</td>\n",
       "      <td>OFFICE MACHINES</td>\n",
       "      <td>Prod_17</td>\n",
       "    </tr>\n",
       "  </tbody>\n",
       "</table>\n",
       "</div>"
      ],
      "text/plain": [
       "   Product_Category           Product_Sub_Category  Prod_id\n",
       "14        FURNITURE             CHAIRS & CHAIRMATS  Prod_15\n",
       "15  OFFICE SUPPLIES  SCISSORS, RULERS AND TRIMMERS  Prod_16\n",
       "16       TECHNOLOGY                OFFICE MACHINES  Prod_17"
      ]
     },
     "execution_count": 28,
     "metadata": {},
     "output_type": "execute_result"
    }
   ],
   "source": [
    "# Display the last three rows\n",
    "prod_df.tail(3)"
   ]
  },
  {
   "cell_type": "code",
   "execution_count": 30,
   "metadata": {},
   "outputs": [
    {
     "data": {
      "text/html": [
       "<div>\n",
       "<style scoped>\n",
       "    .dataframe tbody tr th:only-of-type {\n",
       "        vertical-align: middle;\n",
       "    }\n",
       "\n",
       "    .dataframe tbody tr th {\n",
       "        vertical-align: top;\n",
       "    }\n",
       "\n",
       "    .dataframe thead th {\n",
       "        text-align: right;\n",
       "    }\n",
       "</style>\n",
       "<table border=\"1\" class=\"dataframe\">\n",
       "  <thead>\n",
       "    <tr style=\"text-align: right;\">\n",
       "      <th></th>\n",
       "      <th>Product_Category</th>\n",
       "      <th>Product_Sub_Category</th>\n",
       "      <th>Prod_id</th>\n",
       "    </tr>\n",
       "  </thead>\n",
       "  <tbody>\n",
       "    <tr>\n",
       "      <td>7</td>\n",
       "      <td>TECHNOLOGY</td>\n",
       "      <td>COMPUTER PERIPHERALS</td>\n",
       "      <td>Prod_8</td>\n",
       "    </tr>\n",
       "  </tbody>\n",
       "</table>\n",
       "</div>"
      ],
      "text/plain": [
       "  Product_Category  Product_Sub_Category Prod_id\n",
       "7       TECHNOLOGY  COMPUTER PERIPHERALS  Prod_8"
      ]
     },
     "execution_count": 30,
     "metadata": {},
     "output_type": "execute_result"
    }
   ],
   "source": [
    "# Select one row randomly\n",
    "prod_df.sample()"
   ]
  },
  {
   "cell_type": "code",
   "execution_count": 31,
   "metadata": {},
   "outputs": [
    {
     "data": {
      "text/plain": [
       "17"
      ]
     },
     "execution_count": 31,
     "metadata": {},
     "output_type": "execute_result"
    }
   ],
   "source": [
    "# Check the total number of entries you have\n",
    "prod_df.shape[0]"
   ]
  },
  {
   "cell_type": "code",
   "execution_count": 32,
   "metadata": {},
   "outputs": [
    {
     "data": {
      "text/plain": [
       "3"
      ]
     },
     "execution_count": 32,
     "metadata": {},
     "output_type": "execute_result"
    }
   ],
   "source": [
    "# Check the No of features\n",
    "prod_df.shape[1]"
   ]
  },
  {
   "cell_type": "code",
   "execution_count": 33,
   "metadata": {},
   "outputs": [
    {
     "data": {
      "text/plain": [
       "Index(['Product_Category', 'Product_Sub_Category', 'Prod_id'], dtype='object')"
      ]
     },
     "execution_count": 33,
     "metadata": {},
     "output_type": "execute_result"
    }
   ],
   "source": [
    "# Print features Names(Column Names)\n",
    "prod_df.columns"
   ]
  },
  {
   "cell_type": "code",
   "execution_count": 34,
   "metadata": {},
   "outputs": [
    {
     "data": {
      "text/plain": [
       "Product_Category        object\n",
       "Product_Sub_Category    object\n",
       "Prod_id                 object\n",
       "dtype: object"
      ]
     },
     "execution_count": 34,
     "metadata": {},
     "output_type": "execute_result"
    }
   ],
   "source": [
    "# Check the dtype of each and every columns\n",
    "prod_df.dtypes"
   ]
  },
  {
   "cell_type": "code",
   "execution_count": 36,
   "metadata": {
    "collapsed": true
   },
   "outputs": [
    {
     "data": {
      "text/html": [
       "<div>\n",
       "<style scoped>\n",
       "    .dataframe tbody tr th:only-of-type {\n",
       "        vertical-align: middle;\n",
       "    }\n",
       "\n",
       "    .dataframe tbody tr th {\n",
       "        vertical-align: top;\n",
       "    }\n",
       "\n",
       "    .dataframe thead th {\n",
       "        text-align: right;\n",
       "    }\n",
       "</style>\n",
       "<table border=\"1\" class=\"dataframe\">\n",
       "  <thead>\n",
       "    <tr style=\"text-align: right;\">\n",
       "      <th></th>\n",
       "      <th>Ord_id</th>\n",
       "      <th>Prod_id</th>\n",
       "      <th>Ship_id</th>\n",
       "      <th>Cust_id</th>\n",
       "      <th>Sales</th>\n",
       "      <th>Discount</th>\n",
       "      <th>Order_Quantity</th>\n",
       "      <th>Profit</th>\n",
       "      <th>Shipping_Cost</th>\n",
       "      <th>Product_Base_Margin</th>\n",
       "      <th>Product_Category</th>\n",
       "      <th>Product_Sub_Category</th>\n",
       "    </tr>\n",
       "  </thead>\n",
       "  <tbody>\n",
       "    <tr>\n",
       "      <td>0</td>\n",
       "      <td>Ord_5446</td>\n",
       "      <td>Prod_16</td>\n",
       "      <td>SHP_7609</td>\n",
       "      <td>Cust_1818</td>\n",
       "      <td>136.81</td>\n",
       "      <td>0.01</td>\n",
       "      <td>23</td>\n",
       "      <td>-30.51</td>\n",
       "      <td>3.60</td>\n",
       "      <td>0.56</td>\n",
       "      <td>OFFICE SUPPLIES</td>\n",
       "      <td>SCISSORS, RULERS AND TRIMMERS</td>\n",
       "    </tr>\n",
       "    <tr>\n",
       "      <td>1</td>\n",
       "      <td>Ord_2978</td>\n",
       "      <td>Prod_16</td>\n",
       "      <td>SHP_4112</td>\n",
       "      <td>Cust_1088</td>\n",
       "      <td>305.05</td>\n",
       "      <td>0.04</td>\n",
       "      <td>27</td>\n",
       "      <td>23.12</td>\n",
       "      <td>3.37</td>\n",
       "      <td>0.57</td>\n",
       "      <td>OFFICE SUPPLIES</td>\n",
       "      <td>SCISSORS, RULERS AND TRIMMERS</td>\n",
       "    </tr>\n",
       "    <tr>\n",
       "      <td>2</td>\n",
       "      <td>Ord_5484</td>\n",
       "      <td>Prod_16</td>\n",
       "      <td>SHP_7663</td>\n",
       "      <td>Cust_1820</td>\n",
       "      <td>322.82</td>\n",
       "      <td>0.05</td>\n",
       "      <td>35</td>\n",
       "      <td>-17.58</td>\n",
       "      <td>3.98</td>\n",
       "      <td>0.56</td>\n",
       "      <td>OFFICE SUPPLIES</td>\n",
       "      <td>SCISSORS, RULERS AND TRIMMERS</td>\n",
       "    </tr>\n",
       "    <tr>\n",
       "      <td>3</td>\n",
       "      <td>Ord_3730</td>\n",
       "      <td>Prod_16</td>\n",
       "      <td>SHP_5175</td>\n",
       "      <td>Cust_1314</td>\n",
       "      <td>459.08</td>\n",
       "      <td>0.04</td>\n",
       "      <td>34</td>\n",
       "      <td>61.57</td>\n",
       "      <td>3.14</td>\n",
       "      <td>0.60</td>\n",
       "      <td>OFFICE SUPPLIES</td>\n",
       "      <td>SCISSORS, RULERS AND TRIMMERS</td>\n",
       "    </tr>\n",
       "    <tr>\n",
       "      <td>4</td>\n",
       "      <td>Ord_4143</td>\n",
       "      <td>Prod_16</td>\n",
       "      <td>SHP_5771</td>\n",
       "      <td>Cust_1417</td>\n",
       "      <td>207.21</td>\n",
       "      <td>0.06</td>\n",
       "      <td>24</td>\n",
       "      <td>-78.64</td>\n",
       "      <td>6.14</td>\n",
       "      <td>0.59</td>\n",
       "      <td>OFFICE SUPPLIES</td>\n",
       "      <td>SCISSORS, RULERS AND TRIMMERS</td>\n",
       "    </tr>\n",
       "    <tr>\n",
       "      <td>...</td>\n",
       "      <td>...</td>\n",
       "      <td>...</td>\n",
       "      <td>...</td>\n",
       "      <td>...</td>\n",
       "      <td>...</td>\n",
       "      <td>...</td>\n",
       "      <td>...</td>\n",
       "      <td>...</td>\n",
       "      <td>...</td>\n",
       "      <td>...</td>\n",
       "      <td>...</td>\n",
       "      <td>...</td>\n",
       "    </tr>\n",
       "    <tr>\n",
       "      <td>8394</td>\n",
       "      <td>Ord_5467</td>\n",
       "      <td>Prod_14</td>\n",
       "      <td>SHP_7639</td>\n",
       "      <td>Cust_1803</td>\n",
       "      <td>5964.19</td>\n",
       "      <td>0.10</td>\n",
       "      <td>33</td>\n",
       "      <td>988.20</td>\n",
       "      <td>24.49</td>\n",
       "      <td>0.46</td>\n",
       "      <td>TECHNOLOGY</td>\n",
       "      <td>COPIERS AND FAX</td>\n",
       "    </tr>\n",
       "    <tr>\n",
       "      <td>8395</td>\n",
       "      <td>Ord_825</td>\n",
       "      <td>Prod_14</td>\n",
       "      <td>SHP_1132</td>\n",
       "      <td>Cust_247</td>\n",
       "      <td>27663.92</td>\n",
       "      <td>0.05</td>\n",
       "      <td>8</td>\n",
       "      <td>-391.92</td>\n",
       "      <td>24.49</td>\n",
       "      <td>0.37</td>\n",
       "      <td>TECHNOLOGY</td>\n",
       "      <td>COPIERS AND FAX</td>\n",
       "    </tr>\n",
       "    <tr>\n",
       "      <td>8396</td>\n",
       "      <td>Ord_5368</td>\n",
       "      <td>Prod_14</td>\n",
       "      <td>SHP_7497</td>\n",
       "      <td>Cust_1795</td>\n",
       "      <td>17279.62</td>\n",
       "      <td>0.04</td>\n",
       "      <td>40</td>\n",
       "      <td>4176.25</td>\n",
       "      <td>24.49</td>\n",
       "      <td>0.52</td>\n",
       "      <td>TECHNOLOGY</td>\n",
       "      <td>COPIERS AND FAX</td>\n",
       "    </tr>\n",
       "    <tr>\n",
       "      <td>8397</td>\n",
       "      <td>Ord_1765</td>\n",
       "      <td>Prod_14</td>\n",
       "      <td>SHP_2446</td>\n",
       "      <td>Cust_595</td>\n",
       "      <td>14647.26</td>\n",
       "      <td>0.07</td>\n",
       "      <td>25</td>\n",
       "      <td>5485.15</td>\n",
       "      <td>24.49</td>\n",
       "      <td>0.37</td>\n",
       "      <td>TECHNOLOGY</td>\n",
       "      <td>COPIERS AND FAX</td>\n",
       "    </tr>\n",
       "    <tr>\n",
       "      <td>8398</td>\n",
       "      <td>Ord_3610</td>\n",
       "      <td>Prod_14</td>\n",
       "      <td>SHP_4998</td>\n",
       "      <td>Cust_1266</td>\n",
       "      <td>1759.65</td>\n",
       "      <td>0.06</td>\n",
       "      <td>3</td>\n",
       "      <td>-2213.75</td>\n",
       "      <td>24.49</td>\n",
       "      <td>0.50</td>\n",
       "      <td>TECHNOLOGY</td>\n",
       "      <td>COPIERS AND FAX</td>\n",
       "    </tr>\n",
       "  </tbody>\n",
       "</table>\n",
       "<p>8399 rows × 12 columns</p>\n",
       "</div>"
      ],
      "text/plain": [
       "        Ord_id  Prod_id   Ship_id    Cust_id     Sales  Discount  \\\n",
       "0     Ord_5446  Prod_16  SHP_7609  Cust_1818    136.81      0.01   \n",
       "1     Ord_2978  Prod_16  SHP_4112  Cust_1088    305.05      0.04   \n",
       "2     Ord_5484  Prod_16  SHP_7663  Cust_1820    322.82      0.05   \n",
       "3     Ord_3730  Prod_16  SHP_5175  Cust_1314    459.08      0.04   \n",
       "4     Ord_4143  Prod_16  SHP_5771  Cust_1417    207.21      0.06   \n",
       "...        ...      ...       ...        ...       ...       ...   \n",
       "8394  Ord_5467  Prod_14  SHP_7639  Cust_1803   5964.19      0.10   \n",
       "8395   Ord_825  Prod_14  SHP_1132   Cust_247  27663.92      0.05   \n",
       "8396  Ord_5368  Prod_14  SHP_7497  Cust_1795  17279.62      0.04   \n",
       "8397  Ord_1765  Prod_14  SHP_2446   Cust_595  14647.26      0.07   \n",
       "8398  Ord_3610  Prod_14  SHP_4998  Cust_1266   1759.65      0.06   \n",
       "\n",
       "      Order_Quantity   Profit  Shipping_Cost  Product_Base_Margin  \\\n",
       "0                 23   -30.51           3.60                 0.56   \n",
       "1                 27    23.12           3.37                 0.57   \n",
       "2                 35   -17.58           3.98                 0.56   \n",
       "3                 34    61.57           3.14                 0.60   \n",
       "4                 24   -78.64           6.14                 0.59   \n",
       "...              ...      ...            ...                  ...   \n",
       "8394              33   988.20          24.49                 0.46   \n",
       "8395               8  -391.92          24.49                 0.37   \n",
       "8396              40  4176.25          24.49                 0.52   \n",
       "8397              25  5485.15          24.49                 0.37   \n",
       "8398               3 -2213.75          24.49                 0.50   \n",
       "\n",
       "     Product_Category           Product_Sub_Category  \n",
       "0     OFFICE SUPPLIES  SCISSORS, RULERS AND TRIMMERS  \n",
       "1     OFFICE SUPPLIES  SCISSORS, RULERS AND TRIMMERS  \n",
       "2     OFFICE SUPPLIES  SCISSORS, RULERS AND TRIMMERS  \n",
       "3     OFFICE SUPPLIES  SCISSORS, RULERS AND TRIMMERS  \n",
       "4     OFFICE SUPPLIES  SCISSORS, RULERS AND TRIMMERS  \n",
       "...               ...                            ...  \n",
       "8394       TECHNOLOGY                COPIERS AND FAX  \n",
       "8395       TECHNOLOGY                COPIERS AND FAX  \n",
       "8396       TECHNOLOGY                COPIERS AND FAX  \n",
       "8397       TECHNOLOGY                COPIERS AND FAX  \n",
       "8398       TECHNOLOGY                COPIERS AND FAX  \n",
       "\n",
       "[8399 rows x 12 columns]"
      ]
     },
     "execution_count": 36,
     "metadata": {},
     "output_type": "execute_result"
    }
   ],
   "source": [
    "# Merge Market_df and Prod_pf create new datarame with comb_data\n",
    "comb_data=pd.merge(market_df,prod_df)\n",
    "comb_data"
   ]
  },
  {
   "cell_type": "code",
   "execution_count": 37,
   "metadata": {},
   "outputs": [
    {
     "data": {
      "text/plain": [
       "(8399, 12)"
      ]
     },
     "execution_count": 37,
     "metadata": {},
     "output_type": "execute_result"
    }
   ],
   "source": [
    "# check the number of rows and columns in comb_data.\n",
    "comb_data.shape"
   ]
  },
  {
   "cell_type": "code",
   "execution_count": 38,
   "metadata": {},
   "outputs": [
    {
     "data": {
      "text/plain": [
       "OFFICE SUPPLIES    4610\n",
       "TECHNOLOGY         2065\n",
       "FURNITURE          1724\n",
       "Name: Product_Category, dtype: int64"
      ]
     },
     "execution_count": 38,
     "metadata": {},
     "output_type": "execute_result"
    }
   ],
   "source": [
    "# In the comb_data check the value counts in \"Product_Category\" and \"Product_Sub_Category\" columns\n",
    "comb_data.Product_Category.value_counts()"
   ]
  },
  {
   "cell_type": "code",
   "execution_count": 39,
   "metadata": {
    "collapsed": true
   },
   "outputs": [
    {
     "data": {
      "text/plain": [
       "PAPER                             1225\n",
       "BINDERS AND BINDER ACCESSORIES     915\n",
       "TELEPHONES AND COMMUNICATION       883\n",
       "OFFICE FURNISHINGS                 788\n",
       "COMPUTER PERIPHERALS               758\n",
       "PENS & ART SUPPLIES                633\n",
       "STORAGE & ORGANIZATION             546\n",
       "APPLIANCES                         434\n",
       "CHAIRS & CHAIRMATS                 386\n",
       "TABLES                             361\n",
       "OFFICE MACHINES                    337\n",
       "LABELS                             288\n",
       "ENVELOPES                          246\n",
       "BOOKCASES                          189\n",
       "RUBBER BANDS                       179\n",
       "SCISSORS, RULERS AND TRIMMERS      144\n",
       "COPIERS AND FAX                     87\n",
       "Name: Product_Sub_Category, dtype: int64"
      ]
     },
     "execution_count": 39,
     "metadata": {},
     "output_type": "execute_result"
    }
   ],
   "source": [
    "comb_data.Product_Sub_Category.value_counts()"
   ]
  },
  {
   "cell_type": "markdown",
   "metadata": {},
   "source": [
    "# Orders_dimen.csv\n",
    "- Read the Orders_dimen data into ord_df\n",
    "- Display the top two rows\n",
    "- Display the last three rows\n",
    "- Select one row randomly\n",
    "- Check the total number of entries you have\n",
    "- Check the No of features\n",
    "- Print features Names(Column Names)\n",
    "- Check the dtype of each and every columns\n",
    "- Check the \"Order_Date\" column type if it is object convert it into datetime\n",
    "- Create two new columns Order_Year and Order_Month with year and month vcalues from Order_date\n",
    "- Merge comb_data and ord_df and write the reslut into comb_data\n",
    "- check the number of rows and columns in comb_data.\n",
    "- In the comb_data check the value counts in \"Order_Priority\"\n",
    "- In the comb_data check the value counts for \"Order_Year\"\n",
    "- In which Year the customer have Highest no of orders\n",
    "- In the comb_data check the value counts for Order_Month\n",
    "- In which Month the customer have Highest no of orders"
   ]
  },
  {
   "cell_type": "code",
   "execution_count": 40,
   "metadata": {
    "collapsed": true
   },
   "outputs": [
    {
     "data": {
      "text/html": [
       "<div>\n",
       "<style scoped>\n",
       "    .dataframe tbody tr th:only-of-type {\n",
       "        vertical-align: middle;\n",
       "    }\n",
       "\n",
       "    .dataframe tbody tr th {\n",
       "        vertical-align: top;\n",
       "    }\n",
       "\n",
       "    .dataframe thead th {\n",
       "        text-align: right;\n",
       "    }\n",
       "</style>\n",
       "<table border=\"1\" class=\"dataframe\">\n",
       "  <thead>\n",
       "    <tr style=\"text-align: right;\">\n",
       "      <th></th>\n",
       "      <th>Order_ID</th>\n",
       "      <th>Order_Date</th>\n",
       "      <th>Order_Priority</th>\n",
       "      <th>Ord_id</th>\n",
       "    </tr>\n",
       "  </thead>\n",
       "  <tbody>\n",
       "    <tr>\n",
       "      <td>0</td>\n",
       "      <td>3</td>\n",
       "      <td>13-10-2010</td>\n",
       "      <td>LOW</td>\n",
       "      <td>Ord_1</td>\n",
       "    </tr>\n",
       "    <tr>\n",
       "      <td>1</td>\n",
       "      <td>293</td>\n",
       "      <td>01-10-2012</td>\n",
       "      <td>HIGH</td>\n",
       "      <td>Ord_2</td>\n",
       "    </tr>\n",
       "    <tr>\n",
       "      <td>2</td>\n",
       "      <td>483</td>\n",
       "      <td>10-07-2011</td>\n",
       "      <td>HIGH</td>\n",
       "      <td>Ord_3</td>\n",
       "    </tr>\n",
       "    <tr>\n",
       "      <td>3</td>\n",
       "      <td>515</td>\n",
       "      <td>28-08-2010</td>\n",
       "      <td>NOT SPECIFIED</td>\n",
       "      <td>Ord_4</td>\n",
       "    </tr>\n",
       "    <tr>\n",
       "      <td>4</td>\n",
       "      <td>613</td>\n",
       "      <td>17-06-2011</td>\n",
       "      <td>HIGH</td>\n",
       "      <td>Ord_5</td>\n",
       "    </tr>\n",
       "    <tr>\n",
       "      <td>...</td>\n",
       "      <td>...</td>\n",
       "      <td>...</td>\n",
       "      <td>...</td>\n",
       "      <td>...</td>\n",
       "    </tr>\n",
       "    <tr>\n",
       "      <td>5501</td>\n",
       "      <td>47360</td>\n",
       "      <td>08-10-2010</td>\n",
       "      <td>NOT SPECIFIED</td>\n",
       "      <td>Ord_5502</td>\n",
       "    </tr>\n",
       "    <tr>\n",
       "      <td>5502</td>\n",
       "      <td>52706</td>\n",
       "      <td>09-07-2012</td>\n",
       "      <td>LOW</td>\n",
       "      <td>Ord_5503</td>\n",
       "    </tr>\n",
       "    <tr>\n",
       "      <td>5503</td>\n",
       "      <td>54279</td>\n",
       "      <td>30-07-2011</td>\n",
       "      <td>HIGH</td>\n",
       "      <td>Ord_5504</td>\n",
       "    </tr>\n",
       "    <tr>\n",
       "      <td>5504</td>\n",
       "      <td>55558</td>\n",
       "      <td>09-08-2010</td>\n",
       "      <td>MEDIUM</td>\n",
       "      <td>Ord_5505</td>\n",
       "    </tr>\n",
       "    <tr>\n",
       "      <td>5505</td>\n",
       "      <td>56581</td>\n",
       "      <td>08-02-2009</td>\n",
       "      <td>HIGH</td>\n",
       "      <td>Ord_5506</td>\n",
       "    </tr>\n",
       "  </tbody>\n",
       "</table>\n",
       "<p>5506 rows × 4 columns</p>\n",
       "</div>"
      ],
      "text/plain": [
       "      Order_ID  Order_Date Order_Priority    Ord_id\n",
       "0            3  13-10-2010            LOW     Ord_1\n",
       "1          293  01-10-2012           HIGH     Ord_2\n",
       "2          483  10-07-2011           HIGH     Ord_3\n",
       "3          515  28-08-2010  NOT SPECIFIED     Ord_4\n",
       "4          613  17-06-2011           HIGH     Ord_5\n",
       "...        ...         ...            ...       ...\n",
       "5501     47360  08-10-2010  NOT SPECIFIED  Ord_5502\n",
       "5502     52706  09-07-2012            LOW  Ord_5503\n",
       "5503     54279  30-07-2011           HIGH  Ord_5504\n",
       "5504     55558  09-08-2010         MEDIUM  Ord_5505\n",
       "5505     56581  08-02-2009           HIGH  Ord_5506\n",
       "\n",
       "[5506 rows x 4 columns]"
      ]
     },
     "execution_count": 40,
     "metadata": {},
     "output_type": "execute_result"
    }
   ],
   "source": [
    "# Read the Orders_dimen data into ord_df\n",
    "ord_df=pd.read_csv('data\\\\global_sales_data\\\\Orders_dimen.csv')\n",
    "ord_df"
   ]
  },
  {
   "cell_type": "code",
   "execution_count": 41,
   "metadata": {},
   "outputs": [
    {
     "data": {
      "text/html": [
       "<div>\n",
       "<style scoped>\n",
       "    .dataframe tbody tr th:only-of-type {\n",
       "        vertical-align: middle;\n",
       "    }\n",
       "\n",
       "    .dataframe tbody tr th {\n",
       "        vertical-align: top;\n",
       "    }\n",
       "\n",
       "    .dataframe thead th {\n",
       "        text-align: right;\n",
       "    }\n",
       "</style>\n",
       "<table border=\"1\" class=\"dataframe\">\n",
       "  <thead>\n",
       "    <tr style=\"text-align: right;\">\n",
       "      <th></th>\n",
       "      <th>Order_ID</th>\n",
       "      <th>Order_Date</th>\n",
       "      <th>Order_Priority</th>\n",
       "      <th>Ord_id</th>\n",
       "    </tr>\n",
       "  </thead>\n",
       "  <tbody>\n",
       "    <tr>\n",
       "      <td>0</td>\n",
       "      <td>3</td>\n",
       "      <td>13-10-2010</td>\n",
       "      <td>LOW</td>\n",
       "      <td>Ord_1</td>\n",
       "    </tr>\n",
       "    <tr>\n",
       "      <td>1</td>\n",
       "      <td>293</td>\n",
       "      <td>01-10-2012</td>\n",
       "      <td>HIGH</td>\n",
       "      <td>Ord_2</td>\n",
       "    </tr>\n",
       "  </tbody>\n",
       "</table>\n",
       "</div>"
      ],
      "text/plain": [
       "   Order_ID  Order_Date Order_Priority Ord_id\n",
       "0         3  13-10-2010            LOW  Ord_1\n",
       "1       293  01-10-2012           HIGH  Ord_2"
      ]
     },
     "execution_count": 41,
     "metadata": {},
     "output_type": "execute_result"
    }
   ],
   "source": [
    "# Display the top two rows\n",
    "ord_df.head(2)"
   ]
  },
  {
   "cell_type": "code",
   "execution_count": 42,
   "metadata": {},
   "outputs": [
    {
     "data": {
      "text/html": [
       "<div>\n",
       "<style scoped>\n",
       "    .dataframe tbody tr th:only-of-type {\n",
       "        vertical-align: middle;\n",
       "    }\n",
       "\n",
       "    .dataframe tbody tr th {\n",
       "        vertical-align: top;\n",
       "    }\n",
       "\n",
       "    .dataframe thead th {\n",
       "        text-align: right;\n",
       "    }\n",
       "</style>\n",
       "<table border=\"1\" class=\"dataframe\">\n",
       "  <thead>\n",
       "    <tr style=\"text-align: right;\">\n",
       "      <th></th>\n",
       "      <th>Order_ID</th>\n",
       "      <th>Order_Date</th>\n",
       "      <th>Order_Priority</th>\n",
       "      <th>Ord_id</th>\n",
       "    </tr>\n",
       "  </thead>\n",
       "  <tbody>\n",
       "    <tr>\n",
       "      <td>5503</td>\n",
       "      <td>54279</td>\n",
       "      <td>30-07-2011</td>\n",
       "      <td>HIGH</td>\n",
       "      <td>Ord_5504</td>\n",
       "    </tr>\n",
       "    <tr>\n",
       "      <td>5504</td>\n",
       "      <td>55558</td>\n",
       "      <td>09-08-2010</td>\n",
       "      <td>MEDIUM</td>\n",
       "      <td>Ord_5505</td>\n",
       "    </tr>\n",
       "    <tr>\n",
       "      <td>5505</td>\n",
       "      <td>56581</td>\n",
       "      <td>08-02-2009</td>\n",
       "      <td>HIGH</td>\n",
       "      <td>Ord_5506</td>\n",
       "    </tr>\n",
       "  </tbody>\n",
       "</table>\n",
       "</div>"
      ],
      "text/plain": [
       "      Order_ID  Order_Date Order_Priority    Ord_id\n",
       "5503     54279  30-07-2011           HIGH  Ord_5504\n",
       "5504     55558  09-08-2010         MEDIUM  Ord_5505\n",
       "5505     56581  08-02-2009           HIGH  Ord_5506"
      ]
     },
     "execution_count": 42,
     "metadata": {},
     "output_type": "execute_result"
    }
   ],
   "source": [
    "# Display the last three rows\n",
    "ord_df.tail(3)"
   ]
  },
  {
   "cell_type": "code",
   "execution_count": 43,
   "metadata": {
    "scrolled": true
   },
   "outputs": [
    {
     "data": {
      "text/html": [
       "<div>\n",
       "<style scoped>\n",
       "    .dataframe tbody tr th:only-of-type {\n",
       "        vertical-align: middle;\n",
       "    }\n",
       "\n",
       "    .dataframe tbody tr th {\n",
       "        vertical-align: top;\n",
       "    }\n",
       "\n",
       "    .dataframe thead th {\n",
       "        text-align: right;\n",
       "    }\n",
       "</style>\n",
       "<table border=\"1\" class=\"dataframe\">\n",
       "  <thead>\n",
       "    <tr style=\"text-align: right;\">\n",
       "      <th></th>\n",
       "      <th>Order_ID</th>\n",
       "      <th>Order_Date</th>\n",
       "      <th>Order_Priority</th>\n",
       "      <th>Ord_id</th>\n",
       "    </tr>\n",
       "  </thead>\n",
       "  <tbody>\n",
       "    <tr>\n",
       "      <td>3357</td>\n",
       "      <td>28928</td>\n",
       "      <td>30-04-2010</td>\n",
       "      <td>LOW</td>\n",
       "      <td>Ord_3358</td>\n",
       "    </tr>\n",
       "  </tbody>\n",
       "</table>\n",
       "</div>"
      ],
      "text/plain": [
       "      Order_ID  Order_Date Order_Priority    Ord_id\n",
       "3357     28928  30-04-2010            LOW  Ord_3358"
      ]
     },
     "execution_count": 43,
     "metadata": {},
     "output_type": "execute_result"
    }
   ],
   "source": [
    "# Select one row randomly\n",
    "ord_df.sample()"
   ]
  },
  {
   "cell_type": "code",
   "execution_count": 44,
   "metadata": {},
   "outputs": [
    {
     "data": {
      "text/plain": [
       "5506"
      ]
     },
     "execution_count": 44,
     "metadata": {},
     "output_type": "execute_result"
    }
   ],
   "source": [
    "# Check the total number of entries you have\n",
    "ord_df.shape[0]"
   ]
  },
  {
   "cell_type": "code",
   "execution_count": 45,
   "metadata": {},
   "outputs": [
    {
     "data": {
      "text/plain": [
       "4"
      ]
     },
     "execution_count": 45,
     "metadata": {},
     "output_type": "execute_result"
    }
   ],
   "source": [
    "# Check the No of features\n",
    "ord_df.shape[1]"
   ]
  },
  {
   "cell_type": "code",
   "execution_count": 46,
   "metadata": {},
   "outputs": [
    {
     "data": {
      "text/plain": [
       "Index(['Order_ID', 'Order_Date', 'Order_Priority', 'Ord_id'], dtype='object')"
      ]
     },
     "execution_count": 46,
     "metadata": {},
     "output_type": "execute_result"
    }
   ],
   "source": [
    "# Print features Names(Column Names)\n",
    "ord_df.columns"
   ]
  },
  {
   "cell_type": "code",
   "execution_count": 47,
   "metadata": {},
   "outputs": [
    {
     "data": {
      "text/plain": [
       "Order_ID           int64\n",
       "Order_Date        object\n",
       "Order_Priority    object\n",
       "Ord_id            object\n",
       "dtype: object"
      ]
     },
     "execution_count": 47,
     "metadata": {},
     "output_type": "execute_result"
    }
   ],
   "source": [
    "# Check the dtype of each and every columns\n",
    "ord_df.dtypes"
   ]
  },
  {
   "cell_type": "code",
   "execution_count": 48,
   "metadata": {
    "collapsed": true
   },
   "outputs": [
    {
     "data": {
      "text/plain": [
       "Order_ID                   int64\n",
       "Order_Date        datetime64[ns]\n",
       "Order_Priority            object\n",
       "Ord_id                    object\n",
       "dtype: object"
      ]
     },
     "execution_count": 48,
     "metadata": {},
     "output_type": "execute_result"
    }
   ],
   "source": [
    "# Check the \"Order_Date\" column type if it is object convert it into datetime\n",
    "ord_df['Order_Date']=pd.to_datetime(ord_df['Order_Date'])\n",
    "ord_df.dtypes"
   ]
  },
  {
   "cell_type": "code",
   "execution_count": 49,
   "metadata": {
    "collapsed": true
   },
   "outputs": [
    {
     "data": {
      "text/plain": [
       "0       10\n",
       "1        1\n",
       "2       10\n",
       "3        8\n",
       "4        6\n",
       "        ..\n",
       "5501     8\n",
       "5502     9\n",
       "5503     7\n",
       "5504     9\n",
       "5505     8\n",
       "Name: Order_Month, Length: 5506, dtype: int64"
      ]
     },
     "execution_count": 49,
     "metadata": {},
     "output_type": "execute_result"
    }
   ],
   "source": [
    "# Create two new columns Order_Year and Order_Month with year and month vcalues from Order_Date\n",
    "ord_df['Order_Month']=ord_df['Order_Date'].dt.month\n",
    "ord_df['Order_Month']"
   ]
  },
  {
   "cell_type": "code",
   "execution_count": 50,
   "metadata": {
    "collapsed": true
   },
   "outputs": [
    {
     "data": {
      "text/plain": [
       "0       2010\n",
       "1       2012\n",
       "2       2011\n",
       "3       2010\n",
       "4       2011\n",
       "        ... \n",
       "5501    2010\n",
       "5502    2012\n",
       "5503    2011\n",
       "5504    2010\n",
       "5505    2009\n",
       "Name: Order_Year, Length: 5506, dtype: int64"
      ]
     },
     "execution_count": 50,
     "metadata": {},
     "output_type": "execute_result"
    }
   ],
   "source": [
    "ord_df['Order_Year']=ord_df['Order_Date'].dt.year\n",
    "ord_df['Order_Year']"
   ]
  },
  {
   "cell_type": "code",
   "execution_count": 52,
   "metadata": {},
   "outputs": [
    {
     "data": {
      "text/plain": [
       "Index(['Order_ID', 'Order_Date', 'Order_Priority', 'Ord_id', 'Order_Month',\n",
       "       'Order_Year'],\n",
       "      dtype='object')"
      ]
     },
     "execution_count": 52,
     "metadata": {},
     "output_type": "execute_result"
    }
   ],
   "source": [
    "ord_df.columns"
   ]
  },
  {
   "cell_type": "code",
   "execution_count": 53,
   "metadata": {
    "collapsed": true
   },
   "outputs": [
    {
     "data": {
      "text/html": [
       "<div>\n",
       "<style scoped>\n",
       "    .dataframe tbody tr th:only-of-type {\n",
       "        vertical-align: middle;\n",
       "    }\n",
       "\n",
       "    .dataframe tbody tr th {\n",
       "        vertical-align: top;\n",
       "    }\n",
       "\n",
       "    .dataframe thead th {\n",
       "        text-align: right;\n",
       "    }\n",
       "</style>\n",
       "<table border=\"1\" class=\"dataframe\">\n",
       "  <thead>\n",
       "    <tr style=\"text-align: right;\">\n",
       "      <th></th>\n",
       "      <th>Ord_id</th>\n",
       "      <th>Prod_id</th>\n",
       "      <th>Ship_id</th>\n",
       "      <th>Cust_id</th>\n",
       "      <th>Sales</th>\n",
       "      <th>Discount</th>\n",
       "      <th>Order_Quantity</th>\n",
       "      <th>Profit</th>\n",
       "      <th>Shipping_Cost</th>\n",
       "      <th>Product_Base_Margin</th>\n",
       "      <th>Product_Category</th>\n",
       "      <th>Product_Sub_Category</th>\n",
       "      <th>Order_ID</th>\n",
       "      <th>Order_Date</th>\n",
       "      <th>Order_Priority</th>\n",
       "      <th>Order_Month</th>\n",
       "      <th>Order_Year</th>\n",
       "    </tr>\n",
       "  </thead>\n",
       "  <tbody>\n",
       "    <tr>\n",
       "      <td>0</td>\n",
       "      <td>Ord_5446</td>\n",
       "      <td>Prod_16</td>\n",
       "      <td>SHP_7609</td>\n",
       "      <td>Cust_1818</td>\n",
       "      <td>136.81</td>\n",
       "      <td>0.01</td>\n",
       "      <td>23</td>\n",
       "      <td>-30.51</td>\n",
       "      <td>3.60</td>\n",
       "      <td>0.56</td>\n",
       "      <td>OFFICE SUPPLIES</td>\n",
       "      <td>SCISSORS, RULERS AND TRIMMERS</td>\n",
       "      <td>36262</td>\n",
       "      <td>2010-07-27</td>\n",
       "      <td>NOT SPECIFIED</td>\n",
       "      <td>7</td>\n",
       "      <td>2010</td>\n",
       "    </tr>\n",
       "    <tr>\n",
       "      <td>1</td>\n",
       "      <td>Ord_5446</td>\n",
       "      <td>Prod_4</td>\n",
       "      <td>SHP_7610</td>\n",
       "      <td>Cust_1818</td>\n",
       "      <td>4701.69</td>\n",
       "      <td>0.00</td>\n",
       "      <td>26</td>\n",
       "      <td>1148.90</td>\n",
       "      <td>2.50</td>\n",
       "      <td>0.59</td>\n",
       "      <td>TECHNOLOGY</td>\n",
       "      <td>TELEPHONES AND COMMUNICATION</td>\n",
       "      <td>36262</td>\n",
       "      <td>2010-07-27</td>\n",
       "      <td>NOT SPECIFIED</td>\n",
       "      <td>7</td>\n",
       "      <td>2010</td>\n",
       "    </tr>\n",
       "    <tr>\n",
       "      <td>2</td>\n",
       "      <td>Ord_5446</td>\n",
       "      <td>Prod_6</td>\n",
       "      <td>SHP_7608</td>\n",
       "      <td>Cust_1818</td>\n",
       "      <td>164.02</td>\n",
       "      <td>0.03</td>\n",
       "      <td>23</td>\n",
       "      <td>-47.64</td>\n",
       "      <td>6.15</td>\n",
       "      <td>0.37</td>\n",
       "      <td>OFFICE SUPPLIES</td>\n",
       "      <td>PAPER</td>\n",
       "      <td>36262</td>\n",
       "      <td>2010-07-27</td>\n",
       "      <td>NOT SPECIFIED</td>\n",
       "      <td>7</td>\n",
       "      <td>2010</td>\n",
       "    </tr>\n",
       "    <tr>\n",
       "      <td>3</td>\n",
       "      <td>Ord_2978</td>\n",
       "      <td>Prod_16</td>\n",
       "      <td>SHP_4112</td>\n",
       "      <td>Cust_1088</td>\n",
       "      <td>305.05</td>\n",
       "      <td>0.04</td>\n",
       "      <td>27</td>\n",
       "      <td>23.12</td>\n",
       "      <td>3.37</td>\n",
       "      <td>0.57</td>\n",
       "      <td>OFFICE SUPPLIES</td>\n",
       "      <td>SCISSORS, RULERS AND TRIMMERS</td>\n",
       "      <td>37863</td>\n",
       "      <td>2011-02-24</td>\n",
       "      <td>HIGH</td>\n",
       "      <td>2</td>\n",
       "      <td>2011</td>\n",
       "    </tr>\n",
       "    <tr>\n",
       "      <td>4</td>\n",
       "      <td>Ord_5484</td>\n",
       "      <td>Prod_16</td>\n",
       "      <td>SHP_7663</td>\n",
       "      <td>Cust_1820</td>\n",
       "      <td>322.82</td>\n",
       "      <td>0.05</td>\n",
       "      <td>35</td>\n",
       "      <td>-17.58</td>\n",
       "      <td>3.98</td>\n",
       "      <td>0.56</td>\n",
       "      <td>OFFICE SUPPLIES</td>\n",
       "      <td>SCISSORS, RULERS AND TRIMMERS</td>\n",
       "      <td>53026</td>\n",
       "      <td>2012-02-26</td>\n",
       "      <td>LOW</td>\n",
       "      <td>2</td>\n",
       "      <td>2012</td>\n",
       "    </tr>\n",
       "    <tr>\n",
       "      <td>...</td>\n",
       "      <td>...</td>\n",
       "      <td>...</td>\n",
       "      <td>...</td>\n",
       "      <td>...</td>\n",
       "      <td>...</td>\n",
       "      <td>...</td>\n",
       "      <td>...</td>\n",
       "      <td>...</td>\n",
       "      <td>...</td>\n",
       "      <td>...</td>\n",
       "      <td>...</td>\n",
       "      <td>...</td>\n",
       "      <td>...</td>\n",
       "      <td>...</td>\n",
       "      <td>...</td>\n",
       "      <td>...</td>\n",
       "      <td>...</td>\n",
       "    </tr>\n",
       "    <tr>\n",
       "      <td>8394</td>\n",
       "      <td>Ord_5018</td>\n",
       "      <td>Prod_14</td>\n",
       "      <td>SHP_7001</td>\n",
       "      <td>Cust_1696</td>\n",
       "      <td>7325.63</td>\n",
       "      <td>0.04</td>\n",
       "      <td>38</td>\n",
       "      <td>1899.23</td>\n",
       "      <td>24.49</td>\n",
       "      <td>0.46</td>\n",
       "      <td>TECHNOLOGY</td>\n",
       "      <td>COPIERS AND FAX</td>\n",
       "      <td>54214</td>\n",
       "      <td>2012-02-01</td>\n",
       "      <td>MEDIUM</td>\n",
       "      <td>2</td>\n",
       "      <td>2012</td>\n",
       "    </tr>\n",
       "    <tr>\n",
       "      <td>8395</td>\n",
       "      <td>Ord_669</td>\n",
       "      <td>Prod_14</td>\n",
       "      <td>SHP_916</td>\n",
       "      <td>Cust_224</td>\n",
       "      <td>20872.16</td>\n",
       "      <td>0.03</td>\n",
       "      <td>29</td>\n",
       "      <td>-4437.91</td>\n",
       "      <td>24.49</td>\n",
       "      <td>0.41</td>\n",
       "      <td>TECHNOLOGY</td>\n",
       "      <td>COPIERS AND FAX</td>\n",
       "      <td>52035</td>\n",
       "      <td>2009-11-27</td>\n",
       "      <td>HIGH</td>\n",
       "      <td>11</td>\n",
       "      <td>2009</td>\n",
       "    </tr>\n",
       "    <tr>\n",
       "      <td>8396</td>\n",
       "      <td>Ord_508</td>\n",
       "      <td>Prod_14</td>\n",
       "      <td>SHP_686</td>\n",
       "      <td>Cust_186</td>\n",
       "      <td>19109.61</td>\n",
       "      <td>0.10</td>\n",
       "      <td>40</td>\n",
       "      <td>-379.29</td>\n",
       "      <td>24.49</td>\n",
       "      <td>0.36</td>\n",
       "      <td>TECHNOLOGY</td>\n",
       "      <td>COPIERS AND FAX</td>\n",
       "      <td>5988</td>\n",
       "      <td>2010-11-21</td>\n",
       "      <td>NOT SPECIFIED</td>\n",
       "      <td>11</td>\n",
       "      <td>2010</td>\n",
       "    </tr>\n",
       "    <tr>\n",
       "      <td>8397</td>\n",
       "      <td>Ord_3721</td>\n",
       "      <td>Prod_14</td>\n",
       "      <td>SHP_5162</td>\n",
       "      <td>Cust_1309</td>\n",
       "      <td>614.14</td>\n",
       "      <td>0.09</td>\n",
       "      <td>3</td>\n",
       "      <td>-735.27</td>\n",
       "      <td>24.49</td>\n",
       "      <td>0.46</td>\n",
       "      <td>TECHNOLOGY</td>\n",
       "      <td>COPIERS AND FAX</td>\n",
       "      <td>27616</td>\n",
       "      <td>2012-07-30</td>\n",
       "      <td>LOW</td>\n",
       "      <td>7</td>\n",
       "      <td>2012</td>\n",
       "    </tr>\n",
       "    <tr>\n",
       "      <td>8398</td>\n",
       "      <td>Ord_825</td>\n",
       "      <td>Prod_14</td>\n",
       "      <td>SHP_1132</td>\n",
       "      <td>Cust_247</td>\n",
       "      <td>27663.92</td>\n",
       "      <td>0.05</td>\n",
       "      <td>8</td>\n",
       "      <td>-391.92</td>\n",
       "      <td>24.49</td>\n",
       "      <td>0.37</td>\n",
       "      <td>TECHNOLOGY</td>\n",
       "      <td>COPIERS AND FAX</td>\n",
       "      <td>41895</td>\n",
       "      <td>2011-10-01</td>\n",
       "      <td>CRITICAL</td>\n",
       "      <td>10</td>\n",
       "      <td>2011</td>\n",
       "    </tr>\n",
       "  </tbody>\n",
       "</table>\n",
       "<p>8399 rows × 17 columns</p>\n",
       "</div>"
      ],
      "text/plain": [
       "        Ord_id  Prod_id   Ship_id    Cust_id     Sales  Discount  \\\n",
       "0     Ord_5446  Prod_16  SHP_7609  Cust_1818    136.81      0.01   \n",
       "1     Ord_5446   Prod_4  SHP_7610  Cust_1818   4701.69      0.00   \n",
       "2     Ord_5446   Prod_6  SHP_7608  Cust_1818    164.02      0.03   \n",
       "3     Ord_2978  Prod_16  SHP_4112  Cust_1088    305.05      0.04   \n",
       "4     Ord_5484  Prod_16  SHP_7663  Cust_1820    322.82      0.05   \n",
       "...        ...      ...       ...        ...       ...       ...   \n",
       "8394  Ord_5018  Prod_14  SHP_7001  Cust_1696   7325.63      0.04   \n",
       "8395   Ord_669  Prod_14   SHP_916   Cust_224  20872.16      0.03   \n",
       "8396   Ord_508  Prod_14   SHP_686   Cust_186  19109.61      0.10   \n",
       "8397  Ord_3721  Prod_14  SHP_5162  Cust_1309    614.14      0.09   \n",
       "8398   Ord_825  Prod_14  SHP_1132   Cust_247  27663.92      0.05   \n",
       "\n",
       "      Order_Quantity   Profit  Shipping_Cost  Product_Base_Margin  \\\n",
       "0                 23   -30.51           3.60                 0.56   \n",
       "1                 26  1148.90           2.50                 0.59   \n",
       "2                 23   -47.64           6.15                 0.37   \n",
       "3                 27    23.12           3.37                 0.57   \n",
       "4                 35   -17.58           3.98                 0.56   \n",
       "...              ...      ...            ...                  ...   \n",
       "8394              38  1899.23          24.49                 0.46   \n",
       "8395              29 -4437.91          24.49                 0.41   \n",
       "8396              40  -379.29          24.49                 0.36   \n",
       "8397               3  -735.27          24.49                 0.46   \n",
       "8398               8  -391.92          24.49                 0.37   \n",
       "\n",
       "     Product_Category           Product_Sub_Category  Order_ID Order_Date  \\\n",
       "0     OFFICE SUPPLIES  SCISSORS, RULERS AND TRIMMERS     36262 2010-07-27   \n",
       "1          TECHNOLOGY   TELEPHONES AND COMMUNICATION     36262 2010-07-27   \n",
       "2     OFFICE SUPPLIES                          PAPER     36262 2010-07-27   \n",
       "3     OFFICE SUPPLIES  SCISSORS, RULERS AND TRIMMERS     37863 2011-02-24   \n",
       "4     OFFICE SUPPLIES  SCISSORS, RULERS AND TRIMMERS     53026 2012-02-26   \n",
       "...               ...                            ...       ...        ...   \n",
       "8394       TECHNOLOGY                COPIERS AND FAX     54214 2012-02-01   \n",
       "8395       TECHNOLOGY                COPIERS AND FAX     52035 2009-11-27   \n",
       "8396       TECHNOLOGY                COPIERS AND FAX      5988 2010-11-21   \n",
       "8397       TECHNOLOGY                COPIERS AND FAX     27616 2012-07-30   \n",
       "8398       TECHNOLOGY                COPIERS AND FAX     41895 2011-10-01   \n",
       "\n",
       "     Order_Priority  Order_Month  Order_Year  \n",
       "0     NOT SPECIFIED            7        2010  \n",
       "1     NOT SPECIFIED            7        2010  \n",
       "2     NOT SPECIFIED            7        2010  \n",
       "3              HIGH            2        2011  \n",
       "4               LOW            2        2012  \n",
       "...             ...          ...         ...  \n",
       "8394         MEDIUM            2        2012  \n",
       "8395           HIGH           11        2009  \n",
       "8396  NOT SPECIFIED           11        2010  \n",
       "8397            LOW            7        2012  \n",
       "8398       CRITICAL           10        2011  \n",
       "\n",
       "[8399 rows x 17 columns]"
      ]
     },
     "execution_count": 53,
     "metadata": {},
     "output_type": "execute_result"
    }
   ],
   "source": [
    "# Merge comb_data and ord_df and write the reslut into comb_data\n",
    "comb_data=pd.merge(comb_data,ord_df)\n",
    "comb_data"
   ]
  },
  {
   "cell_type": "code",
   "execution_count": 54,
   "metadata": {},
   "outputs": [
    {
     "data": {
      "text/plain": [
       "(8399, 17)"
      ]
     },
     "execution_count": 54,
     "metadata": {},
     "output_type": "execute_result"
    }
   ],
   "source": [
    "# check the number of rows and columns in comb_data.\n",
    "comb_data.shape"
   ]
  },
  {
   "cell_type": "code",
   "execution_count": 55,
   "metadata": {},
   "outputs": [
    {
     "data": {
      "text/plain": [
       "HIGH             1768\n",
       "LOW              1720\n",
       "NOT SPECIFIED    1672\n",
       "MEDIUM           1631\n",
       "CRITICAL         1608\n",
       "Name: Order_Priority, dtype: int64"
      ]
     },
     "execution_count": 55,
     "metadata": {},
     "output_type": "execute_result"
    }
   ],
   "source": [
    "#In the comb_data check the value counts in \"Order_Priority\"\n",
    "comb_data.Order_Priority.value_counts()"
   ]
  },
  {
   "cell_type": "code",
   "execution_count": 57,
   "metadata": {},
   "outputs": [
    {
     "data": {
      "text/plain": [
       "2009    2153\n",
       "2010    2142\n",
       "2012    2102\n",
       "2011    2002\n",
       "Name: Order_Year, dtype: int64"
      ]
     },
     "execution_count": 57,
     "metadata": {},
     "output_type": "execute_result"
    }
   ],
   "source": [
    "# In the comb_data check the value counts for \"Order_Year\"\n",
    "comb_data.Order_Year.value_counts()"
   ]
  },
  {
   "cell_type": "code",
   "execution_count": 58,
   "metadata": {
    "collapsed": true
   },
   "outputs": [
    {
     "name": "stderr",
     "output_type": "stream",
     "text": [
      "C:\\Users\\Krish\\AppData\\Local\\Continuum\\anaconda3\\lib\\site-packages\\ipykernel_launcher.py:2: FutureWarning: \n",
      "The current behaviour of 'Series.argmax' is deprecated, use 'idxmax'\n",
      "instead.\n",
      "The behavior of 'argmax' will be corrected to return the positional\n",
      "maximum in the future. For now, use 'series.values.argmax' or\n",
      "'np.argmax(np.array(values))' to get the position of the maximum\n",
      "row.\n",
      "  \n"
     ]
    },
    {
     "data": {
      "text/plain": [
       "2009"
      ]
     },
     "execution_count": 58,
     "metadata": {},
     "output_type": "execute_result"
    }
   ],
   "source": [
    "# In which Year the customer have Highest no of orders\n",
    "comb_data.Order_Year.value_counts().argmax()"
   ]
  },
  {
   "cell_type": "code",
   "execution_count": 60,
   "metadata": {},
   "outputs": [
    {
     "data": {
      "text/plain": [
       "2009"
      ]
     },
     "execution_count": 60,
     "metadata": {},
     "output_type": "execute_result"
    }
   ],
   "source": [
    "comb_data.Order_Year.value_counts().idxmax()"
   ]
  },
  {
   "cell_type": "code",
   "execution_count": 61,
   "metadata": {
    "collapsed": true
   },
   "outputs": [
    {
     "data": {
      "text/plain": [
       "5     759\n",
       "10    755\n",
       "7     751\n",
       "9     743\n",
       "12    715\n",
       "4     697\n",
       "3     694\n",
       "11    679\n",
       "8     667\n",
       "1     656\n",
       "2     643\n",
       "6     640\n",
       "Name: Order_Month, dtype: int64"
      ]
     },
     "execution_count": 61,
     "metadata": {},
     "output_type": "execute_result"
    }
   ],
   "source": [
    "# In the comb_data check the value counts for Order_Month\n",
    "comb_data.Order_Month.value_counts()"
   ]
  },
  {
   "cell_type": "code",
   "execution_count": 62,
   "metadata": {
    "collapsed": true
   },
   "outputs": [
    {
     "name": "stderr",
     "output_type": "stream",
     "text": [
      "C:\\Users\\Krish\\AppData\\Local\\Continuum\\anaconda3\\lib\\site-packages\\ipykernel_launcher.py:2: FutureWarning: \n",
      "The current behaviour of 'Series.argmax' is deprecated, use 'idxmax'\n",
      "instead.\n",
      "The behavior of 'argmax' will be corrected to return the positional\n",
      "maximum in the future. For now, use 'series.values.argmax' or\n",
      "'np.argmax(np.array(values))' to get the position of the maximum\n",
      "row.\n",
      "  \n"
     ]
    },
    {
     "data": {
      "text/plain": [
       "5"
      ]
     },
     "execution_count": 62,
     "metadata": {},
     "output_type": "execute_result"
    }
   ],
   "source": [
    "# In which Month the customer have Highest no of orders\n",
    "comb_data.Order_Month.value_counts().argmax()"
   ]
  },
  {
   "cell_type": "markdown",
   "metadata": {},
   "source": [
    "# cust_dimen.csv\n",
    "- Read the cust_dimen data into cust_df\n",
    "- Display the top two rows\n",
    "- Display the last three rows\n",
    "- Select one row randomly\n",
    "- Check the total number of entries you have\n",
    "- Check the No of features\n",
    "- Print features Names(Column Names)\n",
    "- Check the dtype of each and every columns\n",
    "- Merge comb_data and cust_df and write the reslut into comb_data\n",
    "- check the number of rows and columns in comb_data.\n",
    "- In the comb_data check the value counts in \"Customer_Segment\""
   ]
  },
  {
   "cell_type": "code",
   "execution_count": 63,
   "metadata": {
    "scrolled": true
   },
   "outputs": [
    {
     "data": {
      "text/html": [
       "<div>\n",
       "<style scoped>\n",
       "    .dataframe tbody tr th:only-of-type {\n",
       "        vertical-align: middle;\n",
       "    }\n",
       "\n",
       "    .dataframe tbody tr th {\n",
       "        vertical-align: top;\n",
       "    }\n",
       "\n",
       "    .dataframe thead th {\n",
       "        text-align: right;\n",
       "    }\n",
       "</style>\n",
       "<table border=\"1\" class=\"dataframe\">\n",
       "  <thead>\n",
       "    <tr style=\"text-align: right;\">\n",
       "      <th></th>\n",
       "      <th>Customer_Name</th>\n",
       "      <th>Province</th>\n",
       "      <th>Region</th>\n",
       "      <th>Customer_Segment</th>\n",
       "      <th>Cust_id</th>\n",
       "    </tr>\n",
       "  </thead>\n",
       "  <tbody>\n",
       "    <tr>\n",
       "      <td>0</td>\n",
       "      <td>MUHAMMED MACINTYRE</td>\n",
       "      <td>NUNAVUT</td>\n",
       "      <td>NUNAVUT</td>\n",
       "      <td>SMALL BUSINESS</td>\n",
       "      <td>Cust_1</td>\n",
       "    </tr>\n",
       "    <tr>\n",
       "      <td>1</td>\n",
       "      <td>BARRY FRENCH</td>\n",
       "      <td>NUNAVUT</td>\n",
       "      <td>NUNAVUT</td>\n",
       "      <td>CONSUMER</td>\n",
       "      <td>Cust_2</td>\n",
       "    </tr>\n",
       "    <tr>\n",
       "      <td>2</td>\n",
       "      <td>CLAY ROZENDAL</td>\n",
       "      <td>NUNAVUT</td>\n",
       "      <td>NUNAVUT</td>\n",
       "      <td>CORPORATE</td>\n",
       "      <td>Cust_3</td>\n",
       "    </tr>\n",
       "    <tr>\n",
       "      <td>3</td>\n",
       "      <td>CARLOS SOLTERO</td>\n",
       "      <td>NUNAVUT</td>\n",
       "      <td>NUNAVUT</td>\n",
       "      <td>CONSUMER</td>\n",
       "      <td>Cust_4</td>\n",
       "    </tr>\n",
       "    <tr>\n",
       "      <td>4</td>\n",
       "      <td>CARL JACKSON</td>\n",
       "      <td>NUNAVUT</td>\n",
       "      <td>NUNAVUT</td>\n",
       "      <td>CORPORATE</td>\n",
       "      <td>Cust_5</td>\n",
       "    </tr>\n",
       "    <tr>\n",
       "      <td>...</td>\n",
       "      <td>...</td>\n",
       "      <td>...</td>\n",
       "      <td>...</td>\n",
       "      <td>...</td>\n",
       "      <td>...</td>\n",
       "    </tr>\n",
       "    <tr>\n",
       "      <td>1827</td>\n",
       "      <td>NICOLE BRENNAN</td>\n",
       "      <td>ALBERTA</td>\n",
       "      <td>WEST</td>\n",
       "      <td>CONSUMER</td>\n",
       "      <td>Cust_1828</td>\n",
       "    </tr>\n",
       "    <tr>\n",
       "      <td>1828</td>\n",
       "      <td>JASON FORTUNE</td>\n",
       "      <td>ALBERTA</td>\n",
       "      <td>WEST</td>\n",
       "      <td>CORPORATE</td>\n",
       "      <td>Cust_1829</td>\n",
       "    </tr>\n",
       "    <tr>\n",
       "      <td>1829</td>\n",
       "      <td>HARRY GREENE</td>\n",
       "      <td>ALBERTA</td>\n",
       "      <td>WEST</td>\n",
       "      <td>CORPORATE</td>\n",
       "      <td>Cust_1830</td>\n",
       "    </tr>\n",
       "    <tr>\n",
       "      <td>1830</td>\n",
       "      <td>GRANT DONATELLI</td>\n",
       "      <td>ALBERTA</td>\n",
       "      <td>WEST</td>\n",
       "      <td>CONSUMER</td>\n",
       "      <td>Cust_1831</td>\n",
       "    </tr>\n",
       "    <tr>\n",
       "      <td>1831</td>\n",
       "      <td>MICK BROWN</td>\n",
       "      <td>ALBERTA</td>\n",
       "      <td>WEST</td>\n",
       "      <td>CONSUMER</td>\n",
       "      <td>Cust_1832</td>\n",
       "    </tr>\n",
       "  </tbody>\n",
       "</table>\n",
       "<p>1832 rows × 5 columns</p>\n",
       "</div>"
      ],
      "text/plain": [
       "           Customer_Name Province   Region Customer_Segment    Cust_id\n",
       "0     MUHAMMED MACINTYRE  NUNAVUT  NUNAVUT   SMALL BUSINESS     Cust_1\n",
       "1           BARRY FRENCH  NUNAVUT  NUNAVUT         CONSUMER     Cust_2\n",
       "2          CLAY ROZENDAL  NUNAVUT  NUNAVUT        CORPORATE     Cust_3\n",
       "3         CARLOS SOLTERO  NUNAVUT  NUNAVUT         CONSUMER     Cust_4\n",
       "4           CARL JACKSON  NUNAVUT  NUNAVUT        CORPORATE     Cust_5\n",
       "...                  ...      ...      ...              ...        ...\n",
       "1827      NICOLE BRENNAN  ALBERTA     WEST         CONSUMER  Cust_1828\n",
       "1828       JASON FORTUNE  ALBERTA     WEST        CORPORATE  Cust_1829\n",
       "1829        HARRY GREENE  ALBERTA     WEST        CORPORATE  Cust_1830\n",
       "1830     GRANT DONATELLI  ALBERTA     WEST         CONSUMER  Cust_1831\n",
       "1831          MICK BROWN  ALBERTA     WEST         CONSUMER  Cust_1832\n",
       "\n",
       "[1832 rows x 5 columns]"
      ]
     },
     "execution_count": 63,
     "metadata": {},
     "output_type": "execute_result"
    }
   ],
   "source": [
    "# Read the cust_dimen data into cust_df\n",
    "cust_df=pd.read_csv('data\\\\global_sales_data\\\\cust_dimen.csv')\n",
    "cust_df"
   ]
  },
  {
   "cell_type": "code",
   "execution_count": 64,
   "metadata": {},
   "outputs": [
    {
     "data": {
      "text/html": [
       "<div>\n",
       "<style scoped>\n",
       "    .dataframe tbody tr th:only-of-type {\n",
       "        vertical-align: middle;\n",
       "    }\n",
       "\n",
       "    .dataframe tbody tr th {\n",
       "        vertical-align: top;\n",
       "    }\n",
       "\n",
       "    .dataframe thead th {\n",
       "        text-align: right;\n",
       "    }\n",
       "</style>\n",
       "<table border=\"1\" class=\"dataframe\">\n",
       "  <thead>\n",
       "    <tr style=\"text-align: right;\">\n",
       "      <th></th>\n",
       "      <th>Customer_Name</th>\n",
       "      <th>Province</th>\n",
       "      <th>Region</th>\n",
       "      <th>Customer_Segment</th>\n",
       "      <th>Cust_id</th>\n",
       "    </tr>\n",
       "  </thead>\n",
       "  <tbody>\n",
       "    <tr>\n",
       "      <td>0</td>\n",
       "      <td>MUHAMMED MACINTYRE</td>\n",
       "      <td>NUNAVUT</td>\n",
       "      <td>NUNAVUT</td>\n",
       "      <td>SMALL BUSINESS</td>\n",
       "      <td>Cust_1</td>\n",
       "    </tr>\n",
       "    <tr>\n",
       "      <td>1</td>\n",
       "      <td>BARRY FRENCH</td>\n",
       "      <td>NUNAVUT</td>\n",
       "      <td>NUNAVUT</td>\n",
       "      <td>CONSUMER</td>\n",
       "      <td>Cust_2</td>\n",
       "    </tr>\n",
       "  </tbody>\n",
       "</table>\n",
       "</div>"
      ],
      "text/plain": [
       "        Customer_Name Province   Region Customer_Segment Cust_id\n",
       "0  MUHAMMED MACINTYRE  NUNAVUT  NUNAVUT   SMALL BUSINESS  Cust_1\n",
       "1        BARRY FRENCH  NUNAVUT  NUNAVUT         CONSUMER  Cust_2"
      ]
     },
     "execution_count": 64,
     "metadata": {},
     "output_type": "execute_result"
    }
   ],
   "source": [
    "# Display the top two rows\n",
    "cust_df.head(2)"
   ]
  },
  {
   "cell_type": "code",
   "execution_count": 65,
   "metadata": {},
   "outputs": [
    {
     "data": {
      "text/html": [
       "<div>\n",
       "<style scoped>\n",
       "    .dataframe tbody tr th:only-of-type {\n",
       "        vertical-align: middle;\n",
       "    }\n",
       "\n",
       "    .dataframe tbody tr th {\n",
       "        vertical-align: top;\n",
       "    }\n",
       "\n",
       "    .dataframe thead th {\n",
       "        text-align: right;\n",
       "    }\n",
       "</style>\n",
       "<table border=\"1\" class=\"dataframe\">\n",
       "  <thead>\n",
       "    <tr style=\"text-align: right;\">\n",
       "      <th></th>\n",
       "      <th>Customer_Name</th>\n",
       "      <th>Province</th>\n",
       "      <th>Region</th>\n",
       "      <th>Customer_Segment</th>\n",
       "      <th>Cust_id</th>\n",
       "    </tr>\n",
       "  </thead>\n",
       "  <tbody>\n",
       "    <tr>\n",
       "      <td>1829</td>\n",
       "      <td>HARRY GREENE</td>\n",
       "      <td>ALBERTA</td>\n",
       "      <td>WEST</td>\n",
       "      <td>CORPORATE</td>\n",
       "      <td>Cust_1830</td>\n",
       "    </tr>\n",
       "    <tr>\n",
       "      <td>1830</td>\n",
       "      <td>GRANT DONATELLI</td>\n",
       "      <td>ALBERTA</td>\n",
       "      <td>WEST</td>\n",
       "      <td>CONSUMER</td>\n",
       "      <td>Cust_1831</td>\n",
       "    </tr>\n",
       "    <tr>\n",
       "      <td>1831</td>\n",
       "      <td>MICK BROWN</td>\n",
       "      <td>ALBERTA</td>\n",
       "      <td>WEST</td>\n",
       "      <td>CONSUMER</td>\n",
       "      <td>Cust_1832</td>\n",
       "    </tr>\n",
       "  </tbody>\n",
       "</table>\n",
       "</div>"
      ],
      "text/plain": [
       "        Customer_Name Province Region Customer_Segment    Cust_id\n",
       "1829     HARRY GREENE  ALBERTA   WEST        CORPORATE  Cust_1830\n",
       "1830  GRANT DONATELLI  ALBERTA   WEST         CONSUMER  Cust_1831\n",
       "1831       MICK BROWN  ALBERTA   WEST         CONSUMER  Cust_1832"
      ]
     },
     "execution_count": 65,
     "metadata": {},
     "output_type": "execute_result"
    }
   ],
   "source": [
    "# Display the last three rows\n",
    "cust_df.tail(3)"
   ]
  },
  {
   "cell_type": "code",
   "execution_count": 66,
   "metadata": {},
   "outputs": [
    {
     "data": {
      "text/html": [
       "<div>\n",
       "<style scoped>\n",
       "    .dataframe tbody tr th:only-of-type {\n",
       "        vertical-align: middle;\n",
       "    }\n",
       "\n",
       "    .dataframe tbody tr th {\n",
       "        vertical-align: top;\n",
       "    }\n",
       "\n",
       "    .dataframe thead th {\n",
       "        text-align: right;\n",
       "    }\n",
       "</style>\n",
       "<table border=\"1\" class=\"dataframe\">\n",
       "  <thead>\n",
       "    <tr style=\"text-align: right;\">\n",
       "      <th></th>\n",
       "      <th>Customer_Name</th>\n",
       "      <th>Province</th>\n",
       "      <th>Region</th>\n",
       "      <th>Customer_Segment</th>\n",
       "      <th>Cust_id</th>\n",
       "    </tr>\n",
       "  </thead>\n",
       "  <tbody>\n",
       "    <tr>\n",
       "      <td>1396</td>\n",
       "      <td>TOBY CARLISLE</td>\n",
       "      <td>SASKACHEWAN</td>\n",
       "      <td>PRARIE</td>\n",
       "      <td>HOME OFFICE</td>\n",
       "      <td>Cust_1397</td>\n",
       "    </tr>\n",
       "  </tbody>\n",
       "</table>\n",
       "</div>"
      ],
      "text/plain": [
       "      Customer_Name     Province  Region Customer_Segment    Cust_id\n",
       "1396  TOBY CARLISLE  SASKACHEWAN  PRARIE      HOME OFFICE  Cust_1397"
      ]
     },
     "execution_count": 66,
     "metadata": {},
     "output_type": "execute_result"
    }
   ],
   "source": [
    "# Select one row randomly\n",
    "cust_df.sample()"
   ]
  },
  {
   "cell_type": "code",
   "execution_count": 67,
   "metadata": {},
   "outputs": [
    {
     "data": {
      "text/plain": [
       "1832"
      ]
     },
     "execution_count": 67,
     "metadata": {},
     "output_type": "execute_result"
    }
   ],
   "source": [
    "# Check the total number of entries you have\n",
    "cust_df.shape[0]"
   ]
  },
  {
   "cell_type": "code",
   "execution_count": 68,
   "metadata": {},
   "outputs": [
    {
     "data": {
      "text/plain": [
       "5"
      ]
     },
     "execution_count": 68,
     "metadata": {},
     "output_type": "execute_result"
    }
   ],
   "source": [
    "# Check the No of features\n",
    "cust_df.shape[1]"
   ]
  },
  {
   "cell_type": "code",
   "execution_count": 69,
   "metadata": {},
   "outputs": [
    {
     "data": {
      "text/plain": [
       "Index(['Customer_Name', 'Province', 'Region', 'Customer_Segment', 'Cust_id'], dtype='object')"
      ]
     },
     "execution_count": 69,
     "metadata": {},
     "output_type": "execute_result"
    }
   ],
   "source": [
    "# Print features Names(Column Names)\n",
    "cust_df.columns"
   ]
  },
  {
   "cell_type": "code",
   "execution_count": 70,
   "metadata": {},
   "outputs": [
    {
     "data": {
      "text/plain": [
       "Customer_Name       object\n",
       "Province            object\n",
       "Region              object\n",
       "Customer_Segment    object\n",
       "Cust_id             object\n",
       "dtype: object"
      ]
     },
     "execution_count": 70,
     "metadata": {},
     "output_type": "execute_result"
    }
   ],
   "source": [
    "# Check the dtype of each and every columns\n",
    "cust_df.dtypes"
   ]
  },
  {
   "cell_type": "code",
   "execution_count": 72,
   "metadata": {
    "collapsed": true
   },
   "outputs": [
    {
     "data": {
      "text/html": [
       "<div>\n",
       "<style scoped>\n",
       "    .dataframe tbody tr th:only-of-type {\n",
       "        vertical-align: middle;\n",
       "    }\n",
       "\n",
       "    .dataframe tbody tr th {\n",
       "        vertical-align: top;\n",
       "    }\n",
       "\n",
       "    .dataframe thead th {\n",
       "        text-align: right;\n",
       "    }\n",
       "</style>\n",
       "<table border=\"1\" class=\"dataframe\">\n",
       "  <thead>\n",
       "    <tr style=\"text-align: right;\">\n",
       "      <th></th>\n",
       "      <th>Ord_id</th>\n",
       "      <th>Prod_id</th>\n",
       "      <th>Ship_id</th>\n",
       "      <th>Cust_id</th>\n",
       "      <th>Sales</th>\n",
       "      <th>Discount</th>\n",
       "      <th>Order_Quantity</th>\n",
       "      <th>Profit</th>\n",
       "      <th>Shipping_Cost</th>\n",
       "      <th>Product_Base_Margin</th>\n",
       "      <th>...</th>\n",
       "      <th>Product_Sub_Category</th>\n",
       "      <th>Order_ID</th>\n",
       "      <th>Order_Date</th>\n",
       "      <th>Order_Priority</th>\n",
       "      <th>Order_Month</th>\n",
       "      <th>Order_Year</th>\n",
       "      <th>Customer_Name</th>\n",
       "      <th>Province</th>\n",
       "      <th>Region</th>\n",
       "      <th>Customer_Segment</th>\n",
       "    </tr>\n",
       "  </thead>\n",
       "  <tbody>\n",
       "    <tr>\n",
       "      <td>0</td>\n",
       "      <td>Ord_5446</td>\n",
       "      <td>Prod_16</td>\n",
       "      <td>SHP_7609</td>\n",
       "      <td>Cust_1818</td>\n",
       "      <td>136.81</td>\n",
       "      <td>0.01</td>\n",
       "      <td>23</td>\n",
       "      <td>-30.51</td>\n",
       "      <td>3.60</td>\n",
       "      <td>0.56</td>\n",
       "      <td>...</td>\n",
       "      <td>SCISSORS, RULERS AND TRIMMERS</td>\n",
       "      <td>36262</td>\n",
       "      <td>2010-07-27</td>\n",
       "      <td>NOT SPECIFIED</td>\n",
       "      <td>7</td>\n",
       "      <td>2010</td>\n",
       "      <td>AARON BERGMAN</td>\n",
       "      <td>ALBERTA</td>\n",
       "      <td>WEST</td>\n",
       "      <td>CORPORATE</td>\n",
       "    </tr>\n",
       "    <tr>\n",
       "      <td>1</td>\n",
       "      <td>Ord_5446</td>\n",
       "      <td>Prod_4</td>\n",
       "      <td>SHP_7610</td>\n",
       "      <td>Cust_1818</td>\n",
       "      <td>4701.69</td>\n",
       "      <td>0.00</td>\n",
       "      <td>26</td>\n",
       "      <td>1148.90</td>\n",
       "      <td>2.50</td>\n",
       "      <td>0.59</td>\n",
       "      <td>...</td>\n",
       "      <td>TELEPHONES AND COMMUNICATION</td>\n",
       "      <td>36262</td>\n",
       "      <td>2010-07-27</td>\n",
       "      <td>NOT SPECIFIED</td>\n",
       "      <td>7</td>\n",
       "      <td>2010</td>\n",
       "      <td>AARON BERGMAN</td>\n",
       "      <td>ALBERTA</td>\n",
       "      <td>WEST</td>\n",
       "      <td>CORPORATE</td>\n",
       "    </tr>\n",
       "    <tr>\n",
       "      <td>2</td>\n",
       "      <td>Ord_5446</td>\n",
       "      <td>Prod_6</td>\n",
       "      <td>SHP_7608</td>\n",
       "      <td>Cust_1818</td>\n",
       "      <td>164.02</td>\n",
       "      <td>0.03</td>\n",
       "      <td>23</td>\n",
       "      <td>-47.64</td>\n",
       "      <td>6.15</td>\n",
       "      <td>0.37</td>\n",
       "      <td>...</td>\n",
       "      <td>PAPER</td>\n",
       "      <td>36262</td>\n",
       "      <td>2010-07-27</td>\n",
       "      <td>NOT SPECIFIED</td>\n",
       "      <td>7</td>\n",
       "      <td>2010</td>\n",
       "      <td>AARON BERGMAN</td>\n",
       "      <td>ALBERTA</td>\n",
       "      <td>WEST</td>\n",
       "      <td>CORPORATE</td>\n",
       "    </tr>\n",
       "    <tr>\n",
       "      <td>3</td>\n",
       "      <td>Ord_5406</td>\n",
       "      <td>Prod_13</td>\n",
       "      <td>SHP_7549</td>\n",
       "      <td>Cust_1818</td>\n",
       "      <td>42.27</td>\n",
       "      <td>0.01</td>\n",
       "      <td>13</td>\n",
       "      <td>4.56</td>\n",
       "      <td>0.93</td>\n",
       "      <td>0.54</td>\n",
       "      <td>...</td>\n",
       "      <td>PENS &amp; ART SUPPLIES</td>\n",
       "      <td>20513</td>\n",
       "      <td>2009-07-07</td>\n",
       "      <td>HIGH</td>\n",
       "      <td>7</td>\n",
       "      <td>2009</td>\n",
       "      <td>AARON BERGMAN</td>\n",
       "      <td>ALBERTA</td>\n",
       "      <td>WEST</td>\n",
       "      <td>CORPORATE</td>\n",
       "    </tr>\n",
       "    <tr>\n",
       "      <td>4</td>\n",
       "      <td>Ord_5456</td>\n",
       "      <td>Prod_6</td>\n",
       "      <td>SHP_7625</td>\n",
       "      <td>Cust_1818</td>\n",
       "      <td>2337.89</td>\n",
       "      <td>0.09</td>\n",
       "      <td>43</td>\n",
       "      <td>729.34</td>\n",
       "      <td>14.30</td>\n",
       "      <td>0.37</td>\n",
       "      <td>...</td>\n",
       "      <td>PAPER</td>\n",
       "      <td>39682</td>\n",
       "      <td>2010-09-11</td>\n",
       "      <td>MEDIUM</td>\n",
       "      <td>9</td>\n",
       "      <td>2010</td>\n",
       "      <td>AARON BERGMAN</td>\n",
       "      <td>ALBERTA</td>\n",
       "      <td>WEST</td>\n",
       "      <td>CORPORATE</td>\n",
       "    </tr>\n",
       "    <tr>\n",
       "      <td>...</td>\n",
       "      <td>...</td>\n",
       "      <td>...</td>\n",
       "      <td>...</td>\n",
       "      <td>...</td>\n",
       "      <td>...</td>\n",
       "      <td>...</td>\n",
       "      <td>...</td>\n",
       "      <td>...</td>\n",
       "      <td>...</td>\n",
       "      <td>...</td>\n",
       "      <td>...</td>\n",
       "      <td>...</td>\n",
       "      <td>...</td>\n",
       "      <td>...</td>\n",
       "      <td>...</td>\n",
       "      <td>...</td>\n",
       "      <td>...</td>\n",
       "      <td>...</td>\n",
       "      <td>...</td>\n",
       "      <td>...</td>\n",
       "      <td>...</td>\n",
       "    </tr>\n",
       "    <tr>\n",
       "      <td>8394</td>\n",
       "      <td>Ord_973</td>\n",
       "      <td>Prod_8</td>\n",
       "      <td>SHP_1343</td>\n",
       "      <td>Cust_357</td>\n",
       "      <td>29.05</td>\n",
       "      <td>0.08</td>\n",
       "      <td>4</td>\n",
       "      <td>-20.90</td>\n",
       "      <td>4.32</td>\n",
       "      <td>0.64</td>\n",
       "      <td>...</td>\n",
       "      <td>COMPUTER PERIPHERALS</td>\n",
       "      <td>40259</td>\n",
       "      <td>2010-12-10</td>\n",
       "      <td>MEDIUM</td>\n",
       "      <td>12</td>\n",
       "      <td>2010</td>\n",
       "      <td>THEONE PIPPENGER</td>\n",
       "      <td>BRITISH COLUMBIA</td>\n",
       "      <td>WEST</td>\n",
       "      <td>CORPORATE</td>\n",
       "    </tr>\n",
       "    <tr>\n",
       "      <td>8395</td>\n",
       "      <td>Ord_1832</td>\n",
       "      <td>Prod_8</td>\n",
       "      <td>SHP_2526</td>\n",
       "      <td>Cust_636</td>\n",
       "      <td>57.03</td>\n",
       "      <td>0.00</td>\n",
       "      <td>7</td>\n",
       "      <td>-31.38</td>\n",
       "      <td>3.52</td>\n",
       "      <td>0.68</td>\n",
       "      <td>...</td>\n",
       "      <td>COMPUTER PERIPHERALS</td>\n",
       "      <td>36230</td>\n",
       "      <td>2009-10-06</td>\n",
       "      <td>HIGH</td>\n",
       "      <td>10</td>\n",
       "      <td>2009</td>\n",
       "      <td>TOM PRESCOTT</td>\n",
       "      <td>NEWFOUNDLAND</td>\n",
       "      <td>ATLANTIC</td>\n",
       "      <td>SMALL BUSINESS</td>\n",
       "    </tr>\n",
       "    <tr>\n",
       "      <td>8396</td>\n",
       "      <td>Ord_2010</td>\n",
       "      <td>Prod_8</td>\n",
       "      <td>SHP_2748</td>\n",
       "      <td>Cust_760</td>\n",
       "      <td>282.58</td>\n",
       "      <td>0.10</td>\n",
       "      <td>36</td>\n",
       "      <td>21.68</td>\n",
       "      <td>1.99</td>\n",
       "      <td>0.52</td>\n",
       "      <td>...</td>\n",
       "      <td>COMPUTER PERIPHERALS</td>\n",
       "      <td>18534</td>\n",
       "      <td>2011-12-30</td>\n",
       "      <td>LOW</td>\n",
       "      <td>12</td>\n",
       "      <td>2011</td>\n",
       "      <td>TRACY PODDAR</td>\n",
       "      <td>NOVA SCOTIA</td>\n",
       "      <td>ATLANTIC</td>\n",
       "      <td>CORPORATE</td>\n",
       "    </tr>\n",
       "    <tr>\n",
       "      <td>8397</td>\n",
       "      <td>Ord_2988</td>\n",
       "      <td>Prod_14</td>\n",
       "      <td>SHP_4132</td>\n",
       "      <td>Cust_1105</td>\n",
       "      <td>9262.35</td>\n",
       "      <td>0.09</td>\n",
       "      <td>47</td>\n",
       "      <td>2787.59</td>\n",
       "      <td>24.49</td>\n",
       "      <td>0.46</td>\n",
       "      <td>...</td>\n",
       "      <td>COPIERS AND FAX</td>\n",
       "      <td>23616</td>\n",
       "      <td>2012-08-28</td>\n",
       "      <td>NOT SPECIFIED</td>\n",
       "      <td>8</td>\n",
       "      <td>2012</td>\n",
       "      <td>BECKY MARTIN</td>\n",
       "      <td>ONTARIO</td>\n",
       "      <td>ONTARIO</td>\n",
       "      <td>HOME OFFICE</td>\n",
       "    </tr>\n",
       "    <tr>\n",
       "      <td>8398</td>\n",
       "      <td>Ord_1096</td>\n",
       "      <td>Prod_14</td>\n",
       "      <td>SHP_1512</td>\n",
       "      <td>Cust_423</td>\n",
       "      <td>2222.61</td>\n",
       "      <td>0.02</td>\n",
       "      <td>3</td>\n",
       "      <td>196.08</td>\n",
       "      <td>24.49</td>\n",
       "      <td>0.41</td>\n",
       "      <td>...</td>\n",
       "      <td>COPIERS AND FAX</td>\n",
       "      <td>38693</td>\n",
       "      <td>2011-06-14</td>\n",
       "      <td>LOW</td>\n",
       "      <td>6</td>\n",
       "      <td>2011</td>\n",
       "      <td>LYCORIS SAUNDERS</td>\n",
       "      <td>ONTARIO</td>\n",
       "      <td>ONTARIO</td>\n",
       "      <td>HOME OFFICE</td>\n",
       "    </tr>\n",
       "  </tbody>\n",
       "</table>\n",
       "<p>8399 rows × 21 columns</p>\n",
       "</div>"
      ],
      "text/plain": [
       "        Ord_id  Prod_id   Ship_id    Cust_id    Sales  Discount  \\\n",
       "0     Ord_5446  Prod_16  SHP_7609  Cust_1818   136.81      0.01   \n",
       "1     Ord_5446   Prod_4  SHP_7610  Cust_1818  4701.69      0.00   \n",
       "2     Ord_5446   Prod_6  SHP_7608  Cust_1818   164.02      0.03   \n",
       "3     Ord_5406  Prod_13  SHP_7549  Cust_1818    42.27      0.01   \n",
       "4     Ord_5456   Prod_6  SHP_7625  Cust_1818  2337.89      0.09   \n",
       "...        ...      ...       ...        ...      ...       ...   \n",
       "8394   Ord_973   Prod_8  SHP_1343   Cust_357    29.05      0.08   \n",
       "8395  Ord_1832   Prod_8  SHP_2526   Cust_636    57.03      0.00   \n",
       "8396  Ord_2010   Prod_8  SHP_2748   Cust_760   282.58      0.10   \n",
       "8397  Ord_2988  Prod_14  SHP_4132  Cust_1105  9262.35      0.09   \n",
       "8398  Ord_1096  Prod_14  SHP_1512   Cust_423  2222.61      0.02   \n",
       "\n",
       "      Order_Quantity   Profit  Shipping_Cost  Product_Base_Margin  ...  \\\n",
       "0                 23   -30.51           3.60                 0.56  ...   \n",
       "1                 26  1148.90           2.50                 0.59  ...   \n",
       "2                 23   -47.64           6.15                 0.37  ...   \n",
       "3                 13     4.56           0.93                 0.54  ...   \n",
       "4                 43   729.34          14.30                 0.37  ...   \n",
       "...              ...      ...            ...                  ...  ...   \n",
       "8394               4   -20.90           4.32                 0.64  ...   \n",
       "8395               7   -31.38           3.52                 0.68  ...   \n",
       "8396              36    21.68           1.99                 0.52  ...   \n",
       "8397              47  2787.59          24.49                 0.46  ...   \n",
       "8398               3   196.08          24.49                 0.41  ...   \n",
       "\n",
       "               Product_Sub_Category Order_ID  Order_Date Order_Priority  \\\n",
       "0     SCISSORS, RULERS AND TRIMMERS    36262  2010-07-27  NOT SPECIFIED   \n",
       "1      TELEPHONES AND COMMUNICATION    36262  2010-07-27  NOT SPECIFIED   \n",
       "2                             PAPER    36262  2010-07-27  NOT SPECIFIED   \n",
       "3               PENS & ART SUPPLIES    20513  2009-07-07           HIGH   \n",
       "4                             PAPER    39682  2010-09-11         MEDIUM   \n",
       "...                             ...      ...         ...            ...   \n",
       "8394           COMPUTER PERIPHERALS    40259  2010-12-10         MEDIUM   \n",
       "8395           COMPUTER PERIPHERALS    36230  2009-10-06           HIGH   \n",
       "8396           COMPUTER PERIPHERALS    18534  2011-12-30            LOW   \n",
       "8397                COPIERS AND FAX    23616  2012-08-28  NOT SPECIFIED   \n",
       "8398                COPIERS AND FAX    38693  2011-06-14            LOW   \n",
       "\n",
       "     Order_Month  Order_Year     Customer_Name          Province    Region  \\\n",
       "0              7        2010     AARON BERGMAN           ALBERTA      WEST   \n",
       "1              7        2010     AARON BERGMAN           ALBERTA      WEST   \n",
       "2              7        2010     AARON BERGMAN           ALBERTA      WEST   \n",
       "3              7        2009     AARON BERGMAN           ALBERTA      WEST   \n",
       "4              9        2010     AARON BERGMAN           ALBERTA      WEST   \n",
       "...          ...         ...               ...               ...       ...   \n",
       "8394          12        2010  THEONE PIPPENGER  BRITISH COLUMBIA      WEST   \n",
       "8395          10        2009      TOM PRESCOTT      NEWFOUNDLAND  ATLANTIC   \n",
       "8396          12        2011      TRACY PODDAR       NOVA SCOTIA  ATLANTIC   \n",
       "8397           8        2012      BECKY MARTIN           ONTARIO   ONTARIO   \n",
       "8398           6        2011  LYCORIS SAUNDERS           ONTARIO   ONTARIO   \n",
       "\n",
       "     Customer_Segment  \n",
       "0           CORPORATE  \n",
       "1           CORPORATE  \n",
       "2           CORPORATE  \n",
       "3           CORPORATE  \n",
       "4           CORPORATE  \n",
       "...               ...  \n",
       "8394        CORPORATE  \n",
       "8395   SMALL BUSINESS  \n",
       "8396        CORPORATE  \n",
       "8397      HOME OFFICE  \n",
       "8398      HOME OFFICE  \n",
       "\n",
       "[8399 rows x 21 columns]"
      ]
     },
     "execution_count": 72,
     "metadata": {},
     "output_type": "execute_result"
    }
   ],
   "source": [
    "# Merge comb_data and cust_df and write the reslut into comb_data\n",
    "comb_data=pd.merge(comb_data,cust_df)\n",
    "comb_data"
   ]
  },
  {
   "cell_type": "code",
   "execution_count": 73,
   "metadata": {},
   "outputs": [
    {
     "data": {
      "text/plain": [
       "(8399, 21)"
      ]
     },
     "execution_count": 73,
     "metadata": {},
     "output_type": "execute_result"
    }
   ],
   "source": [
    "# check the number of rows and columns in comb_data.\n",
    "comb_data.shape"
   ]
  },
  {
   "cell_type": "code",
   "execution_count": 75,
   "metadata": {},
   "outputs": [
    {
     "data": {
      "text/plain": [
       "CORPORATE         3076\n",
       "HOME OFFICE       2032\n",
       "CONSUMER          1649\n",
       "SMALL BUSINESS    1642\n",
       "Name: Customer_Segment, dtype: int64"
      ]
     },
     "execution_count": 75,
     "metadata": {},
     "output_type": "execute_result"
    }
   ],
   "source": [
    "# In the comb_data check the value counts in \"Customer_Segment\"\n",
    "comb_data.Customer_Segment.value_counts()"
   ]
  },
  {
   "cell_type": "markdown",
   "metadata": {},
   "source": [
    "# shipping_dimen.csv\n",
    "- Read the shipping_dimen data into ship_df\n",
    "- Display the top two rows\n",
    "- Display the last three rows\n",
    "- Select one row randomly\n",
    "- Check the total number of entries you have\n",
    "- Check the No of features\n",
    "- Print features Names(Column Names)\n",
    "- Check the dtype of each and every columns\n",
    "- Check the \"Ship_Date\" column type if it is object convert it into datetime\n",
    "- Create two new columns Ship_Year and Ship_Month with year and month vcalues from Order_date\n",
    "- Merge comb_data and ord_df and write the reslut into comb_data\n",
    "- check the number of rows and columns in comb_data.\n",
    "- In the comb_data check the value counts for \"Ship_Year\"\n",
    "- In which Year the customer have Highest no of Shippings\n",
    "- In the comb_data check the value counts for Ship_Month\n",
    "- In which Month the customer have Highest no of Shippings\n",
    "- Create a new columns \"Duration\" whcih the diffenence b/n Ship_Date and Order_Date "
   ]
  },
  {
   "cell_type": "code",
   "execution_count": 76,
   "metadata": {
    "collapsed": true
   },
   "outputs": [
    {
     "data": {
      "text/html": [
       "<div>\n",
       "<style scoped>\n",
       "    .dataframe tbody tr th:only-of-type {\n",
       "        vertical-align: middle;\n",
       "    }\n",
       "\n",
       "    .dataframe tbody tr th {\n",
       "        vertical-align: top;\n",
       "    }\n",
       "\n",
       "    .dataframe thead th {\n",
       "        text-align: right;\n",
       "    }\n",
       "</style>\n",
       "<table border=\"1\" class=\"dataframe\">\n",
       "  <thead>\n",
       "    <tr style=\"text-align: right;\">\n",
       "      <th></th>\n",
       "      <th>Order_ID</th>\n",
       "      <th>Ship_Mode</th>\n",
       "      <th>Ship_Date</th>\n",
       "      <th>Ship_id</th>\n",
       "    </tr>\n",
       "  </thead>\n",
       "  <tbody>\n",
       "    <tr>\n",
       "      <td>0</td>\n",
       "      <td>3</td>\n",
       "      <td>REGULAR AIR</td>\n",
       "      <td>20-10-2010</td>\n",
       "      <td>SHP_1</td>\n",
       "    </tr>\n",
       "    <tr>\n",
       "      <td>1</td>\n",
       "      <td>293</td>\n",
       "      <td>DELIVERY TRUCK</td>\n",
       "      <td>02-10-2012</td>\n",
       "      <td>SHP_2</td>\n",
       "    </tr>\n",
       "    <tr>\n",
       "      <td>2</td>\n",
       "      <td>293</td>\n",
       "      <td>REGULAR AIR</td>\n",
       "      <td>03-10-2012</td>\n",
       "      <td>SHP_3</td>\n",
       "    </tr>\n",
       "    <tr>\n",
       "      <td>3</td>\n",
       "      <td>483</td>\n",
       "      <td>REGULAR AIR</td>\n",
       "      <td>12-07-2011</td>\n",
       "      <td>SHP_4</td>\n",
       "    </tr>\n",
       "    <tr>\n",
       "      <td>4</td>\n",
       "      <td>515</td>\n",
       "      <td>REGULAR AIR</td>\n",
       "      <td>30-08-2010</td>\n",
       "      <td>SHP_5</td>\n",
       "    </tr>\n",
       "    <tr>\n",
       "      <td>...</td>\n",
       "      <td>...</td>\n",
       "      <td>...</td>\n",
       "      <td>...</td>\n",
       "      <td>...</td>\n",
       "    </tr>\n",
       "    <tr>\n",
       "      <td>7696</td>\n",
       "      <td>55558</td>\n",
       "      <td>DELIVERY TRUCK</td>\n",
       "      <td>09-08-2010</td>\n",
       "      <td>SHP_7697</td>\n",
       "    </tr>\n",
       "    <tr>\n",
       "      <td>7697</td>\n",
       "      <td>55558</td>\n",
       "      <td>REGULAR AIR</td>\n",
       "      <td>11-08-2010</td>\n",
       "      <td>SHP_7698</td>\n",
       "    </tr>\n",
       "    <tr>\n",
       "      <td>7698</td>\n",
       "      <td>56550</td>\n",
       "      <td>EXPRESS AIR</td>\n",
       "      <td>10-04-2011</td>\n",
       "      <td>SHP_7699</td>\n",
       "    </tr>\n",
       "    <tr>\n",
       "      <td>7699</td>\n",
       "      <td>56550</td>\n",
       "      <td>REGULAR AIR</td>\n",
       "      <td>09-04-2011</td>\n",
       "      <td>SHP_7700</td>\n",
       "    </tr>\n",
       "    <tr>\n",
       "      <td>7700</td>\n",
       "      <td>56581</td>\n",
       "      <td>EXPRESS AIR</td>\n",
       "      <td>11-02-2009</td>\n",
       "      <td>SHP_7701</td>\n",
       "    </tr>\n",
       "  </tbody>\n",
       "</table>\n",
       "<p>7701 rows × 4 columns</p>\n",
       "</div>"
      ],
      "text/plain": [
       "      Order_ID       Ship_Mode   Ship_Date   Ship_id\n",
       "0            3     REGULAR AIR  20-10-2010     SHP_1\n",
       "1          293  DELIVERY TRUCK  02-10-2012     SHP_2\n",
       "2          293     REGULAR AIR  03-10-2012     SHP_3\n",
       "3          483     REGULAR AIR  12-07-2011     SHP_4\n",
       "4          515     REGULAR AIR  30-08-2010     SHP_5\n",
       "...        ...             ...         ...       ...\n",
       "7696     55558  DELIVERY TRUCK  09-08-2010  SHP_7697\n",
       "7697     55558     REGULAR AIR  11-08-2010  SHP_7698\n",
       "7698     56550     EXPRESS AIR  10-04-2011  SHP_7699\n",
       "7699     56550     REGULAR AIR  09-04-2011  SHP_7700\n",
       "7700     56581     EXPRESS AIR  11-02-2009  SHP_7701\n",
       "\n",
       "[7701 rows x 4 columns]"
      ]
     },
     "execution_count": 76,
     "metadata": {},
     "output_type": "execute_result"
    }
   ],
   "source": [
    "# Read the shipping_dimen data into ship_df\n",
    "ship_df=pd.read_csv('data\\\\global_sales_data\\\\shipping_dimen.csv')\n",
    "ship_df"
   ]
  },
  {
   "cell_type": "code",
   "execution_count": 77,
   "metadata": {},
   "outputs": [
    {
     "data": {
      "text/html": [
       "<div>\n",
       "<style scoped>\n",
       "    .dataframe tbody tr th:only-of-type {\n",
       "        vertical-align: middle;\n",
       "    }\n",
       "\n",
       "    .dataframe tbody tr th {\n",
       "        vertical-align: top;\n",
       "    }\n",
       "\n",
       "    .dataframe thead th {\n",
       "        text-align: right;\n",
       "    }\n",
       "</style>\n",
       "<table border=\"1\" class=\"dataframe\">\n",
       "  <thead>\n",
       "    <tr style=\"text-align: right;\">\n",
       "      <th></th>\n",
       "      <th>Order_ID</th>\n",
       "      <th>Ship_Mode</th>\n",
       "      <th>Ship_Date</th>\n",
       "      <th>Ship_id</th>\n",
       "    </tr>\n",
       "  </thead>\n",
       "  <tbody>\n",
       "    <tr>\n",
       "      <td>0</td>\n",
       "      <td>3</td>\n",
       "      <td>REGULAR AIR</td>\n",
       "      <td>20-10-2010</td>\n",
       "      <td>SHP_1</td>\n",
       "    </tr>\n",
       "    <tr>\n",
       "      <td>1</td>\n",
       "      <td>293</td>\n",
       "      <td>DELIVERY TRUCK</td>\n",
       "      <td>02-10-2012</td>\n",
       "      <td>SHP_2</td>\n",
       "    </tr>\n",
       "  </tbody>\n",
       "</table>\n",
       "</div>"
      ],
      "text/plain": [
       "   Order_ID       Ship_Mode   Ship_Date Ship_id\n",
       "0         3     REGULAR AIR  20-10-2010   SHP_1\n",
       "1       293  DELIVERY TRUCK  02-10-2012   SHP_2"
      ]
     },
     "execution_count": 77,
     "metadata": {},
     "output_type": "execute_result"
    }
   ],
   "source": [
    "# Display the top two rows\n",
    "ship_df.head(2)"
   ]
  },
  {
   "cell_type": "code",
   "execution_count": 78,
   "metadata": {},
   "outputs": [
    {
     "data": {
      "text/html": [
       "<div>\n",
       "<style scoped>\n",
       "    .dataframe tbody tr th:only-of-type {\n",
       "        vertical-align: middle;\n",
       "    }\n",
       "\n",
       "    .dataframe tbody tr th {\n",
       "        vertical-align: top;\n",
       "    }\n",
       "\n",
       "    .dataframe thead th {\n",
       "        text-align: right;\n",
       "    }\n",
       "</style>\n",
       "<table border=\"1\" class=\"dataframe\">\n",
       "  <thead>\n",
       "    <tr style=\"text-align: right;\">\n",
       "      <th></th>\n",
       "      <th>Order_ID</th>\n",
       "      <th>Ship_Mode</th>\n",
       "      <th>Ship_Date</th>\n",
       "      <th>Ship_id</th>\n",
       "    </tr>\n",
       "  </thead>\n",
       "  <tbody>\n",
       "    <tr>\n",
       "      <td>7698</td>\n",
       "      <td>56550</td>\n",
       "      <td>EXPRESS AIR</td>\n",
       "      <td>10-04-2011</td>\n",
       "      <td>SHP_7699</td>\n",
       "    </tr>\n",
       "    <tr>\n",
       "      <td>7699</td>\n",
       "      <td>56550</td>\n",
       "      <td>REGULAR AIR</td>\n",
       "      <td>09-04-2011</td>\n",
       "      <td>SHP_7700</td>\n",
       "    </tr>\n",
       "    <tr>\n",
       "      <td>7700</td>\n",
       "      <td>56581</td>\n",
       "      <td>EXPRESS AIR</td>\n",
       "      <td>11-02-2009</td>\n",
       "      <td>SHP_7701</td>\n",
       "    </tr>\n",
       "  </tbody>\n",
       "</table>\n",
       "</div>"
      ],
      "text/plain": [
       "      Order_ID    Ship_Mode   Ship_Date   Ship_id\n",
       "7698     56550  EXPRESS AIR  10-04-2011  SHP_7699\n",
       "7699     56550  REGULAR AIR  09-04-2011  SHP_7700\n",
       "7700     56581  EXPRESS AIR  11-02-2009  SHP_7701"
      ]
     },
     "execution_count": 78,
     "metadata": {},
     "output_type": "execute_result"
    }
   ],
   "source": [
    "# Display the last three rows\n",
    "ship_df.tail(3)"
   ]
  },
  {
   "cell_type": "code",
   "execution_count": 79,
   "metadata": {},
   "outputs": [
    {
     "data": {
      "text/html": [
       "<div>\n",
       "<style scoped>\n",
       "    .dataframe tbody tr th:only-of-type {\n",
       "        vertical-align: middle;\n",
       "    }\n",
       "\n",
       "    .dataframe tbody tr th {\n",
       "        vertical-align: top;\n",
       "    }\n",
       "\n",
       "    .dataframe thead th {\n",
       "        text-align: right;\n",
       "    }\n",
       "</style>\n",
       "<table border=\"1\" class=\"dataframe\">\n",
       "  <thead>\n",
       "    <tr style=\"text-align: right;\">\n",
       "      <th></th>\n",
       "      <th>Order_ID</th>\n",
       "      <th>Ship_Mode</th>\n",
       "      <th>Ship_Date</th>\n",
       "      <th>Ship_id</th>\n",
       "    </tr>\n",
       "  </thead>\n",
       "  <tbody>\n",
       "    <tr>\n",
       "      <td>461</td>\n",
       "      <td>3521</td>\n",
       "      <td>REGULAR AIR</td>\n",
       "      <td>27-10-2012</td>\n",
       "      <td>SHP_462</td>\n",
       "    </tr>\n",
       "  </tbody>\n",
       "</table>\n",
       "</div>"
      ],
      "text/plain": [
       "     Order_ID    Ship_Mode   Ship_Date  Ship_id\n",
       "461      3521  REGULAR AIR  27-10-2012  SHP_462"
      ]
     },
     "execution_count": 79,
     "metadata": {},
     "output_type": "execute_result"
    }
   ],
   "source": [
    "# Select one row randomly\n",
    "ship_df.sample()"
   ]
  },
  {
   "cell_type": "code",
   "execution_count": 80,
   "metadata": {},
   "outputs": [
    {
     "data": {
      "text/plain": [
       "7701"
      ]
     },
     "execution_count": 80,
     "metadata": {},
     "output_type": "execute_result"
    }
   ],
   "source": [
    "# Check the total number of entries you have\n",
    "ship_df.shape[0]"
   ]
  },
  {
   "cell_type": "code",
   "execution_count": 81,
   "metadata": {},
   "outputs": [
    {
     "data": {
      "text/plain": [
       "4"
      ]
     },
     "execution_count": 81,
     "metadata": {},
     "output_type": "execute_result"
    }
   ],
   "source": [
    "# Check the No of features\n",
    "ship_df.shape[1]"
   ]
  },
  {
   "cell_type": "code",
   "execution_count": 82,
   "metadata": {},
   "outputs": [
    {
     "data": {
      "text/plain": [
       "Index(['Order_ID', 'Ship_Mode', 'Ship_Date', 'Ship_id'], dtype='object')"
      ]
     },
     "execution_count": 82,
     "metadata": {},
     "output_type": "execute_result"
    }
   ],
   "source": [
    "# Print features Names(Column Names)\n",
    "ship_df.columns"
   ]
  },
  {
   "cell_type": "code",
   "execution_count": 83,
   "metadata": {},
   "outputs": [
    {
     "data": {
      "text/plain": [
       "Order_ID      int64\n",
       "Ship_Mode    object\n",
       "Ship_Date    object\n",
       "Ship_id      object\n",
       "dtype: object"
      ]
     },
     "execution_count": 83,
     "metadata": {},
     "output_type": "execute_result"
    }
   ],
   "source": [
    "# Check the dtype of each and every columns\n",
    "ship_df.dtypes"
   ]
  },
  {
   "cell_type": "code",
   "execution_count": 84,
   "metadata": {},
   "outputs": [
    {
     "data": {
      "text/plain": [
       "Order_ID              int64\n",
       "Ship_Mode            object\n",
       "Ship_Date    datetime64[ns]\n",
       "Ship_id              object\n",
       "dtype: object"
      ]
     },
     "execution_count": 84,
     "metadata": {},
     "output_type": "execute_result"
    }
   ],
   "source": [
    "# Check the \"Ship_Date\" column type if it is object convert it into datetime\n",
    "ship_df['Ship_Date']=pd.to_datetime(ship_df['Ship_Date'])\n",
    "ship_df.dtypes"
   ]
  },
  {
   "cell_type": "code",
   "execution_count": 85,
   "metadata": {},
   "outputs": [
    {
     "data": {
      "text/plain": [
       "0       10\n",
       "1        2\n",
       "2        3\n",
       "3       12\n",
       "4        8\n",
       "        ..\n",
       "7696     9\n",
       "7697    11\n",
       "7698    10\n",
       "7699     9\n",
       "7700    11\n",
       "Name: Ship_Month, Length: 7701, dtype: int64"
      ]
     },
     "execution_count": 85,
     "metadata": {},
     "output_type": "execute_result"
    }
   ],
   "source": [
    "# Create two new columns Ship_Year and Ship_Month with year and month vcalues from Order_date\n",
    "ship_df['Ship_Month']=ship_df['Ship_Date'].dt.month\n",
    "ship_df['Ship_Month']"
   ]
  },
  {
   "cell_type": "code",
   "execution_count": 86,
   "metadata": {},
   "outputs": [
    {
     "data": {
      "text/plain": [
       "0       2010\n",
       "1       2012\n",
       "2       2012\n",
       "3       2011\n",
       "4       2010\n",
       "        ... \n",
       "7696    2010\n",
       "7697    2010\n",
       "7698    2011\n",
       "7699    2011\n",
       "7700    2009\n",
       "Name: Ship_Year, Length: 7701, dtype: int64"
      ]
     },
     "execution_count": 86,
     "metadata": {},
     "output_type": "execute_result"
    }
   ],
   "source": [
    "ship_df['Ship_Year']=ship_df['Ship_Date'].dt.year\n",
    "ship_df['Ship_Year']"
   ]
  },
  {
   "cell_type": "code",
   "execution_count": 87,
   "metadata": {
    "scrolled": true
   },
   "outputs": [
    {
     "data": {
      "text/html": [
       "<div>\n",
       "<style scoped>\n",
       "    .dataframe tbody tr th:only-of-type {\n",
       "        vertical-align: middle;\n",
       "    }\n",
       "\n",
       "    .dataframe tbody tr th {\n",
       "        vertical-align: top;\n",
       "    }\n",
       "\n",
       "    .dataframe thead th {\n",
       "        text-align: right;\n",
       "    }\n",
       "</style>\n",
       "<table border=\"1\" class=\"dataframe\">\n",
       "  <thead>\n",
       "    <tr style=\"text-align: right;\">\n",
       "      <th></th>\n",
       "      <th>Ord_id</th>\n",
       "      <th>Prod_id</th>\n",
       "      <th>Ship_id</th>\n",
       "      <th>Cust_id</th>\n",
       "      <th>Sales</th>\n",
       "      <th>Discount</th>\n",
       "      <th>Order_Quantity</th>\n",
       "      <th>Profit</th>\n",
       "      <th>Shipping_Cost</th>\n",
       "      <th>Product_Base_Margin</th>\n",
       "      <th>...</th>\n",
       "      <th>Order_Year</th>\n",
       "      <th>Customer_Name</th>\n",
       "      <th>Province</th>\n",
       "      <th>Region</th>\n",
       "      <th>Customer_Segment</th>\n",
       "      <th>Order_ID_y</th>\n",
       "      <th>Ship_Mode</th>\n",
       "      <th>Ship_Date</th>\n",
       "      <th>Ship_Month</th>\n",
       "      <th>Ship_Year</th>\n",
       "    </tr>\n",
       "  </thead>\n",
       "  <tbody>\n",
       "    <tr>\n",
       "      <td>0</td>\n",
       "      <td>Ord_5446</td>\n",
       "      <td>Prod_16</td>\n",
       "      <td>SHP_7609</td>\n",
       "      <td>Cust_1818</td>\n",
       "      <td>136.81</td>\n",
       "      <td>0.01</td>\n",
       "      <td>23</td>\n",
       "      <td>-30.51</td>\n",
       "      <td>3.60</td>\n",
       "      <td>0.56</td>\n",
       "      <td>...</td>\n",
       "      <td>2010</td>\n",
       "      <td>AARON BERGMAN</td>\n",
       "      <td>ALBERTA</td>\n",
       "      <td>WEST</td>\n",
       "      <td>CORPORATE</td>\n",
       "      <td>36262</td>\n",
       "      <td>REGULAR AIR</td>\n",
       "      <td>2010-07-28</td>\n",
       "      <td>7</td>\n",
       "      <td>2010</td>\n",
       "    </tr>\n",
       "    <tr>\n",
       "      <td>1</td>\n",
       "      <td>Ord_5446</td>\n",
       "      <td>Prod_4</td>\n",
       "      <td>SHP_7610</td>\n",
       "      <td>Cust_1818</td>\n",
       "      <td>4701.69</td>\n",
       "      <td>0.00</td>\n",
       "      <td>26</td>\n",
       "      <td>1148.90</td>\n",
       "      <td>2.50</td>\n",
       "      <td>0.59</td>\n",
       "      <td>...</td>\n",
       "      <td>2010</td>\n",
       "      <td>AARON BERGMAN</td>\n",
       "      <td>ALBERTA</td>\n",
       "      <td>WEST</td>\n",
       "      <td>CORPORATE</td>\n",
       "      <td>36262</td>\n",
       "      <td>EXPRESS AIR</td>\n",
       "      <td>2010-07-27</td>\n",
       "      <td>7</td>\n",
       "      <td>2010</td>\n",
       "    </tr>\n",
       "    <tr>\n",
       "      <td>2</td>\n",
       "      <td>Ord_5446</td>\n",
       "      <td>Prod_6</td>\n",
       "      <td>SHP_7608</td>\n",
       "      <td>Cust_1818</td>\n",
       "      <td>164.02</td>\n",
       "      <td>0.03</td>\n",
       "      <td>23</td>\n",
       "      <td>-47.64</td>\n",
       "      <td>6.15</td>\n",
       "      <td>0.37</td>\n",
       "      <td>...</td>\n",
       "      <td>2010</td>\n",
       "      <td>AARON BERGMAN</td>\n",
       "      <td>ALBERTA</td>\n",
       "      <td>WEST</td>\n",
       "      <td>CORPORATE</td>\n",
       "      <td>36262</td>\n",
       "      <td>EXPRESS AIR</td>\n",
       "      <td>2010-07-28</td>\n",
       "      <td>7</td>\n",
       "      <td>2010</td>\n",
       "    </tr>\n",
       "    <tr>\n",
       "      <td>3</td>\n",
       "      <td>Ord_5406</td>\n",
       "      <td>Prod_13</td>\n",
       "      <td>SHP_7549</td>\n",
       "      <td>Cust_1818</td>\n",
       "      <td>42.27</td>\n",
       "      <td>0.01</td>\n",
       "      <td>13</td>\n",
       "      <td>4.56</td>\n",
       "      <td>0.93</td>\n",
       "      <td>0.54</td>\n",
       "      <td>...</td>\n",
       "      <td>2009</td>\n",
       "      <td>AARON BERGMAN</td>\n",
       "      <td>ALBERTA</td>\n",
       "      <td>WEST</td>\n",
       "      <td>CORPORATE</td>\n",
       "      <td>20513</td>\n",
       "      <td>EXPRESS AIR</td>\n",
       "      <td>2009-08-07</td>\n",
       "      <td>8</td>\n",
       "      <td>2009</td>\n",
       "    </tr>\n",
       "    <tr>\n",
       "      <td>4</td>\n",
       "      <td>Ord_5456</td>\n",
       "      <td>Prod_6</td>\n",
       "      <td>SHP_7625</td>\n",
       "      <td>Cust_1818</td>\n",
       "      <td>2337.89</td>\n",
       "      <td>0.09</td>\n",
       "      <td>43</td>\n",
       "      <td>729.34</td>\n",
       "      <td>14.30</td>\n",
       "      <td>0.37</td>\n",
       "      <td>...</td>\n",
       "      <td>2010</td>\n",
       "      <td>AARON BERGMAN</td>\n",
       "      <td>ALBERTA</td>\n",
       "      <td>WEST</td>\n",
       "      <td>CORPORATE</td>\n",
       "      <td>39682</td>\n",
       "      <td>EXPRESS AIR</td>\n",
       "      <td>2010-11-11</td>\n",
       "      <td>11</td>\n",
       "      <td>2010</td>\n",
       "    </tr>\n",
       "    <tr>\n",
       "      <td>...</td>\n",
       "      <td>...</td>\n",
       "      <td>...</td>\n",
       "      <td>...</td>\n",
       "      <td>...</td>\n",
       "      <td>...</td>\n",
       "      <td>...</td>\n",
       "      <td>...</td>\n",
       "      <td>...</td>\n",
       "      <td>...</td>\n",
       "      <td>...</td>\n",
       "      <td>...</td>\n",
       "      <td>...</td>\n",
       "      <td>...</td>\n",
       "      <td>...</td>\n",
       "      <td>...</td>\n",
       "      <td>...</td>\n",
       "      <td>...</td>\n",
       "      <td>...</td>\n",
       "      <td>...</td>\n",
       "      <td>...</td>\n",
       "      <td>...</td>\n",
       "    </tr>\n",
       "    <tr>\n",
       "      <td>8394</td>\n",
       "      <td>Ord_973</td>\n",
       "      <td>Prod_8</td>\n",
       "      <td>SHP_1343</td>\n",
       "      <td>Cust_357</td>\n",
       "      <td>29.05</td>\n",
       "      <td>0.08</td>\n",
       "      <td>4</td>\n",
       "      <td>-20.90</td>\n",
       "      <td>4.32</td>\n",
       "      <td>0.64</td>\n",
       "      <td>...</td>\n",
       "      <td>2010</td>\n",
       "      <td>THEONE PIPPENGER</td>\n",
       "      <td>BRITISH COLUMBIA</td>\n",
       "      <td>WEST</td>\n",
       "      <td>CORPORATE</td>\n",
       "      <td>40259</td>\n",
       "      <td>EXPRESS AIR</td>\n",
       "      <td>2010-10-13</td>\n",
       "      <td>10</td>\n",
       "      <td>2010</td>\n",
       "    </tr>\n",
       "    <tr>\n",
       "      <td>8395</td>\n",
       "      <td>Ord_1832</td>\n",
       "      <td>Prod_8</td>\n",
       "      <td>SHP_2526</td>\n",
       "      <td>Cust_636</td>\n",
       "      <td>57.03</td>\n",
       "      <td>0.00</td>\n",
       "      <td>7</td>\n",
       "      <td>-31.38</td>\n",
       "      <td>3.52</td>\n",
       "      <td>0.68</td>\n",
       "      <td>...</td>\n",
       "      <td>2009</td>\n",
       "      <td>TOM PRESCOTT</td>\n",
       "      <td>NEWFOUNDLAND</td>\n",
       "      <td>ATLANTIC</td>\n",
       "      <td>SMALL BUSINESS</td>\n",
       "      <td>36230</td>\n",
       "      <td>REGULAR AIR</td>\n",
       "      <td>2009-10-06</td>\n",
       "      <td>10</td>\n",
       "      <td>2009</td>\n",
       "    </tr>\n",
       "    <tr>\n",
       "      <td>8396</td>\n",
       "      <td>Ord_2010</td>\n",
       "      <td>Prod_8</td>\n",
       "      <td>SHP_2748</td>\n",
       "      <td>Cust_760</td>\n",
       "      <td>282.58</td>\n",
       "      <td>0.10</td>\n",
       "      <td>36</td>\n",
       "      <td>21.68</td>\n",
       "      <td>1.99</td>\n",
       "      <td>0.52</td>\n",
       "      <td>...</td>\n",
       "      <td>2011</td>\n",
       "      <td>TRACY PODDAR</td>\n",
       "      <td>NOVA SCOTIA</td>\n",
       "      <td>ATLANTIC</td>\n",
       "      <td>CORPORATE</td>\n",
       "      <td>18534</td>\n",
       "      <td>EXPRESS AIR</td>\n",
       "      <td>2011-12-30</td>\n",
       "      <td>12</td>\n",
       "      <td>2011</td>\n",
       "    </tr>\n",
       "    <tr>\n",
       "      <td>8397</td>\n",
       "      <td>Ord_2988</td>\n",
       "      <td>Prod_14</td>\n",
       "      <td>SHP_4132</td>\n",
       "      <td>Cust_1105</td>\n",
       "      <td>9262.35</td>\n",
       "      <td>0.09</td>\n",
       "      <td>47</td>\n",
       "      <td>2787.59</td>\n",
       "      <td>24.49</td>\n",
       "      <td>0.46</td>\n",
       "      <td>...</td>\n",
       "      <td>2012</td>\n",
       "      <td>BECKY MARTIN</td>\n",
       "      <td>ONTARIO</td>\n",
       "      <td>ONTARIO</td>\n",
       "      <td>HOME OFFICE</td>\n",
       "      <td>23616</td>\n",
       "      <td>REGULAR AIR</td>\n",
       "      <td>2012-08-28</td>\n",
       "      <td>8</td>\n",
       "      <td>2012</td>\n",
       "    </tr>\n",
       "    <tr>\n",
       "      <td>8398</td>\n",
       "      <td>Ord_1096</td>\n",
       "      <td>Prod_14</td>\n",
       "      <td>SHP_1512</td>\n",
       "      <td>Cust_423</td>\n",
       "      <td>2222.61</td>\n",
       "      <td>0.02</td>\n",
       "      <td>3</td>\n",
       "      <td>196.08</td>\n",
       "      <td>24.49</td>\n",
       "      <td>0.41</td>\n",
       "      <td>...</td>\n",
       "      <td>2011</td>\n",
       "      <td>LYCORIS SAUNDERS</td>\n",
       "      <td>ONTARIO</td>\n",
       "      <td>ONTARIO</td>\n",
       "      <td>HOME OFFICE</td>\n",
       "      <td>38693</td>\n",
       "      <td>REGULAR AIR</td>\n",
       "      <td>2011-06-21</td>\n",
       "      <td>6</td>\n",
       "      <td>2011</td>\n",
       "    </tr>\n",
       "  </tbody>\n",
       "</table>\n",
       "<p>8399 rows × 26 columns</p>\n",
       "</div>"
      ],
      "text/plain": [
       "        Ord_id  Prod_id   Ship_id    Cust_id    Sales  Discount  \\\n",
       "0     Ord_5446  Prod_16  SHP_7609  Cust_1818   136.81      0.01   \n",
       "1     Ord_5446   Prod_4  SHP_7610  Cust_1818  4701.69      0.00   \n",
       "2     Ord_5446   Prod_6  SHP_7608  Cust_1818   164.02      0.03   \n",
       "3     Ord_5406  Prod_13  SHP_7549  Cust_1818    42.27      0.01   \n",
       "4     Ord_5456   Prod_6  SHP_7625  Cust_1818  2337.89      0.09   \n",
       "...        ...      ...       ...        ...      ...       ...   \n",
       "8394   Ord_973   Prod_8  SHP_1343   Cust_357    29.05      0.08   \n",
       "8395  Ord_1832   Prod_8  SHP_2526   Cust_636    57.03      0.00   \n",
       "8396  Ord_2010   Prod_8  SHP_2748   Cust_760   282.58      0.10   \n",
       "8397  Ord_2988  Prod_14  SHP_4132  Cust_1105  9262.35      0.09   \n",
       "8398  Ord_1096  Prod_14  SHP_1512   Cust_423  2222.61      0.02   \n",
       "\n",
       "      Order_Quantity   Profit  Shipping_Cost  Product_Base_Margin  ...  \\\n",
       "0                 23   -30.51           3.60                 0.56  ...   \n",
       "1                 26  1148.90           2.50                 0.59  ...   \n",
       "2                 23   -47.64           6.15                 0.37  ...   \n",
       "3                 13     4.56           0.93                 0.54  ...   \n",
       "4                 43   729.34          14.30                 0.37  ...   \n",
       "...              ...      ...            ...                  ...  ...   \n",
       "8394               4   -20.90           4.32                 0.64  ...   \n",
       "8395               7   -31.38           3.52                 0.68  ...   \n",
       "8396              36    21.68           1.99                 0.52  ...   \n",
       "8397              47  2787.59          24.49                 0.46  ...   \n",
       "8398               3   196.08          24.49                 0.41  ...   \n",
       "\n",
       "     Order_Year     Customer_Name          Province    Region  \\\n",
       "0          2010     AARON BERGMAN           ALBERTA      WEST   \n",
       "1          2010     AARON BERGMAN           ALBERTA      WEST   \n",
       "2          2010     AARON BERGMAN           ALBERTA      WEST   \n",
       "3          2009     AARON BERGMAN           ALBERTA      WEST   \n",
       "4          2010     AARON BERGMAN           ALBERTA      WEST   \n",
       "...         ...               ...               ...       ...   \n",
       "8394       2010  THEONE PIPPENGER  BRITISH COLUMBIA      WEST   \n",
       "8395       2009      TOM PRESCOTT      NEWFOUNDLAND  ATLANTIC   \n",
       "8396       2011      TRACY PODDAR       NOVA SCOTIA  ATLANTIC   \n",
       "8397       2012      BECKY MARTIN           ONTARIO   ONTARIO   \n",
       "8398       2011  LYCORIS SAUNDERS           ONTARIO   ONTARIO   \n",
       "\n",
       "     Customer_Segment  Order_ID_y    Ship_Mode  Ship_Date Ship_Month Ship_Year  \n",
       "0           CORPORATE       36262  REGULAR AIR 2010-07-28          7      2010  \n",
       "1           CORPORATE       36262  EXPRESS AIR 2010-07-27          7      2010  \n",
       "2           CORPORATE       36262  EXPRESS AIR 2010-07-28          7      2010  \n",
       "3           CORPORATE       20513  EXPRESS AIR 2009-08-07          8      2009  \n",
       "4           CORPORATE       39682  EXPRESS AIR 2010-11-11         11      2010  \n",
       "...               ...         ...          ...        ...        ...       ...  \n",
       "8394        CORPORATE       40259  EXPRESS AIR 2010-10-13         10      2010  \n",
       "8395   SMALL BUSINESS       36230  REGULAR AIR 2009-10-06         10      2009  \n",
       "8396        CORPORATE       18534  EXPRESS AIR 2011-12-30         12      2011  \n",
       "8397      HOME OFFICE       23616  REGULAR AIR 2012-08-28          8      2012  \n",
       "8398      HOME OFFICE       38693  REGULAR AIR 2011-06-21          6      2011  \n",
       "\n",
       "[8399 rows x 26 columns]"
      ]
     },
     "execution_count": 87,
     "metadata": {},
     "output_type": "execute_result"
    }
   ],
   "source": [
    "# Merge comb_data and ord_df and write the reslut into comb_data\n",
    "comb_data=pd.merge(comb_data,ship_df,left_on='Ship_id',right_on='Ship_id')\n",
    "comb_data"
   ]
  },
  {
   "cell_type": "code",
   "execution_count": 88,
   "metadata": {},
   "outputs": [
    {
     "data": {
      "text/plain": [
       "(8399, 26)"
      ]
     },
     "execution_count": 88,
     "metadata": {},
     "output_type": "execute_result"
    }
   ],
   "source": [
    "# check the number of rows and columns in comb_data.\n",
    "comb_data.shape"
   ]
  },
  {
   "cell_type": "code",
   "execution_count": 91,
   "metadata": {},
   "outputs": [
    {
     "data": {
      "text/plain": [
       "2009    2141\n",
       "2010    2134\n",
       "2012    2112\n",
       "2011    2012\n",
       "Name: Ship_Year, dtype: int64"
      ]
     },
     "execution_count": 91,
     "metadata": {},
     "output_type": "execute_result"
    }
   ],
   "source": [
    "# In the comb_data check the value counts for \"Ship_Year\"\n",
    "comb_data.Ship_Year.value_counts()"
   ]
  },
  {
   "cell_type": "code",
   "execution_count": 92,
   "metadata": {
    "collapsed": true
   },
   "outputs": [
    {
     "name": "stderr",
     "output_type": "stream",
     "text": [
      "C:\\Users\\Krish\\AppData\\Local\\Continuum\\anaconda3\\lib\\site-packages\\ipykernel_launcher.py:2: FutureWarning: \n",
      "The current behaviour of 'Series.argmax' is deprecated, use 'idxmax'\n",
      "instead.\n",
      "The behavior of 'argmax' will be corrected to return the positional\n",
      "maximum in the future. For now, use 'series.values.argmax' or\n",
      "'np.argmax(np.array(values))' to get the position of the maximum\n",
      "row.\n",
      "  \n"
     ]
    },
    {
     "data": {
      "text/plain": [
       "2009"
      ]
     },
     "execution_count": 92,
     "metadata": {},
     "output_type": "execute_result"
    }
   ],
   "source": [
    "# In which Year the customer have Highest no of Shippings\n",
    "comb_data.Ship_Year.value_counts().argmax()"
   ]
  },
  {
   "cell_type": "code",
   "execution_count": 93,
   "metadata": {
    "collapsed": true
   },
   "outputs": [
    {
     "name": "stderr",
     "output_type": "stream",
     "text": [
      "C:\\Users\\Krish\\AppData\\Local\\Continuum\\anaconda3\\lib\\site-packages\\ipykernel_launcher.py:1: FutureWarning: \n",
      "The current behaviour of 'Series.argmax' is deprecated, use 'idxmax'\n",
      "instead.\n",
      "The behavior of 'argmax' will be corrected to return the positional\n",
      "maximum in the future. For now, use 'series.values.argmax' or\n",
      "'np.argmax(np.array(values))' to get the position of the maximum\n",
      "row.\n",
      "  \"\"\"Entry point for launching an IPython kernel.\n"
     ]
    },
    {
     "data": {
      "text/plain": [
       "2009"
      ]
     },
     "execution_count": 93,
     "metadata": {},
     "output_type": "execute_result"
    }
   ],
   "source": [
    "comb_data.Ship_Year.value_counts().argmax()"
   ]
  },
  {
   "cell_type": "code",
   "execution_count": 94,
   "metadata": {
    "collapsed": true
   },
   "outputs": [
    {
     "data": {
      "text/plain": [
       "5     772\n",
       "12    731\n",
       "8     730\n",
       "9     720\n",
       "7     706\n",
       "11    703\n",
       "3     695\n",
       "1     684\n",
       "6     682\n",
       "4     674\n",
       "10    665\n",
       "2     637\n",
       "Name: Ship_Month, dtype: int64"
      ]
     },
     "execution_count": 94,
     "metadata": {},
     "output_type": "execute_result"
    }
   ],
   "source": [
    "# In the comb_data check the value counts for Ship_Month\n",
    "comb_data.Ship_Month.value_counts()"
   ]
  },
  {
   "cell_type": "code",
   "execution_count": 95,
   "metadata": {
    "collapsed": true
   },
   "outputs": [
    {
     "name": "stderr",
     "output_type": "stream",
     "text": [
      "C:\\Users\\Krish\\AppData\\Local\\Continuum\\anaconda3\\lib\\site-packages\\ipykernel_launcher.py:2: FutureWarning: \n",
      "The current behaviour of 'Series.argmax' is deprecated, use 'idxmax'\n",
      "instead.\n",
      "The behavior of 'argmax' will be corrected to return the positional\n",
      "maximum in the future. For now, use 'series.values.argmax' or\n",
      "'np.argmax(np.array(values))' to get the position of the maximum\n",
      "row.\n",
      "  \n"
     ]
    },
    {
     "data": {
      "text/plain": [
       "2009"
      ]
     },
     "execution_count": 95,
     "metadata": {},
     "output_type": "execute_result"
    }
   ],
   "source": [
    "# In which Month the customer have Highest no of Shippings\n",
    "comb_data.Ship_Year.value_counts().argmax()"
   ]
  },
  {
   "cell_type": "code",
   "execution_count": 96,
   "metadata": {
    "collapsed": true
   },
   "outputs": [
    {
     "data": {
      "text/plain": [
       "0        1 days\n",
       "1        0 days\n",
       "2        1 days\n",
       "3       31 days\n",
       "4       61 days\n",
       "         ...   \n",
       "8394   -58 days\n",
       "8395     0 days\n",
       "8396     0 days\n",
       "8397     0 days\n",
       "8398     7 days\n",
       "Name: Duration, Length: 8399, dtype: timedelta64[ns]"
      ]
     },
     "execution_count": 96,
     "metadata": {},
     "output_type": "execute_result"
    }
   ],
   "source": [
    "# Create a new columns \"Duration\" which the diffenence b/n Ship_Date and Order_Date \n",
    "comb_data['Duration']=comb_data['Ship_Date']-comb_data['Order_Date']\n",
    "comb_data['Duration']"
   ]
  },
  {
   "cell_type": "code",
   "execution_count": 97,
   "metadata": {
    "collapsed": true
   },
   "outputs": [
    {
     "data": {
      "text/plain": [
       "Ord_id                               Ord_973\n",
       "Prod_id                               Prod_8\n",
       "Ship_id                             SHP_1343\n",
       "Cust_id                             Cust_357\n",
       "Sales                                  29.05\n",
       "Discount                                0.08\n",
       "Order_Quantity                             4\n",
       "Profit                                 -20.9\n",
       "Shipping_Cost                           4.32\n",
       "Product_Base_Margin                     0.64\n",
       "Product_Category                  TECHNOLOGY\n",
       "Product_Sub_Category    COMPUTER PERIPHERALS\n",
       "Order_ID_x                             40259\n",
       "Order_Date               2010-12-10 00:00:00\n",
       "Order_Priority                        MEDIUM\n",
       "Order_Month                               12\n",
       "Order_Year                              2010\n",
       "Customer_Name               THEONE PIPPENGER\n",
       "Province                    BRITISH COLUMBIA\n",
       "Region                                  WEST\n",
       "Customer_Segment                   CORPORATE\n",
       "Order_ID_y                             40259\n",
       "Ship_Mode                        EXPRESS AIR\n",
       "Ship_Date                2010-10-13 00:00:00\n",
       "Ship_Month                                10\n",
       "Ship_Year                               2010\n",
       "Duration                  -58 days +00:00:00\n",
       "Name: 8394, dtype: object"
      ]
     },
     "execution_count": 97,
     "metadata": {},
     "output_type": "execute_result"
    }
   ],
   "source": [
    "comb_data.iloc[8394]"
   ]
  },
  {
   "cell_type": "code",
   "execution_count": 98,
   "metadata": {},
   "outputs": [],
   "source": [
    "# Write the final Data into master.csv file\n",
    "comb_data.to_csv('data\\\\global_sales_data\\\\master.csv')"
   ]
  },
  {
   "cell_type": "code",
   "execution_count": null,
   "metadata": {},
   "outputs": [],
   "source": []
  }
 ],
 "metadata": {
  "kernelspec": {
   "display_name": "Python 3",
   "language": "python",
   "name": "python3"
  },
  "language_info": {
   "codemirror_mode": {
    "name": "ipython",
    "version": 3
   },
   "file_extension": ".py",
   "mimetype": "text/x-python",
   "name": "python",
   "nbconvert_exporter": "python",
   "pygments_lexer": "ipython3",
   "version": "3.7.4"
  }
 },
 "nbformat": 4,
 "nbformat_minor": 2
}
